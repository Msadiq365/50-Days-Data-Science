{
 "cells": [
  {
   "cell_type": "markdown",
   "id": "131b6d60-fdaf-4265-9589-01f7c1710dc2",
   "metadata": {},
   "source": [
    "## Day 10 of 100 Days Data Science Bootcamp from noob to expert."
   ]
  },
  {
   "cell_type": "markdown",
   "id": "40f5d1a7-3533-4ada-9624-145639047826",
   "metadata": {},
   "source": [
    "## Recap Day 9\n",
    "\n",
    "Yesterday we have studied in detail about statistics Python.\n",
    "\n",
    "## Let's Start"
   ]
  },
  {
   "cell_type": "markdown",
   "id": "dfbc58e4-2031-4454-9f81-a41dd8c403e5",
   "metadata": {},
   "source": [
    "## Probability"
   ]
  },
  {
   "cell_type": "markdown",
   "id": "447f0b02-80d4-4472-bd3b-c6cdd9754adf",
   "metadata": {},
   "source": [
    "Probability is the measure of the likelihood of an event occurring. It is a number between 0 and 1, with 0 indicating that an event will never happen and 1 indicating that an event will always happen. For example, the probability of flipping a coin and getting heads is 0.5 because there is a 50% chance of getting heads."
   ]
  },
  {
   "cell_type": "markdown",
   "id": "46124f3f-feb0-4bfc-8952-9aeb89b8f966",
   "metadata": {},
   "source": [
    "#### Example: \n",
    "The probability of rolling a 6 on a fair die is 1/6 because there is only 1 favorable outcome (rolling a 6) out of 6 possible outcomes (rolling a 1, 2, 3, 4, 5, or 6).\n",
    "\n"
   ]
  },
  {
   "cell_type": "code",
   "execution_count": 1,
   "id": "33f9da72-0cc5-4eb6-a959-baa36e675dd4",
   "metadata": {},
   "outputs": [
    {
     "name": "stdout",
     "output_type": "stream",
     "text": [
      "0.16666666666666666\n"
     ]
    }
   ],
   "source": [
    "# Calculation of probability of rolling a 6 on a fair die\n",
    "p = 1/6\n",
    "print(p)\n"
   ]
  },
  {
   "cell_type": "markdown",
   "id": "f195ba0c-3f46-4373-ab15-cdb3d80e662a",
   "metadata": {},
   "source": [
    "## Random Variable \n",
    "\n",
    "A random variable is a variable that can take on different values based on the outcome of a random event. For example, the number of heads obtained in a coin flip is a random variable because it can take on different values (0, 1, 2, etc.) depending on the outcome of the coin flip."
   ]
  },
  {
   "cell_type": "markdown",
   "id": "ff7b8e6b-99b9-476a-afe8-1ff976713049",
   "metadata": {},
   "source": [
    "Example: The number of heads obtained in a coin flip is a random variable because it can take on different values (0, 1, 2, etc.) depending on the outcome of the coin flip.\n",
    "\n"
   ]
  },
  {
   "cell_type": "code",
   "execution_count": 2,
   "id": "f5055146-ae3f-4ee8-a73a-2e4558c95235",
   "metadata": {},
   "outputs": [
    {
     "name": "stdout",
     "output_type": "stream",
     "text": [
      "['heads' 'tails' 'tails' 'heads' 'tails' 'tails' 'tails' 'tails' 'tails'\n",
      " 'tails']\n"
     ]
    }
   ],
   "source": [
    "# Creating a list of outcomes for a coin flip\n",
    "outcomes = ['heads', 'tails']\n",
    "\n",
    "# Using numpy's random.choice to simulate a coin flip 10 times\n",
    "import numpy as np\n",
    "np.random.seed(0)\n",
    "results = np.random.choice(outcomes, size=10, replace=True)\n",
    "print(results)\n"
   ]
  },
  {
   "cell_type": "markdown",
   "id": "0e48c2a9-5593-418b-937d-9708422f0a77",
   "metadata": {},
   "source": [
    "## calculating Probability\n",
    "\n",
    "Calculating probability is done by counting the number of favorable outcomes and dividing it by the total number of possible outcomes. For example, if we want to find the probability of flipping a coin and getting heads, we would count the number of heads (1) and divide it by the total number of possible outcomes (2, heads or tails)."
   ]
  },
  {
   "cell_type": "markdown",
   "id": "8173ccd1-39eb-4a3d-843a-34b517ec4903",
   "metadata": {},
   "source": [
    "Example: If we want to find the probability of flipping a coin and getting heads, we would count the number of heads (4) and divide it by the total number of possible outcomes (10)."
   ]
  },
  {
   "cell_type": "code",
   "execution_count": 3,
   "id": "ffc56ca6-f735-4d3d-a462-00a2c9412f0f",
   "metadata": {},
   "outputs": [
    {
     "name": "stdout",
     "output_type": "stream",
     "text": [
      "0.2\n"
     ]
    }
   ],
   "source": [
    "# Counting the number of heads in the simulated coin flip results\n",
    "num_heads = sum(results == 'heads')\n",
    "\n",
    "# Calculating the probability of getting heads\n",
    "p = num_heads/len(results)\n",
    "print(p)\n"
   ]
  },
  {
   "cell_type": "markdown",
   "id": "f8aab6cc-706f-4681-8488-e6c6990c7f02",
   "metadata": {},
   "source": [
    "## Binomial Distribution\n",
    "\n",
    "The binomial distribution is a probability distribution that describes the number of successes in a fixed number of trials. For example, if we were to flip a coin 10 times, the binomial distribution would describe the probability of getting a certain number of heads in those 10 flips. In R, we can use the function \"dbinom\" to calculate the probability of a specific number of successes in a fixed number of trials."
   ]
  },
  {
   "cell_type": "markdown",
   "id": "4641ad57-5cda-4394-8d49-cb1ef695f44e",
   "metadata": {},
   "source": [
    "Example: If we were to flip a coin 10 times, the binomial distribution would describe the probability of getting a certain number of heads in those 10 flips.\n",
    "\n"
   ]
  },
  {
   "cell_type": "code",
   "execution_count": 4,
   "id": "eeb501fc-17cc-44e7-88c8-11bdd3de50cd",
   "metadata": {},
   "outputs": [
    {
     "name": "stdout",
     "output_type": "stream",
     "text": [
      "0.2050781249999999\n"
     ]
    }
   ],
   "source": [
    "# Using scipy's binom.pmf to calculate the probability of getting 4 heads in 10 coin flips\n",
    "from scipy.stats import binom\n",
    "p = binom.pmf(4, 10, 0.5)\n",
    "print(p)\n"
   ]
  },
  {
   "cell_type": "markdown",
   "id": "3f0c1e69-4447-40da-ba79-30751b9b52f6",
   "metadata": {},
   "source": [
    "## Continuous Random variable\n",
    "\n",
    "A continuous random variable is a random variable that can take on any value within a given range, rather than just discrete values. For example, the height of a person is a continuous random variable because it can take on any value within a certain range (e.g. between 1 and 7 feet)."
   ]
  },
  {
   "cell_type": "markdown",
   "id": "6ba8adee-39f6-4454-9f4b-927ba8184b49",
   "metadata": {},
   "source": [
    "Example: The height of a person is a continuous random variable because it can take on any value within a certain range (e.g. between 1 and 7 feet)."
   ]
  },
  {
   "cell_type": "code",
   "execution_count": 5,
   "id": "aec6aa31-1625-447c-b0a2-5e7dae7d5217",
   "metadata": {},
   "outputs": [
    {
     "data": {
      "image/png": "[encoded data removed]",
      "text/plain": [
       "<Figure size 640x480 with 1 Axes>"
      ]
     },
     "metadata": {},
     "output_type": "display_data"
    }
   ],
   "source": [
    "# Generating a random sample of heights using numpy's random.normal\n",
    "np.random.seed(0)\n",
    "heights = np.random.normal(loc=5, scale=1, size=100)\n",
    "\n",
    "# Plotting the distribution of heights using matplotlib\n",
    "import matplotlib.pyplot as plt\n",
    "plt.hist(heights, bins=20)\n",
    "plt.xlabel('Height (feet)')\n",
    "plt.ylabel('Count')\n",
    "plt.show()\n"
   ]
  },
  {
   "cell_type": "markdown",
   "id": "636b8af2-ae6a-40c3-98b1-798f43842814",
   "metadata": {},
   "source": [
    "## Central Limit Theorem:\n",
    "\n",
    "The Central Limit Theorem states that the distribution of the mean of a large number of random variables will be approximately normal, regardless of the distribution of the individual random variables. For example, if we were to take the average of 100 coin flips, the Central Limit Theorem tells us that this average will be normally distributed, even though the individual coin flips may not be."
   ]
  },
  {
   "cell_type": "markdown",
   "id": "7709c52b-4211-4acb-a896-b482b23b18a6",
   "metadata": {},
   "source": [
    "Example: If we were to take the average of 100 coin flips, the Central Limit Theorem tells us that this average will be normally distributed, even though the individual coin flips may not be."
   ]
  },
  {
   "cell_type": "code",
   "execution_count": 9,
   "id": "d62bf99b-6e42-48b5-a84f-6d0db15daaae",
   "metadata": {},
   "outputs": [
    {
     "data": {
      "image/png": "[encoded data removed]",
      "text/plain": [
       "<Figure size 640x480 with 1 Axes>"
      ]
     },
     "metadata": {},
     "output_type": "display_data"
    }
   ],
   "source": [
    "import numpy as np\n",
    "import matplotlib.pyplot as plt\n",
    "from scipy.stats import norm\n",
    "\n",
    "# Generating 1000 sets of 100 coin flips using numpy's random.choice\n",
    "np.random.seed(0)\n",
    "outcomes = [0, 1]\n",
    "flips = np.random.choice(outcomes, size=(1000, 100), replace=True)\n",
    "averages = flips.mean(axis=1)\n",
    "\n",
    "# Plotting the distribution of averages using matplotlib\n",
    "mu, std = norm.fit(averages)\n",
    "plt.hist(averages, bins=20, density=True, alpha=0.6, color='blue', label='Sample Means')\n",
    "x = np.linspace(0, 1, 100)\n",
    "plt.plot(x, norm.pdf(x, mu, std), 'r-', lw=2, label='Normal Distribution')\n",
    "plt.xlabel('Probability of Heads')\n",
    "plt.ylabel('Count')\n",
    "plt.legend()\n",
    "plt.show()\n"
   ]
  },
  {
   "cell_type": "markdown",
   "id": "07e45a50-c6e8-41a2-aeb3-03fd8d341366",
   "metadata": {},
   "source": [
    "## Normal Distribution:\n",
    "\n",
    "The normal distribution, also known as the Gaussian distribution, is a continuous probability distribution that is symmetric around the mean. It is commonly used to model real-world data, such as test scores or blood pressure levels. In R, we can use the function \"dnorm\" to calculate the probability density of a specific value within a normal distribution.\n",
    "\n",
    "\n",
    "Example: We can use the normal distribution to model test scores, with a mean of 75 and a standard deviation of 10."
   ]
  },
  {
   "cell_type": "code",
   "execution_count": 10,
   "id": "02933c80-8d11-4c22-8957-2630eb03851e",
   "metadata": {},
   "outputs": [
    {
     "name": "stdout",
     "output_type": "stream",
     "text": [
      "0.03520653267642995\n"
     ]
    }
   ],
   "source": [
    "# Using scipy's norm.pdf to calculate the probability density of a score of 80 in a normal distribution with mu=75 and std=10\n",
    "from scipy.stats import norm\n",
    "p = norm.pdf(80, 75, 10)\n",
    "print(p)\n"
   ]
  },
  {
   "cell_type": "markdown",
   "id": "e5df18b6-776f-4eec-8fef-99f6782a305e",
   "metadata": {},
   "source": [
    "## Z-scores:\n",
    "\n",
    "Z-scores are used to standardize a value within a normal distribution, allowing for comparison between different data sets. A z-score is calculated by subtracting the mean of the distribution from a specific value and dividing by the standard deviation. In R, we can use the function \"scale\" to calculate the z-score of a value within a data set.\n",
    "\n",
    "\n",
    "Example: We can use the scipy's stats.zscore function to calculate the z-score of a value within a data set, such as finding the z-score of a test score of 80 in the example above.\n",
    "\n",
    "\n"
   ]
  },
  {
   "cell_type": "code",
   "execution_count": 12,
   "id": "b420756d-3e37-44e1-8b3c-96c935b85c5b",
   "metadata": {},
   "outputs": [
    {
     "name": "stdout",
     "output_type": "stream",
     "text": [
      "-0.3000028431476816\n"
     ]
    }
   ],
   "source": [
    "from scipy.stats import zscore\n",
    "\n",
    "scores = np.random.normal(75, 10, 100)\n",
    "\n",
    "#Calculating the z-score of a test score of 80 \n",
    "z = zscore(scores)[0]\n",
    "print(z)\n"
   ]
  },
  {
   "cell_type": "markdown",
   "id": "33e7bfb2-efb9-46f0-8fc4-c470cb61fa89",
   "metadata": {},
   "source": [
    "## Summary:\n",
    "This article provides an overview of the key concepts of probability and statistics in the context of machine learning and data science. It begins by defining probability and discussing the concept of random variables. The article then goes on to explain how to calculate probability and introduces the binomial distribution. It also covers the continuous random variable and the central limit theorem. Finally, the article discusses the normal distribution, z-scores and some open challenges in the field. The article aims to provide a comprehensive understanding of probability and statistics for machine learning and data science practitioners. It uses python to explain the concepts and provides examples and sample data."
   ]
  }
 ],
 "metadata": {
  "kernelspec": {
   "display_name": "Python 3 (ipykernel)",
   "language": "python",
   "name": "python3"
  },
  "language_info": {
   "codemirror_mode": {
    "name": "ipython",
    "version": 3
   },
   "file_extension": ".py",
   "mimetype": "text/x-python",
   "name": "python",
   "nbconvert_exporter": "python",
   "pygments_lexer": "ipython3",
   "version": "3.9.15"
  }
 },
 "nbformat": 4,
 "nbformat_minor": 5
}

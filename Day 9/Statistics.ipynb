{
 "cells": [
  {
   "cell_type": "markdown",
   "id": "a773afc6-9ec2-4735-a6c6-931cc1eb707c",
   "metadata": {},
   "source": [
    "## Day 9 of 100 Days Data Science Bootcamp from noob to expert."
   ]
  },
  {
   "cell_type": "markdown",
   "id": "6479fb70-ed35-4aff-8475-add283830d09",
   "metadata": {},
   "source": [
    "## Recap Day 8\n",
    "\n",
    "Yesterday we have studied in detail about statistics Python.\n"
   ]
  },
  {
   "cell_type": "markdown",
   "id": "5cbeeb02-8fd1-4804-8ffb-508d30f39dc5",
   "metadata": {},
   "source": [
    "In today's data-driven world, understanding and working with data is an essential skill for businesses, researchers, and professionals of all backgrounds. One of the most powerful tools for data analysis is the Python programming language. With its powerful libraries, such as NumPy and pandas, Python provides a wide range of statistical and data analysis capabilities. In this article, we will explore some of the most important concepts in statistics, such as mean, median, mode, variance, and standard deviation, and learn how to use Python to calculate these values. We will also look at more advanced topics, such as percentiles, quartiles, and z-scores, and learn how to fill missing values and create new columns in a dataset. Whether you are a beginner or an experienced data analyst, this article will provide you with the knowledge and tools you need to work with data in Python."
   ]
  },
  {
   "cell_type": "markdown",
   "id": "22160535-15b9-4b74-995c-35b6d927dead",
   "metadata": {},
   "source": [
    "## Mean:\n",
    "The mean is the average value of a set of data. It is calculated by adding all the values in a set of data and then dividing by the number of values in the set. For example, if we have a set of data {1, 2, 3, 4, 5}, the mean would be (1 + 2 + 3 + 4 + 5) / 5 = 3.\n",
    "\n"
   ]
  },
  {
   "cell_type": "code",
   "execution_count": 1,
   "id": "73cdded9-4e32-40c6-9cec-2a92e9bf0d4a",
   "metadata": {},
   "outputs": [
    {
     "name": "stdout",
     "output_type": "stream",
     "text": [
      "Mean: 5.5\n"
     ]
    }
   ],
   "source": [
    "# Importing libraries\n",
    "import numpy as np\n",
    "\n",
    "# Creating a sample data set\n",
    "data = [1, 2, 3, 4, 5, 6, 7, 8, 9, 10]\n",
    "\n",
    "# Mean\n",
    "mean = np.mean(data)\n",
    "print(\"Mean:\", mean)"
   ]
  },
  {
   "cell_type": "markdown",
   "id": "dd4a526c-3a8a-4e74-a481-82af84b904f9",
   "metadata": {},
   "source": [
    "## Median: \n",
    "The median is the middle value of a set of data when it is arranged in numerical order. If the set has an odd number of values, the median is the middle value. If the set has an even number of values, the median is the average of the two middle values. For example, if we have a set of data {1, 2, 3, 4, 5}, the median would be 3.\n",
    "\n"
   ]
  },
  {
   "cell_type": "code",
   "execution_count": 2,
   "id": "20bf0e93-3236-4511-97f4-8b505808edd9",
   "metadata": {},
   "outputs": [
    {
     "name": "stdout",
     "output_type": "stream",
     "text": [
      "Median: 5.5\n"
     ]
    }
   ],
   "source": [
    "# Median\n",
    "median = np.median(data)\n",
    "print(\"Median:\", median)"
   ]
  },
  {
   "cell_type": "markdown",
   "id": "6813fb68-f9a0-4f3d-a9a4-924d4b1dc681",
   "metadata": {},
   "source": [
    "## Mode: \n",
    "The mode is the value that appears most frequently in a set of data. A set of data can have multiple modes or no mode at all. For example, if we have a set of data {1, 2, 2, 3, 4, 5}, the mode would be 2.\n",
    "\n"
   ]
  },
  {
   "cell_type": "code",
   "execution_count": 4,
   "id": "744f88bf-6d89-40e1-8cdb-9fa75cbab758",
   "metadata": {},
   "outputs": [
    {
     "name": "stdout",
     "output_type": "stream",
     "text": [
      "Mode: 1\n"
     ]
    }
   ],
   "source": [
    "# Mode\n",
    "import statistics as st\n",
    "mode = st.mode(data)\n",
    "print(\"Mode:\", mode)\n"
   ]
  },
  {
   "cell_type": "markdown",
   "id": "5efb3f14-b27a-4efc-9bd5-657d538819ba",
   "metadata": {},
   "source": [
    "## Range:\n",
    "The range is the difference between the highest and lowest values in a set of data. For example, if we have a set of data {1, 2, 3, 4, 5}, the range would be 5 - 1 = 4.\n"
   ]
  },
  {
   "cell_type": "code",
   "execution_count": 5,
   "id": "2f308d7e-3602-4af9-b68b-833868eeabe1",
   "metadata": {},
   "outputs": [
    {
     "name": "stdout",
     "output_type": "stream",
     "text": [
      "Range: 9\n"
     ]
    }
   ],
   "source": [
    "# Range\n",
    "range = np.ptp(data)\n",
    "print(\"Range:\", range)\n"
   ]
  },
  {
   "cell_type": "markdown",
   "id": "d57f1073-6f1a-4b77-a6de-688b921a2252",
   "metadata": {},
   "source": [
    "\n",
    "## Variance:\n",
    "The variance is a measure of how much the values in a set of data deviate from the mean. It is calculated by taking the sum of the squares of the differences between each value and the mean, and then dividing by the number of values in the set.\n"
   ]
  },
  {
   "cell_type": "code",
   "execution_count": 6,
   "id": "0b134e09-200a-4742-9b6e-cc4d5192901e",
   "metadata": {},
   "outputs": [
    {
     "name": "stdout",
     "output_type": "stream",
     "text": [
      "Variance: 8.25\n"
     ]
    }
   ],
   "source": [
    "# Variance\n",
    "variance = np.var(data)\n",
    "print(\"Variance:\", variance)\n"
   ]
  },
  {
   "cell_type": "markdown",
   "id": "fc35709c-4d15-497b-84c5-0e61a8dff511",
   "metadata": {},
   "source": [
    "\n",
    "## Standard deviation:\n",
    "The standard deviation is a measure of how spread out the values in a set of data are. It is calculated by taking the square root of the variance.\n"
   ]
  },
  {
   "cell_type": "code",
   "execution_count": 7,
   "id": "4e3bad18-0f77-46fb-b887-c80b635140a3",
   "metadata": {},
   "outputs": [
    {
     "name": "stdout",
     "output_type": "stream",
     "text": [
      "Standard deviation: 2.8722813232690143\n"
     ]
    }
   ],
   "source": [
    "# Standard deviation\n",
    "std_dev = np.std(data)\n",
    "print(\"Standard deviation:\", std_dev)\n"
   ]
  },
  {
   "cell_type": "markdown",
   "id": "cc537e00-f3fd-476b-aff9-9887346842f1",
   "metadata": {},
   "source": [
    "\n",
    "## Percentiles and quartiles:\n",
    "Percentiles and quartiles are measures of the distribution of a set of data. A percentile is a value that separates a set of data into 100 equal parts. A quartile is a value that separates a set of data into 4 equal parts.\n"
   ]
  },
  {
   "cell_type": "code",
   "execution_count": 8,
   "id": "c18cf47e-c299-4841-a88a-19125cbcdfc6",
   "metadata": {},
   "outputs": [
    {
     "name": "stdout",
     "output_type": "stream",
     "text": [
      "25th percentile: 3.25\n",
      "50th percentile (Median): 5.5\n",
      "75th percentile: 7.75\n"
     ]
    }
   ],
   "source": [
    "# Percentiles\n",
    "percentile = np.percentile(data, [25, 50, 75])\n",
    "print(\"25th percentile:\", percentile[0])\n",
    "print(\"50th percentile (Median):\", percentile[1])\n",
    "print(\"75th percentile:\", percentile[2])\n"
   ]
  },
  {
   "cell_type": "markdown",
   "id": "a41980dd-0f8c-4a24-b5a7-5b0f8211243e",
   "metadata": {},
   "source": [
    "\n",
    "## Z-scores: \n",
    "A z-score is a measure of how far away a value is from the mean in terms of standard deviations. It is calculated by taking the difference between a value and the mean, and then dividing by the standard deviation."
   ]
  },
  {
   "cell_type": "code",
   "execution_count": 9,
   "id": "be56fc7e-3393-4e8c-8f84-a3f2393e1c3c",
   "metadata": {},
   "outputs": [
    {
     "name": "stdout",
     "output_type": "stream",
     "text": [
      "Z-scores: [-1.5666989  -1.21854359 -0.87038828 -0.52223297 -0.17407766  0.17407766\n",
      "  0.52223297  0.87038828  1.21854359  1.5666989 ]\n"
     ]
    }
   ],
   "source": [
    "# Z-scores\n",
    "z_scores = (data - mean) / std_dev\n",
    "print(\"Z-scores:\", z_scores)"
   ]
  },
  {
   "cell_type": "markdown",
   "id": "9d1798df-416e-43c8-a1b2-be57aed77917",
   "metadata": {},
   "source": [
    "## Summary:\n",
    "\n",
    "The key concepts of statistics such as mean, median, mode, variance, standard deviation, percentiles, quartiles, and z-scores are explained in detail, along with examples of how to calculate these values using Python libraries such as NumPy and pandas. Additionally, the article also covers more advanced topics such as filling missing values and creating new columns in a dataset. The article is suitable for both beginners and experienced data analysts, providing them with the knowledge and tools they need to work with data in Python. The article provides sample data in CSV format which can be used to practice the concepts explained."
   ]
  }
 ],
 "metadata": {
  "kernelspec": {
   "display_name": "Python 3 (ipykernel)",
   "language": "python",
   "name": "python3"
  },
  "language_info": {
   "codemirror_mode": {
    "name": "ipython",
    "version": 3
   },
   "file_extension": ".py",
   "mimetype": "text/x-python",
   "name": "python",
   "nbconvert_exporter": "python",
   "pygments_lexer": "ipython3",
   "version": "3.9.15"
  }
 },
 "nbformat": 4,
 "nbformat_minor": 5
}

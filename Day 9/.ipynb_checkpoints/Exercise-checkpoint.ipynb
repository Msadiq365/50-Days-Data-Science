{
 "cells": [
  {
   "cell_type": "markdown",
   "id": "52034ef8-2695-4dfc-b2ad-452918177588",
   "metadata": {},
   "source": [
    "## Exercise"
   ]
  },
  {
   "cell_type": "markdown",
   "id": "c9ca7c1b-4a80-4b68-8cbf-d00a2dbb7563",
   "metadata": {},
   "source": [
    "1. Find the average salary of employees in a company.\n",
    "\n",
    "    * (Hint: Use the .mean() function to find the average salary of the employees)\n",
    "\n",
    "2. Find the median salary of employees in each department of a company.\n",
    "\n",
    "    * (Hint: Use the .groupby() function to group the data by department. \n",
    "    * Use the .median() function to find the median salary of employees in each department)\n",
    "\n",
    "3. Find the standard deviation of salary of employees in each department of a company, and identify the department with the highest standard deviation.\n",
    "    * Use the .groupby() function to group the data by department\n",
    "    * Use the .std() function to find the standard deviation of salary of employees in each department\n",
    "    * Use the .idxmax() function to find the department with the highest standard deviation.\n",
    "\n",
    "4. Fill in the missing values for the \"Age\" column in a dataset.\n",
    "    * Use the .fillna() function to fill in the missing values with the mean or median age of the employees\n",
    "    * Create a new column \"Bonus\" in a dataset, which is calculated as a percentage of an employee's salary.\n",
    "\n",
    "5. Create a new column \"Bonus\" in a dataset, which is calculated as a percentage of an employee's salary.\n",
    "    * Use the .assign() function to create a new column \"Bonus\" and assign the values as a percentage of the \"Salary\" column\n",
    "\n",
    "6. Create a new column \"Experience\" in a dataset, based on the \"Hire Date\" column.\n",
    "    * Use the .to_datetime() function to convert the \"Hire Date\" column to a datetime object\n",
    "    * Use the .assign() function to create a new column \"Experience\" and assign the values as the difference between the current date and the \"Hire Date\" column\n",
    "\n",
    "\n"
   ]
  },
  {
   "cell_type": "markdown",
   "id": "c58f45a5-3c3a-4600-a33a-d72a67b5f3a0",
   "metadata": {},
   "source": [
    "**Note: data is provided in employee.csv file**"
   ]
  }
 ],
 "metadata": {
  "kernelspec": {
   "display_name": "Python 3 (ipykernel)",
   "language": "python",
   "name": "python3"
  },
  "language_info": {
   "codemirror_mode": {
    "name": "ipython",
    "version": 3
   },
   "file_extension": ".py",
   "mimetype": "text/x-python",
   "name": "python",
   "nbconvert_exporter": "python",
   "pygments_lexer": "ipython3",
   "version": "3.9.15"
  }
 },
 "nbformat": 4,
 "nbformat_minor": 5
}

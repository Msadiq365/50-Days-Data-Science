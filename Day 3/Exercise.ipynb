{
 "cells": [
  {
   "cell_type": "markdown",
   "id": "70147af8-0130-423c-822b-f5c081aadfb2",
   "metadata": {},
   "source": [
    "## Practice question"
   ]
  },
  {
   "cell_type": "markdown",
   "id": "1cc78a2f-50b2-45ee-be39-203898482edc",
   "metadata": {},
   "source": [
    "#### 1. Write a Python class representing a two-dimensional point on a Cartesian plane. The class should have attributes x and y, and should have methods for calculating the distance to another point and a method for determining if a point is within a given distance of the origin.\n",
    "\n",
    "#### 2. Write a Python class representing a circle. The class should have an attribute representing the radius of the circle, and should have methods for calculating the circumference and area of the circle.\n",
    "\n",
    "#### 3. Write a Python class representing a rectangle. The class should have attributes for the length and width of the rectangle, and should have methods for calculating the perimeter and area of the rectangle.\n",
    "\n",
    "#### 4. Write a Python class representing an employee. The class should have attributes for the employee's name and salary, and should have methods for calculating the employee's annual raise and for returning a string representation of the employee.\n",
    "\n",
    "#### 5. Write a Python class representing a bank account. The class should have an attribute representing the balance of the account, and should have methods for depositing money, withdrawing money, and returning the current balance. The class should also have a method that checks if the balance is sufficient to cover a given withdrawal amount before allowing the withdrawal to be made."
   ]
  }
 ],
 "metadata": {
  "kernelspec": {
   "display_name": "Python 3 (ipykernel)",
   "language": "python",
   "name": "python3"
  },
  "language_info": {
   "codemirror_mode": {
    "name": "ipython",
    "version": 3
   },
   "file_extension": ".py",
   "mimetype": "text/x-python",
   "name": "python",
   "nbconvert_exporter": "python",
   "pygments_lexer": "ipython3",
   "version": "3.9.15"
  }
 },
 "nbformat": 4,
 "nbformat_minor": 5
}

{
 "cells": [
  {
   "cell_type": "markdown",
   "id": "7eba124c-a904-4e75-aecc-a5eb38ab1671",
   "metadata": {},
   "source": [
    "# Day 5 Exercise"
   ]
  },
  {
   "cell_type": "markdown",
   "id": "3c0aae10-7852-4844-b3ec-459fc5535f5c",
   "metadata": {},
   "source": [
    "## Level 1:\n",
    "\n",
    "1. Import the sample data (level1.csv) into a pandas DataFrame\n",
    "2. View the first 10 rows of the DataFrame\n",
    "3. Select only the 'Name' and 'Age' columns\n",
    "4. Group the data by 'Gender' and calculate the mean age for each group\n",
    "5. Create a bar plot showing the number of observations for each 'Occupation'"
   ]
  },
  {
   "cell_type": "markdown",
   "id": "e713beda-b30c-407d-a21e-8798a40f44fd",
   "metadata": {},
   "source": [
    "## Level 2:\n",
    "\n",
    "1. Import the sample data (level2.csv) into a pandas DataFrame\n",
    "2. Inspect the data types of each column\n",
    "3. Convert the 'Date' column to datetime objects\n",
    "4. Extract the month and year from the 'Date' column and create new columns for each\n",
    "5. Use the 'dropna()' method to drop all rows with missing values\n",
    "6. Create a scatter plot showing the relationship between 'Age' and 'Salary'"
   ]
  },
  {
   "cell_type": "markdown",
   "id": "230d7885-96f4-4dbf-90e2-b3dffe554d90",
   "metadata": {},
   "source": [
    "## Level 3:\n",
    "\n",
    "1. Import the sample data (level3_1.csv and level3_2.csv) into two pandas DataFrames (df1 and df2)\n",
    "2. Perform an outer join of the two DataFrames on the 'Name' column\n",
    "3. Create a new column in df1 called 'Total_Income' that is the sum of 'Salary' and 'Bonus'\n",
    "4. Use the 'pivot_table()' function to create a pivot table showing the average 'Total_Income' for each 'Occupation' and 'Gender'\n",
    "5. Use the 'resample()' method to resample the data to a monthly frequency and calculate the mean 'Total_Income' for each month\n",
    "6. Create a line plot showing the trend of 'Total_Income' over time"
   ]
  }
 ],
 "metadata": {
  "kernelspec": {
   "display_name": "Python 3 (ipykernel)",
   "language": "python",
   "name": "python3"
  },
  "language_info": {
   "codemirror_mode": {
    "name": "ipython",
    "version": 3
   },
   "file_extension": ".py",
   "mimetype": "text/x-python",
   "name": "python",
   "nbconvert_exporter": "python",
   "pygments_lexer": "ipython3",
   "version": "3.9.15"
  }
 },
 "nbformat": 4,
 "nbformat_minor": 5
}

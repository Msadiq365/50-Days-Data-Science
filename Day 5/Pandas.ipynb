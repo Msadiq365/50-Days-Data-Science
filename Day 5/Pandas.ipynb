{
 "cells": [
  {
   "cell_type": "markdown",
   "id": "2bc5bbcf-2cbc-4a71-991c-c2d54c9b3f6d",
   "metadata": {},
   "source": [
    "# Day 5 of 100 Days Data Science Bootcamp from noob to expert."
   ]
  },
  {
   "cell_type": "markdown",
   "id": "68353bc9-61af-4712-bf48-257c79371e7c",
   "metadata": {},
   "source": [
    "## Recap Day 3\n",
    "\n",
    "Yesterday we have studied in detail about OOPs in Python.\n"
   ]
  },
  {
   "cell_type": "markdown",
   "id": "97360382-d219-478b-a146-06d04d77c9d1",
   "metadata": {},
   "source": [
    "# Let's Start"
   ]
  },
  {
   "cell_type": "markdown",
   "id": "17e981f8-6777-4ed3-9fe4-69136a0227a7",
   "metadata": {},
   "source": [
    "Pandas is a powerful data analysis and manipulation library in Python. It allows you to easily access, select, and manipulate data in your dataset. In this post, you'll learn how to use Pandas to create a gradebook for tracking student grades. You'll learn how to read in data from a CSV file, manipulate the data, and create a report of the grades. You'll also learn how to handle missing values and prepare your data for visualization. By the end of this course, you'll be able to efficiently use Pandas to manage and analyze your data."
   ]
  },
  {
   "cell_type": "markdown",
   "id": "6906fc1d-6645-41df-856b-86e9473c7b39",
   "metadata": {},
   "source": [
    "**Let's say we have a dataset of student grades in a CSV file called \"grades.csv\". The first step in exploring this dataset with Pandas is to read it into a Pandas DataFrame. We can do this using the read_csv() function:**"
   ]
  },
  {
   "cell_type": "code",
   "execution_count": 2,
   "id": "483ceaff-b3fc-49e7-9a70-55343183998f",
   "metadata": {},
   "outputs": [
    {
     "data": {
      "text/html": [
       "<div>\n",
       "<style scoped>\n",
       "    .dataframe tbody tr th:only-of-type {\n",
       "        vertical-align: middle;\n",
       "    }\n",
       "\n",
       "    .dataframe tbody tr th {\n",
       "        vertical-align: top;\n",
       "    }\n",
       "\n",
       "    .dataframe thead th {\n",
       "        text-align: right;\n",
       "    }\n",
       "</style>\n",
       "<table border=\"1\" class=\"dataframe\">\n",
       "  <thead>\n",
       "    <tr style=\"text-align: right;\">\n",
       "      <th></th>\n",
       "      <th>name</th>\n",
       "      <th>grade</th>\n",
       "    </tr>\n",
       "  </thead>\n",
       "  <tbody>\n",
       "    <tr>\n",
       "      <th>0</th>\n",
       "      <td>John</td>\n",
       "      <td>89.0</td>\n",
       "    </tr>\n",
       "    <tr>\n",
       "      <th>1</th>\n",
       "      <td>Mary</td>\n",
       "      <td>95.0</td>\n",
       "    </tr>\n",
       "    <tr>\n",
       "      <th>2</th>\n",
       "      <td>Emily</td>\n",
       "      <td>77.0</td>\n",
       "    </tr>\n",
       "    <tr>\n",
       "      <th>3</th>\n",
       "      <td>Michael</td>\n",
       "      <td>82.0</td>\n",
       "    </tr>\n",
       "    <tr>\n",
       "      <th>4</th>\n",
       "      <td>Rachel</td>\n",
       "      <td>NaN</td>\n",
       "    </tr>\n",
       "  </tbody>\n",
       "</table>\n",
       "</div>"
      ],
      "text/plain": [
       "      name  grade\n",
       "0     John   89.0\n",
       "1     Mary   95.0\n",
       "2    Emily   77.0\n",
       "3  Michael   82.0\n",
       "4   Rachel    NaN"
      ]
     },
     "execution_count": 2,
     "metadata": {},
     "output_type": "execute_result"
    }
   ],
   "source": [
    "import pandas as pd\n",
    "\n",
    "df = pd.read_csv('grades.csv')\n",
    "df"
   ]
  },
  {
   "cell_type": "markdown",
   "id": "20e37099-b3a6-424e-bc5c-54ee6fd9ac92",
   "metadata": {},
   "source": [
    "* Now that we have our DataFrame, we can start exploring the data. Let's say we want to access the grades of a specific student. We can do this by selecting the row of the student and then selecting the 'grade' column:"
   ]
  },
  {
   "cell_type": "code",
   "execution_count": 4,
   "id": "e88c534a-daa8-49b0-8cf4-a4c044432bec",
   "metadata": {},
   "outputs": [
    {
     "name": "stdout",
     "output_type": "stream",
     "text": [
      "0    89.0\n",
      "Name: grade, dtype: float64\n"
     ]
    }
   ],
   "source": [
    "student_name = 'John'\n",
    "grade = df[df['name'] == student_name]['grade']\n",
    "print(grade)\n"
   ]
  },
  {
   "cell_type": "markdown",
   "id": "f6fcb6e2-3091-4466-97b2-e4c8a07f9f34",
   "metadata": {},
   "source": [
    "* We can also select a specific column by its label using the '[]' operator:"
   ]
  },
  {
   "cell_type": "code",
   "execution_count": 5,
   "id": "fb03b68a-f810-44d8-9d0d-896c317af361",
   "metadata": {},
   "outputs": [
    {
     "name": "stdout",
     "output_type": "stream",
     "text": [
      "0    89.0\n",
      "1    95.0\n",
      "2    77.0\n",
      "3    82.0\n",
      "4     NaN\n",
      "Name: grade, dtype: float64\n"
     ]
    }
   ],
   "source": [
    "grades = df['grade']\n",
    "print(grades)\n"
   ]
  },
  {
   "cell_type": "markdown",
   "id": "60319535-ac17-47b0-b036-2a2320afa69c",
   "metadata": {},
   "source": [
    "* If we want to select multiple columns, we can pass a list of column labels to the '[]' operator:"
   ]
  },
  {
   "cell_type": "code",
   "execution_count": 6,
   "id": "5ddf7462-7393-45ee-b9c5-5a7d07fea24c",
   "metadata": {},
   "outputs": [
    {
     "name": "stdout",
     "output_type": "stream",
     "text": [
      "      name  grade\n",
      "0     John   89.0\n",
      "1     Mary   95.0\n",
      "2    Emily   77.0\n",
      "3  Michael   82.0\n",
      "4   Rachel    NaN\n"
     ]
    }
   ],
   "source": [
    "student_info = df[['name', 'grade']]\n",
    "print(student_info)\n"
   ]
  },
  {
   "cell_type": "markdown",
   "id": "7a864ac9-17f8-4bd9-8213-e5a95834152d",
   "metadata": {},
   "source": [
    "* Now let's say we have some missing values in our dataset. We can handle these missing values using the fillna() function:"
   ]
  },
  {
   "cell_type": "code",
   "execution_count": 7,
   "id": "bdf38c1d-f075-4e65-9735-8d03599506ca",
   "metadata": {},
   "outputs": [
    {
     "data": {
      "text/html": [
       "<div>\n",
       "<style scoped>\n",
       "    .dataframe tbody tr th:only-of-type {\n",
       "        vertical-align: middle;\n",
       "    }\n",
       "\n",
       "    .dataframe tbody tr th {\n",
       "        vertical-align: top;\n",
       "    }\n",
       "\n",
       "    .dataframe thead th {\n",
       "        text-align: right;\n",
       "    }\n",
       "</style>\n",
       "<table border=\"1\" class=\"dataframe\">\n",
       "  <thead>\n",
       "    <tr style=\"text-align: right;\">\n",
       "      <th></th>\n",
       "      <th>name</th>\n",
       "      <th>grade</th>\n",
       "    </tr>\n",
       "  </thead>\n",
       "  <tbody>\n",
       "    <tr>\n",
       "      <th>0</th>\n",
       "      <td>John</td>\n",
       "      <td>89.0</td>\n",
       "    </tr>\n",
       "    <tr>\n",
       "      <th>1</th>\n",
       "      <td>Mary</td>\n",
       "      <td>95.0</td>\n",
       "    </tr>\n",
       "    <tr>\n",
       "      <th>2</th>\n",
       "      <td>Emily</td>\n",
       "      <td>77.0</td>\n",
       "    </tr>\n",
       "    <tr>\n",
       "      <th>3</th>\n",
       "      <td>Michael</td>\n",
       "      <td>82.0</td>\n",
       "    </tr>\n",
       "    <tr>\n",
       "      <th>4</th>\n",
       "      <td>Rachel</td>\n",
       "      <td>-1.0</td>\n",
       "    </tr>\n",
       "  </tbody>\n",
       "</table>\n",
       "</div>"
      ],
      "text/plain": [
       "      name  grade\n",
       "0     John   89.0\n",
       "1     Mary   95.0\n",
       "2    Emily   77.0\n",
       "3  Michael   82.0\n",
       "4   Rachel   -1.0"
      ]
     },
     "execution_count": 7,
     "metadata": {},
     "output_type": "execute_result"
    }
   ],
   "source": [
    "df = df.fillna(-1)\n",
    "df"
   ]
  },
  {
   "cell_type": "markdown",
   "id": "329d48d8-49a1-4c0f-8fa0-6cd2f6e73a81",
   "metadata": {},
   "source": [
    "This will replace all missing values with -1."
   ]
  },
  {
   "cell_type": "markdown",
   "id": "a671ffe6-a018-452e-9649-9e62183a8a68",
   "metadata": {},
   "source": [
    "#### This is basic overview of pandas. Now we will go deep dive into it."
   ]
  },
  {
   "cell_type": "markdown",
   "id": "d2680f62-4c23-4529-976c-5151ff687244",
   "metadata": {},
   "source": [
    "## 1. Importing and reading in data:"
   ]
  },
  {
   "cell_type": "markdown",
   "id": "66933632-8a7a-4aef-b638-00f576d0ea85",
   "metadata": {},
   "source": [
    "* read in data from a variety of sources, such as a CSV file:"
   ]
  },
  {
   "cell_type": "code",
   "execution_count": 16,
   "id": "bd305a5d-f45e-4b70-8ca9-f9adeff638d8",
   "metadata": {},
   "outputs": [
    {
     "data": {
      "text/html": [
       "<div>\n",
       "<style scoped>\n",
       "    .dataframe tbody tr th:only-of-type {\n",
       "        vertical-align: middle;\n",
       "    }\n",
       "\n",
       "    .dataframe tbody tr th {\n",
       "        vertical-align: top;\n",
       "    }\n",
       "\n",
       "    .dataframe thead th {\n",
       "        text-align: right;\n",
       "    }\n",
       "</style>\n",
       "<table border=\"1\" class=\"dataframe\">\n",
       "  <thead>\n",
       "    <tr style=\"text-align: right;\">\n",
       "      <th></th>\n",
       "      <th>Name</th>\n",
       "      <th>Age</th>\n",
       "      <th>Gender</th>\n",
       "    </tr>\n",
       "  </thead>\n",
       "  <tbody>\n",
       "    <tr>\n",
       "      <th>0</th>\n",
       "      <td>John</td>\n",
       "      <td>20</td>\n",
       "      <td>Male</td>\n",
       "    </tr>\n",
       "    <tr>\n",
       "      <th>1</th>\n",
       "      <td>Jane</td>\n",
       "      <td>30</td>\n",
       "      <td>Female</td>\n",
       "    </tr>\n",
       "    <tr>\n",
       "      <th>2</th>\n",
       "      <td>Bob</td>\n",
       "      <td>40</td>\n",
       "      <td>Male</td>\n",
       "    </tr>\n",
       "    <tr>\n",
       "      <th>3</th>\n",
       "      <td>Alice</td>\n",
       "      <td>50</td>\n",
       "      <td>Female</td>\n",
       "    </tr>\n",
       "  </tbody>\n",
       "</table>\n",
       "</div>"
      ],
      "text/plain": [
       "    Name  Age  Gender\n",
       "0   John   20    Male\n",
       "1   Jane   30  Female\n",
       "2    Bob   40    Male\n",
       "3  Alice   50  Female"
      ]
     },
     "execution_count": 16,
     "metadata": {},
     "output_type": "execute_result"
    }
   ],
   "source": [
    "import pandas as pd\n",
    "df = pd.read_csv('people_data.csv')\n",
    "df\n",
    "#Or a Excel file:\n",
    "\n",
    "# df = pd.read_excel('data.xlsx')\n"
   ]
  },
  {
   "cell_type": "markdown",
   "id": "e1c549c8-ee24-4a38-8f95-a9a44f49d39a",
   "metadata": {},
   "source": [
    "## 2. Inspecting data:"
   ]
  },
  {
   "cell_type": "markdown",
   "id": "4f974e74-b62f-47f9-a3c4-60b8e4fe53f9",
   "metadata": {},
   "source": [
    "Once you have your data in a pandas DataFrame, you can use various methods to inspect it. \n",
    "\n",
    "For example, you can view the first few rows of the data using the `head()` method:\n",
    "\n"
   ]
  },
  {
   "cell_type": "code",
   "execution_count": 17,
   "id": "cf3bb617-6ef9-402a-a6ba-0c119e9f518f",
   "metadata": {},
   "outputs": [
    {
     "data": {
      "text/html": [
       "<div>\n",
       "<style scoped>\n",
       "    .dataframe tbody tr th:only-of-type {\n",
       "        vertical-align: middle;\n",
       "    }\n",
       "\n",
       "    .dataframe tbody tr th {\n",
       "        vertical-align: top;\n",
       "    }\n",
       "\n",
       "    .dataframe thead th {\n",
       "        text-align: right;\n",
       "    }\n",
       "</style>\n",
       "<table border=\"1\" class=\"dataframe\">\n",
       "  <thead>\n",
       "    <tr style=\"text-align: right;\">\n",
       "      <th></th>\n",
       "      <th>Name</th>\n",
       "      <th>Age</th>\n",
       "      <th>Gender</th>\n",
       "    </tr>\n",
       "  </thead>\n",
       "  <tbody>\n",
       "    <tr>\n",
       "      <th>0</th>\n",
       "      <td>John</td>\n",
       "      <td>20</td>\n",
       "      <td>Male</td>\n",
       "    </tr>\n",
       "    <tr>\n",
       "      <th>1</th>\n",
       "      <td>Jane</td>\n",
       "      <td>30</td>\n",
       "      <td>Female</td>\n",
       "    </tr>\n",
       "    <tr>\n",
       "      <th>2</th>\n",
       "      <td>Bob</td>\n",
       "      <td>40</td>\n",
       "      <td>Male</td>\n",
       "    </tr>\n",
       "    <tr>\n",
       "      <th>3</th>\n",
       "      <td>Alice</td>\n",
       "      <td>50</td>\n",
       "      <td>Female</td>\n",
       "    </tr>\n",
       "  </tbody>\n",
       "</table>\n",
       "</div>"
      ],
      "text/plain": [
       "    Name  Age  Gender\n",
       "0   John   20    Male\n",
       "1   Jane   30  Female\n",
       "2    Bob   40    Male\n",
       "3  Alice   50  Female"
      ]
     },
     "execution_count": 17,
     "metadata": {},
     "output_type": "execute_result"
    }
   ],
   "source": [
    "df.head()\n"
   ]
  },
  {
   "cell_type": "markdown",
   "id": "2f50a816-aa7a-436c-a102-3fd35f819443",
   "metadata": {},
   "source": [
    "You can also view the column names and data types using the `info()` method:"
   ]
  },
  {
   "cell_type": "code",
   "execution_count": 18,
   "id": "651398fb-ab1f-4e24-932c-e1bcb5203229",
   "metadata": {},
   "outputs": [
    {
     "name": "stdout",
     "output_type": "stream",
     "text": [
      "<class 'pandas.core.frame.DataFrame'>\n",
      "RangeIndex: 4 entries, 0 to 3\n",
      "Data columns (total 3 columns):\n",
      " #   Column  Non-Null Count  Dtype \n",
      "---  ------  --------------  ----- \n",
      " 0   Name    4 non-null      object\n",
      " 1   Age     4 non-null      int64 \n",
      " 2   Gender  4 non-null      object\n",
      "dtypes: int64(1), object(2)\n",
      "memory usage: 224.0+ bytes\n"
     ]
    }
   ],
   "source": [
    "df.info()\n"
   ]
  },
  {
   "cell_type": "markdown",
   "id": "c618da7f-9899-4c4c-a759-a24e7dc5605e",
   "metadata": {},
   "source": [
    "## 3. Selecting data:"
   ]
  },
  {
   "cell_type": "markdown",
   "id": "089a4eba-e065-4679-9004-9de32acc8d26",
   "metadata": {},
   "source": [
    "You can select specific columns or rows of data using the `[]` operator or the `loc` and `iloc` attributes. \n",
    "\n",
    "For example, to select the \"Name\" and \"Age\" columns, you can use the following code:"
   ]
  },
  {
   "cell_type": "code",
   "execution_count": 19,
   "id": "5b7ac606-41fb-408c-94b2-3c7e09fedc49",
   "metadata": {},
   "outputs": [
    {
     "data": {
      "text/html": [
       "<div>\n",
       "<style scoped>\n",
       "    .dataframe tbody tr th:only-of-type {\n",
       "        vertical-align: middle;\n",
       "    }\n",
       "\n",
       "    .dataframe tbody tr th {\n",
       "        vertical-align: top;\n",
       "    }\n",
       "\n",
       "    .dataframe thead th {\n",
       "        text-align: right;\n",
       "    }\n",
       "</style>\n",
       "<table border=\"1\" class=\"dataframe\">\n",
       "  <thead>\n",
       "    <tr style=\"text-align: right;\">\n",
       "      <th></th>\n",
       "      <th>Name</th>\n",
       "      <th>Age</th>\n",
       "    </tr>\n",
       "  </thead>\n",
       "  <tbody>\n",
       "    <tr>\n",
       "      <th>0</th>\n",
       "      <td>John</td>\n",
       "      <td>20</td>\n",
       "    </tr>\n",
       "    <tr>\n",
       "      <th>1</th>\n",
       "      <td>Jane</td>\n",
       "      <td>30</td>\n",
       "    </tr>\n",
       "    <tr>\n",
       "      <th>2</th>\n",
       "      <td>Bob</td>\n",
       "      <td>40</td>\n",
       "    </tr>\n",
       "    <tr>\n",
       "      <th>3</th>\n",
       "      <td>Alice</td>\n",
       "      <td>50</td>\n",
       "    </tr>\n",
       "  </tbody>\n",
       "</table>\n",
       "</div>"
      ],
      "text/plain": [
       "    Name  Age\n",
       "0   John   20\n",
       "1   Jane   30\n",
       "2    Bob   40\n",
       "3  Alice   50"
      ]
     },
     "execution_count": 19,
     "metadata": {},
     "output_type": "execute_result"
    }
   ],
   "source": [
    "df[['Name', 'Age']]\n"
   ]
  },
  {
   "cell_type": "markdown",
   "id": "8fe3f6ec-6066-4645-812c-427d95b7b808",
   "metadata": {},
   "source": [
    "To select rows with a specific value in a certain column, you can use the `loc` attribute:"
   ]
  },
  {
   "cell_type": "code",
   "execution_count": 20,
   "id": "1787238f-7d6c-4fcf-92a6-bba67d7a97be",
   "metadata": {},
   "outputs": [
    {
     "data": {
      "text/html": [
       "<div>\n",
       "<style scoped>\n",
       "    .dataframe tbody tr th:only-of-type {\n",
       "        vertical-align: middle;\n",
       "    }\n",
       "\n",
       "    .dataframe tbody tr th {\n",
       "        vertical-align: top;\n",
       "    }\n",
       "\n",
       "    .dataframe thead th {\n",
       "        text-align: right;\n",
       "    }\n",
       "</style>\n",
       "<table border=\"1\" class=\"dataframe\">\n",
       "  <thead>\n",
       "    <tr style=\"text-align: right;\">\n",
       "      <th></th>\n",
       "      <th>Name</th>\n",
       "      <th>Age</th>\n",
       "      <th>Gender</th>\n",
       "    </tr>\n",
       "  </thead>\n",
       "  <tbody>\n",
       "    <tr>\n",
       "      <th>1</th>\n",
       "      <td>Jane</td>\n",
       "      <td>30</td>\n",
       "      <td>Female</td>\n",
       "    </tr>\n",
       "    <tr>\n",
       "      <th>3</th>\n",
       "      <td>Alice</td>\n",
       "      <td>50</td>\n",
       "      <td>Female</td>\n",
       "    </tr>\n",
       "  </tbody>\n",
       "</table>\n",
       "</div>"
      ],
      "text/plain": [
       "    Name  Age  Gender\n",
       "1   Jane   30  Female\n",
       "3  Alice   50  Female"
      ]
     },
     "execution_count": 20,
     "metadata": {},
     "output_type": "execute_result"
    }
   ],
   "source": [
    "df.loc[df['Gender'] == 'Female']\n"
   ]
  },
  {
   "cell_type": "markdown",
   "id": "3bb1b667-f70a-4d75-ae78-81adc97172ab",
   "metadata": {},
   "source": [
    "## 4. Manipulating data:"
   ]
  },
  {
   "cell_type": "markdown",
   "id": "0535e681-84f9-4fdb-9784-44c9beee9f8a",
   "metadata": {},
   "source": [
    "You can use various methods to manipulate data in a pandas DataFrame. \n",
    "\n",
    "For example, you can add a new column by assigning a value to a new column name:\n"
   ]
  },
  {
   "cell_type": "code",
   "execution_count": 22,
   "id": "a47f00df-f489-4343-908e-dd84449e2e76",
   "metadata": {},
   "outputs": [
    {
     "data": {
      "text/html": [
       "<div>\n",
       "<style scoped>\n",
       "    .dataframe tbody tr th:only-of-type {\n",
       "        vertical-align: middle;\n",
       "    }\n",
       "\n",
       "    .dataframe tbody tr th {\n",
       "        vertical-align: top;\n",
       "    }\n",
       "\n",
       "    .dataframe thead th {\n",
       "        text-align: right;\n",
       "    }\n",
       "</style>\n",
       "<table border=\"1\" class=\"dataframe\">\n",
       "  <thead>\n",
       "    <tr style=\"text-align: right;\">\n",
       "      <th></th>\n",
       "      <th>Name</th>\n",
       "      <th>Age</th>\n",
       "      <th>Gender</th>\n",
       "      <th>County</th>\n",
       "    </tr>\n",
       "  </thead>\n",
       "  <tbody>\n",
       "    <tr>\n",
       "      <th>0</th>\n",
       "      <td>John</td>\n",
       "      <td>20</td>\n",
       "      <td>Male</td>\n",
       "      <td>India</td>\n",
       "    </tr>\n",
       "    <tr>\n",
       "      <th>1</th>\n",
       "      <td>Jane</td>\n",
       "      <td>30</td>\n",
       "      <td>Female</td>\n",
       "      <td>USA</td>\n",
       "    </tr>\n",
       "    <tr>\n",
       "      <th>2</th>\n",
       "      <td>Bob</td>\n",
       "      <td>40</td>\n",
       "      <td>Male</td>\n",
       "      <td>India</td>\n",
       "    </tr>\n",
       "    <tr>\n",
       "      <th>3</th>\n",
       "      <td>Alice</td>\n",
       "      <td>50</td>\n",
       "      <td>Female</td>\n",
       "      <td>Canada</td>\n",
       "    </tr>\n",
       "  </tbody>\n",
       "</table>\n",
       "</div>"
      ],
      "text/plain": [
       "    Name  Age  Gender  County\n",
       "0   John   20    Male   India\n",
       "1   Jane   30  Female     USA\n",
       "2    Bob   40    Male   India\n",
       "3  Alice   50  Female  Canada"
      ]
     },
     "execution_count": 22,
     "metadata": {},
     "output_type": "execute_result"
    }
   ],
   "source": [
    "df['County'] = [\"India\", \"USA\", \"India\", \"Canada\"]\n",
    "df"
   ]
  },
  {
   "cell_type": "markdown",
   "id": "3940259e-1448-4cf6-a620-283076376106",
   "metadata": {},
   "source": [
    "You can also drop columns or rows using the `drop()` method:"
   ]
  },
  {
   "cell_type": "code",
   "execution_count": 25,
   "id": "1dafd068-eb54-4f0a-a0a5-a90bc2f421da",
   "metadata": {},
   "outputs": [
    {
     "data": {
      "text/html": [
       "<div>\n",
       "<style scoped>\n",
       "    .dataframe tbody tr th:only-of-type {\n",
       "        vertical-align: middle;\n",
       "    }\n",
       "\n",
       "    .dataframe tbody tr th {\n",
       "        vertical-align: top;\n",
       "    }\n",
       "\n",
       "    .dataframe thead th {\n",
       "        text-align: right;\n",
       "    }\n",
       "</style>\n",
       "<table border=\"1\" class=\"dataframe\">\n",
       "  <thead>\n",
       "    <tr style=\"text-align: right;\">\n",
       "      <th></th>\n",
       "      <th>Name</th>\n",
       "      <th>Age</th>\n",
       "      <th>Gender</th>\n",
       "    </tr>\n",
       "  </thead>\n",
       "  <tbody>\n",
       "    <tr>\n",
       "      <th>0</th>\n",
       "      <td>John</td>\n",
       "      <td>20</td>\n",
       "      <td>Male</td>\n",
       "    </tr>\n",
       "    <tr>\n",
       "      <th>1</th>\n",
       "      <td>Jane</td>\n",
       "      <td>30</td>\n",
       "      <td>Female</td>\n",
       "    </tr>\n",
       "    <tr>\n",
       "      <th>2</th>\n",
       "      <td>Bob</td>\n",
       "      <td>40</td>\n",
       "      <td>Male</td>\n",
       "    </tr>\n",
       "    <tr>\n",
       "      <th>3</th>\n",
       "      <td>Alice</td>\n",
       "      <td>50</td>\n",
       "      <td>Female</td>\n",
       "    </tr>\n",
       "  </tbody>\n",
       "</table>\n",
       "</div>"
      ],
      "text/plain": [
       "    Name  Age  Gender\n",
       "0   John   20    Male\n",
       "1   Jane   30  Female\n",
       "2    Bob   40    Male\n",
       "3  Alice   50  Female"
      ]
     },
     "execution_count": 25,
     "metadata": {},
     "output_type": "execute_result"
    }
   ],
   "source": [
    "newdf = df.drop('County', axis=1)  # drop a column\n",
    "newdf"
   ]
  },
  {
   "cell_type": "code",
   "execution_count": 28,
   "id": "7f11eb09-00c7-4fb1-a915-3b9180be2b8c",
   "metadata": {},
   "outputs": [],
   "source": [
    "newdf1 = df.drop(df[df['Age'] < 35].index, inplace=True)  # drop rows with Age < 18\n"
   ]
  },
  {
   "cell_type": "code",
   "execution_count": 29,
   "id": "7beed32c-b267-429f-b063-71cfeeae84a4",
   "metadata": {},
   "outputs": [
    {
     "data": {
      "text/html": [
       "<div>\n",
       "<style scoped>\n",
       "    .dataframe tbody tr th:only-of-type {\n",
       "        vertical-align: middle;\n",
       "    }\n",
       "\n",
       "    .dataframe tbody tr th {\n",
       "        vertical-align: top;\n",
       "    }\n",
       "\n",
       "    .dataframe thead th {\n",
       "        text-align: right;\n",
       "    }\n",
       "</style>\n",
       "<table border=\"1\" class=\"dataframe\">\n",
       "  <thead>\n",
       "    <tr style=\"text-align: right;\">\n",
       "      <th></th>\n",
       "      <th>Name</th>\n",
       "      <th>Age</th>\n",
       "      <th>Gender</th>\n",
       "      <th>County</th>\n",
       "    </tr>\n",
       "  </thead>\n",
       "  <tbody>\n",
       "    <tr>\n",
       "      <th>2</th>\n",
       "      <td>Bob</td>\n",
       "      <td>40</td>\n",
       "      <td>Male</td>\n",
       "      <td>India</td>\n",
       "    </tr>\n",
       "    <tr>\n",
       "      <th>3</th>\n",
       "      <td>Alice</td>\n",
       "      <td>50</td>\n",
       "      <td>Female</td>\n",
       "      <td>Canada</td>\n",
       "    </tr>\n",
       "  </tbody>\n",
       "</table>\n",
       "</div>"
      ],
      "text/plain": [
       "    Name  Age  Gender  County\n",
       "2    Bob   40    Male   India\n",
       "3  Alice   50  Female  Canada"
      ]
     },
     "execution_count": 29,
     "metadata": {},
     "output_type": "execute_result"
    }
   ],
   "source": [
    "df"
   ]
  },
  {
   "cell_type": "markdown",
   "id": "5b36e26c-63e2-42d6-aa29-5304d71f9476",
   "metadata": {},
   "source": [
    "## 5. Grouping and aggregating data:"
   ]
  },
  {
   "cell_type": "markdown",
   "id": "2646fc95-e3bd-4ef2-926e-09e9b560fa86",
   "metadata": {},
   "source": [
    "You can group data by specific values and apply an aggregation function using the `groupby()` method and the `apply()` function:"
   ]
  },
  {
   "cell_type": "code",
   "execution_count": 32,
   "id": "28d5d18f-e713-420a-8431-5b515582478f",
   "metadata": {},
   "outputs": [
    {
     "data": {
      "text/plain": [
       "Gender\n",
       "Female    50.0\n",
       "Male      40.0\n",
       "Name: Age, dtype: float64"
      ]
     },
     "execution_count": 32,
     "metadata": {},
     "output_type": "execute_result"
    }
   ],
   "source": [
    "import numpy as np\n",
    "groupdf = df.groupby('Gender')['Age'].apply(np.mean)  # group by Gender and calculate mean Age\n",
    "groupdf"
   ]
  },
  {
   "cell_type": "markdown",
   "id": "51b148be-7b9e-4e58-b6df-aae0615120b6",
   "metadata": {},
   "source": [
    "## 6. Merging and joining data:"
   ]
  },
  {
   "cell_type": "markdown",
   "id": "aab4ad0c-cf86-4072-b401-4e7afc4cc14f",
   "metadata": {},
   "source": [
    "You can merge or join data from multiple DataFrames using the `merge()` function or the `concat()` function. \n",
    "\n",
    "For example, to merge two DataFrames based on a common column, you can use the following code:"
   ]
  },
  {
   "cell_type": "code",
   "execution_count": 35,
   "id": "f9877d50-6dab-40cf-8503-8b985f04671b",
   "metadata": {},
   "outputs": [
    {
     "data": {
      "text/html": [
       "<div>\n",
       "<style scoped>\n",
       "    .dataframe tbody tr th:only-of-type {\n",
       "        vertical-align: middle;\n",
       "    }\n",
       "\n",
       "    .dataframe tbody tr th {\n",
       "        vertical-align: top;\n",
       "    }\n",
       "\n",
       "    .dataframe thead th {\n",
       "        text-align: right;\n",
       "    }\n",
       "</style>\n",
       "<table border=\"1\" class=\"dataframe\">\n",
       "  <thead>\n",
       "    <tr style=\"text-align: right;\">\n",
       "      <th></th>\n",
       "      <th>key</th>\n",
       "      <th>A</th>\n",
       "      <th>B</th>\n",
       "    </tr>\n",
       "  </thead>\n",
       "  <tbody>\n",
       "    <tr>\n",
       "      <th>0</th>\n",
       "      <td>K0</td>\n",
       "      <td>A0</td>\n",
       "      <td>B0</td>\n",
       "    </tr>\n",
       "    <tr>\n",
       "      <th>1</th>\n",
       "      <td>K1</td>\n",
       "      <td>A1</td>\n",
       "      <td>B1</td>\n",
       "    </tr>\n",
       "    <tr>\n",
       "      <th>2</th>\n",
       "      <td>K2</td>\n",
       "      <td>A2</td>\n",
       "      <td>B2</td>\n",
       "    </tr>\n",
       "    <tr>\n",
       "      <th>3</th>\n",
       "      <td>K3</td>\n",
       "      <td>A3</td>\n",
       "      <td>B3</td>\n",
       "    </tr>\n",
       "  </tbody>\n",
       "</table>\n",
       "</div>"
      ],
      "text/plain": [
       "  key   A   B\n",
       "0  K0  A0  B0\n",
       "1  K1  A1  B1\n",
       "2  K2  A2  B2\n",
       "3  K3  A3  B3"
      ]
     },
     "execution_count": 35,
     "metadata": {},
     "output_type": "execute_result"
    }
   ],
   "source": [
    "df1 = pd.DataFrame({'key': ['K0', 'K1', 'K2', 'K3'],\n",
    "                    'A': ['A0', 'A1', 'A2', 'A3'],\n",
    "                    'B': ['B0', 'B1', 'B2', 'B3']})\n",
    "df1"
   ]
  },
  {
   "cell_type": "code",
   "execution_count": 36,
   "id": "2662a18e-89d0-4e99-ba02-9d4b094486a5",
   "metadata": {},
   "outputs": [
    {
     "data": {
      "text/html": [
       "<div>\n",
       "<style scoped>\n",
       "    .dataframe tbody tr th:only-of-type {\n",
       "        vertical-align: middle;\n",
       "    }\n",
       "\n",
       "    .dataframe tbody tr th {\n",
       "        vertical-align: top;\n",
       "    }\n",
       "\n",
       "    .dataframe thead th {\n",
       "        text-align: right;\n",
       "    }\n",
       "</style>\n",
       "<table border=\"1\" class=\"dataframe\">\n",
       "  <thead>\n",
       "    <tr style=\"text-align: right;\">\n",
       "      <th></th>\n",
       "      <th>key</th>\n",
       "      <th>C</th>\n",
       "      <th>D</th>\n",
       "    </tr>\n",
       "  </thead>\n",
       "  <tbody>\n",
       "    <tr>\n",
       "      <th>0</th>\n",
       "      <td>K0</td>\n",
       "      <td>C0</td>\n",
       "      <td>D0</td>\n",
       "    </tr>\n",
       "    <tr>\n",
       "      <th>1</th>\n",
       "      <td>K1</td>\n",
       "      <td>C1</td>\n",
       "      <td>D1</td>\n",
       "    </tr>\n",
       "    <tr>\n",
       "      <th>2</th>\n",
       "      <td>K2</td>\n",
       "      <td>C2</td>\n",
       "      <td>D2</td>\n",
       "    </tr>\n",
       "    <tr>\n",
       "      <th>3</th>\n",
       "      <td>K3</td>\n",
       "      <td>C3</td>\n",
       "      <td>D3</td>\n",
       "    </tr>\n",
       "  </tbody>\n",
       "</table>\n",
       "</div>"
      ],
      "text/plain": [
       "  key   C   D\n",
       "0  K0  C0  D0\n",
       "1  K1  C1  D1\n",
       "2  K2  C2  D2\n",
       "3  K3  C3  D3"
      ]
     },
     "execution_count": 36,
     "metadata": {},
     "output_type": "execute_result"
    }
   ],
   "source": [
    "df2 = pd.DataFrame({'key': ['K0', 'K1', 'K2', 'K3'],\n",
    "                    'C': ['C0', 'C1', 'C2', 'C3'],\n",
    "                    'D': ['D0', 'D1', 'D2', 'D3']})\n",
    "df2"
   ]
  },
  {
   "cell_type": "code",
   "execution_count": 37,
   "id": "ca96aed2-7544-4f96-8733-31a7af5fcf2c",
   "metadata": {},
   "outputs": [
    {
     "data": {
      "text/html": [
       "<div>\n",
       "<style scoped>\n",
       "    .dataframe tbody tr th:only-of-type {\n",
       "        vertical-align: middle;\n",
       "    }\n",
       "\n",
       "    .dataframe tbody tr th {\n",
       "        vertical-align: top;\n",
       "    }\n",
       "\n",
       "    .dataframe thead th {\n",
       "        text-align: right;\n",
       "    }\n",
       "</style>\n",
       "<table border=\"1\" class=\"dataframe\">\n",
       "  <thead>\n",
       "    <tr style=\"text-align: right;\">\n",
       "      <th></th>\n",
       "      <th>key</th>\n",
       "      <th>A</th>\n",
       "      <th>B</th>\n",
       "      <th>C</th>\n",
       "      <th>D</th>\n",
       "    </tr>\n",
       "  </thead>\n",
       "  <tbody>\n",
       "    <tr>\n",
       "      <th>0</th>\n",
       "      <td>K0</td>\n",
       "      <td>A0</td>\n",
       "      <td>B0</td>\n",
       "      <td>C0</td>\n",
       "      <td>D0</td>\n",
       "    </tr>\n",
       "    <tr>\n",
       "      <th>1</th>\n",
       "      <td>K1</td>\n",
       "      <td>A1</td>\n",
       "      <td>B1</td>\n",
       "      <td>C1</td>\n",
       "      <td>D1</td>\n",
       "    </tr>\n",
       "    <tr>\n",
       "      <th>2</th>\n",
       "      <td>K2</td>\n",
       "      <td>A2</td>\n",
       "      <td>B2</td>\n",
       "      <td>C2</td>\n",
       "      <td>D2</td>\n",
       "    </tr>\n",
       "    <tr>\n",
       "      <th>3</th>\n",
       "      <td>K3</td>\n",
       "      <td>A3</td>\n",
       "      <td>B3</td>\n",
       "      <td>C3</td>\n",
       "      <td>D3</td>\n",
       "    </tr>\n",
       "  </tbody>\n",
       "</table>\n",
       "</div>"
      ],
      "text/plain": [
       "  key   A   B   C   D\n",
       "0  K0  A0  B0  C0  D0\n",
       "1  K1  A1  B1  C1  D1\n",
       "2  K2  A2  B2  C2  D2\n",
       "3  K3  A3  B3  C3  D3"
      ]
     },
     "execution_count": 37,
     "metadata": {},
     "output_type": "execute_result"
    }
   ],
   "source": [
    "merged_df = pd.merge(df1, df2, on='key')\n",
    "merged_df"
   ]
  },
  {
   "cell_type": "markdown",
   "id": "4a4652d5-daf2-42d4-b213-f90b1597946f",
   "metadata": {},
   "source": [
    "To concatenate data horizontally (i.e. adding columns), you can use the `concat()` function:\n"
   ]
  },
  {
   "cell_type": "code",
   "execution_count": 38,
   "id": "8fae4c49-63b7-47bc-8501-c17d8ffcc8d6",
   "metadata": {},
   "outputs": [
    {
     "data": {
      "text/html": [
       "<div>\n",
       "<style scoped>\n",
       "    .dataframe tbody tr th:only-of-type {\n",
       "        vertical-align: middle;\n",
       "    }\n",
       "\n",
       "    .dataframe tbody tr th {\n",
       "        vertical-align: top;\n",
       "    }\n",
       "\n",
       "    .dataframe thead th {\n",
       "        text-align: right;\n",
       "    }\n",
       "</style>\n",
       "<table border=\"1\" class=\"dataframe\">\n",
       "  <thead>\n",
       "    <tr style=\"text-align: right;\">\n",
       "      <th></th>\n",
       "      <th>key</th>\n",
       "      <th>A</th>\n",
       "      <th>B</th>\n",
       "      <th>key</th>\n",
       "      <th>C</th>\n",
       "      <th>D</th>\n",
       "    </tr>\n",
       "  </thead>\n",
       "  <tbody>\n",
       "    <tr>\n",
       "      <th>0</th>\n",
       "      <td>K0</td>\n",
       "      <td>A0</td>\n",
       "      <td>B0</td>\n",
       "      <td>K0</td>\n",
       "      <td>C0</td>\n",
       "      <td>D0</td>\n",
       "    </tr>\n",
       "    <tr>\n",
       "      <th>1</th>\n",
       "      <td>K1</td>\n",
       "      <td>A1</td>\n",
       "      <td>B1</td>\n",
       "      <td>K1</td>\n",
       "      <td>C1</td>\n",
       "      <td>D1</td>\n",
       "    </tr>\n",
       "    <tr>\n",
       "      <th>2</th>\n",
       "      <td>K2</td>\n",
       "      <td>A2</td>\n",
       "      <td>B2</td>\n",
       "      <td>K2</td>\n",
       "      <td>C2</td>\n",
       "      <td>D2</td>\n",
       "    </tr>\n",
       "    <tr>\n",
       "      <th>3</th>\n",
       "      <td>K3</td>\n",
       "      <td>A3</td>\n",
       "      <td>B3</td>\n",
       "      <td>K3</td>\n",
       "      <td>C3</td>\n",
       "      <td>D3</td>\n",
       "    </tr>\n",
       "  </tbody>\n",
       "</table>\n",
       "</div>"
      ],
      "text/plain": [
       "  key   A   B key   C   D\n",
       "0  K0  A0  B0  K0  C0  D0\n",
       "1  K1  A1  B1  K1  C1  D1\n",
       "2  K2  A2  B2  K2  C2  D2\n",
       "3  K3  A3  B3  K3  C3  D3"
      ]
     },
     "execution_count": 38,
     "metadata": {},
     "output_type": "execute_result"
    }
   ],
   "source": [
    "concat_df = pd.concat([df1, df2], axis=1)\n",
    "concat_df"
   ]
  },
  {
   "cell_type": "markdown",
   "id": "9ed0a799-b88e-438d-939d-c12d27b9db91",
   "metadata": {},
   "source": [
    "## 7. Handling missing data:"
   ]
  },
  {
   "cell_type": "markdown",
   "id": "dc71b1e1-d5bd-4e19-8d9c-8595071fed3c",
   "metadata": {},
   "source": [
    "It's common to encounter missing data in real-world datasets. Pandas provides various methods to handle missing data, such as filling missing values with a specific value or dropping rows with missing values.\n",
    "\n",
    "\n",
    "To fill missing values with a specific value, you can use the `fillna()` method:\n",
    "\n"
   ]
  },
  {
   "cell_type": "code",
   "execution_count": 45,
   "id": "756e7103-4c0d-4b7c-af15-b3861f947cb1",
   "metadata": {},
   "outputs": [
    {
     "data": {
      "text/html": [
       "<div>\n",
       "<style scoped>\n",
       "    .dataframe tbody tr th:only-of-type {\n",
       "        vertical-align: middle;\n",
       "    }\n",
       "\n",
       "    .dataframe tbody tr th {\n",
       "        vertical-align: top;\n",
       "    }\n",
       "\n",
       "    .dataframe thead th {\n",
       "        text-align: right;\n",
       "    }\n",
       "</style>\n",
       "<table border=\"1\" class=\"dataframe\">\n",
       "  <thead>\n",
       "    <tr style=\"text-align: right;\">\n",
       "      <th></th>\n",
       "      <th>Name</th>\n",
       "      <th>Age</th>\n",
       "      <th>Gender</th>\n",
       "    </tr>\n",
       "  </thead>\n",
       "  <tbody>\n",
       "    <tr>\n",
       "      <th>0</th>\n",
       "      <td>John</td>\n",
       "      <td>20.0</td>\n",
       "      <td>Male</td>\n",
       "    </tr>\n",
       "    <tr>\n",
       "      <th>1</th>\n",
       "      <td>Jane</td>\n",
       "      <td>30.0</td>\n",
       "      <td>Female</td>\n",
       "    </tr>\n",
       "    <tr>\n",
       "      <th>2</th>\n",
       "      <td>Bob</td>\n",
       "      <td>40.0</td>\n",
       "      <td>Male</td>\n",
       "    </tr>\n",
       "    <tr>\n",
       "      <th>3</th>\n",
       "      <td>Alice</td>\n",
       "      <td>NaN</td>\n",
       "      <td>Female</td>\n",
       "    </tr>\n",
       "  </tbody>\n",
       "</table>\n",
       "</div>"
      ],
      "text/plain": [
       "    Name   Age  Gender\n",
       "0   John  20.0    Male\n",
       "1   Jane  30.0  Female\n",
       "2    Bob  40.0    Male\n",
       "3  Alice   NaN  Female"
      ]
     },
     "execution_count": 45,
     "metadata": {},
     "output_type": "execute_result"
    }
   ],
   "source": [
    "data = {'Name': ['John', 'Jane', 'Bob', 'Alice'],\n",
    "        'Age': [20, 30, 40, np.nan],\n",
    "        'Gender': ['Male', 'Female', 'Male', 'Female']}\n",
    "df = pd.DataFrame(data)\n",
    "df"
   ]
  },
  {
   "cell_type": "code",
   "execution_count": 46,
   "id": "35b4963f-de70-444a-93d9-9b3b986d28db",
   "metadata": {},
   "outputs": [
    {
     "data": {
      "text/html": [
       "<div>\n",
       "<style scoped>\n",
       "    .dataframe tbody tr th:only-of-type {\n",
       "        vertical-align: middle;\n",
       "    }\n",
       "\n",
       "    .dataframe tbody tr th {\n",
       "        vertical-align: top;\n",
       "    }\n",
       "\n",
       "    .dataframe thead th {\n",
       "        text-align: right;\n",
       "    }\n",
       "</style>\n",
       "<table border=\"1\" class=\"dataframe\">\n",
       "  <thead>\n",
       "    <tr style=\"text-align: right;\">\n",
       "      <th></th>\n",
       "      <th>Name</th>\n",
       "      <th>Age</th>\n",
       "      <th>Gender</th>\n",
       "    </tr>\n",
       "  </thead>\n",
       "  <tbody>\n",
       "    <tr>\n",
       "      <th>0</th>\n",
       "      <td>John</td>\n",
       "      <td>20.0</td>\n",
       "      <td>Male</td>\n",
       "    </tr>\n",
       "    <tr>\n",
       "      <th>1</th>\n",
       "      <td>Jane</td>\n",
       "      <td>30.0</td>\n",
       "      <td>Female</td>\n",
       "    </tr>\n",
       "    <tr>\n",
       "      <th>2</th>\n",
       "      <td>Bob</td>\n",
       "      <td>40.0</td>\n",
       "      <td>Male</td>\n",
       "    </tr>\n",
       "    <tr>\n",
       "      <th>3</th>\n",
       "      <td>Alice</td>\n",
       "      <td>22</td>\n",
       "      <td>Female</td>\n",
       "    </tr>\n",
       "  </tbody>\n",
       "</table>\n",
       "</div>"
      ],
      "text/plain": [
       "    Name   Age  Gender\n",
       "0   John  20.0    Male\n",
       "1   Jane  30.0  Female\n",
       "2    Bob  40.0    Male\n",
       "3  Alice    22  Female"
      ]
     },
     "execution_count": 46,
     "metadata": {},
     "output_type": "execute_result"
    }
   ],
   "source": [
    "df['Age'].fillna(value='22', inplace=True)\n",
    "df"
   ]
  },
  {
   "cell_type": "markdown",
   "id": "e4d3aa87-9060-43df-9d45-62ac2b0046df",
   "metadata": {},
   "source": [
    "To drop rows with missing values, you can use the `dropna()` method:\n"
   ]
  },
  {
   "cell_type": "code",
   "execution_count": 48,
   "id": "f558f046-2a5a-4824-90e4-275d818d1d73",
   "metadata": {},
   "outputs": [],
   "source": [
    "df.dropna(inplace=True)"
   ]
  },
  {
   "cell_type": "markdown",
   "id": "c286b950-3ea1-4601-b677-fc7c5b6d5c81",
   "metadata": {},
   "source": [
    "## 8. Working with dates and times:"
   ]
  },
  {
   "cell_type": "markdown",
   "id": "de644b9e-73dd-452f-937d-9a3a48d33448",
   "metadata": {},
   "source": [
    "Pandas has built-in support for working with dates and times. \n",
    "\n",
    "You can convert a column of strings to datetime objects using the `to_datetime()` function:"
   ]
  },
  {
   "cell_type": "code",
   "execution_count": null,
   "id": "122dd947-b50f-4993-8555-27b0c23950c6",
   "metadata": {},
   "outputs": [],
   "source": [
    "df['Date'] = pd.to_datetime(df['Date'])"
   ]
  },
  {
   "cell_type": "markdown",
   "id": "98f7e9ed-8818-468c-8605-16a869bf0e0f",
   "metadata": {},
   "source": [
    "You can then extract specific parts of the datetime, such as the year or month, using the `dt` attribute:"
   ]
  },
  {
   "cell_type": "code",
   "execution_count": null,
   "id": "1f9aabcd-7f19-4ff1-9edd-b91d0e36beea",
   "metadata": {},
   "outputs": [],
   "source": [
    "df['Year'] = df['Date'].dt.year\n",
    "df['Month'] = df['Date'].dt.month\n"
   ]
  },
  {
   "cell_type": "markdown",
   "id": "f19d21c3-db44-450c-9f2d-c732d9c26c79",
   "metadata": {},
   "source": [
    "## 9. Advanced operations:"
   ]
  },
  {
   "cell_type": "markdown",
   "id": "5d42d37d-12b6-4a02-9140-c9956ece503f",
   "metadata": {},
   "source": [
    "There are many more advanced operations that you can perform with pandas, such as pivot tables, time series analysis, and machine learning. Here are a few more code snippets to help you explore these topics:\n",
    "\n",
    "To create a pivot table, you can use the `pivot_table()` function:"
   ]
  },
  {
   "cell_type": "code",
   "execution_count": null,
   "id": "719aa627-a6ee-461e-a886-66c4ec4e0a5d",
   "metadata": {},
   "outputs": [],
   "source": [
    "pivot_table = df.pivot_table(index='Column1', columns='Column2', values='Column3', aggfunc=np.mean)\n"
   ]
  },
  {
   "cell_type": "markdown",
   "id": "43e2ede6-0ae0-444f-805e-eccec6914a16",
   "metadata": {},
   "source": [
    "To perform time series analysis, you can use the `resample()` method to resample data at a different frequency:"
   ]
  },
  {
   "cell_type": "code",
   "execution_count": null,
   "id": "bd43f39c-7ca6-4946-a80d-71c1764786c4",
   "metadata": {},
   "outputs": [],
   "source": [
    "resampled_df = df.resample('D').mean()  # resample to daily frequency\n"
   ]
  },
  {
   "cell_type": "markdown",
   "id": "39c218f7-1088-4e45-8bd6-a8aeb4db2311",
   "metadata": {},
   "source": [
    "## 9. Visualizing data:"
   ]
  },
  {
   "cell_type": "markdown",
   "id": "9f9452cd-146a-471c-a3f3-bb02b16c3826",
   "metadata": {},
   "source": [
    "You can use the `plot()` method to create various types of plots, such as bar plots, scatter plots, and line plots:"
   ]
  },
  {
   "cell_type": "code",
   "execution_count": null,
   "id": "b6ca62fb-5995-4115-9817-804efa23959d",
   "metadata": {},
   "outputs": [],
   "source": [
    "df.plot(x='X Column', y='Y Column', kind='scatter')  # scatter plot\n",
    "df.plot(x='X Column', y='Y Column', kind='bar')  # bar plot\n",
    "df.plot(x='X Column', y='Y Column')  # line plot\n"
   ]
  },
  {
   "cell_type": "markdown",
   "id": "d6084a04-43d2-4978-81e8-1923d69e492b",
   "metadata": {},
   "source": [
    "**In conclusion, pandas is a powerful and versatile library for data manipulation and analysis in Python. With its wide range of built-in functions and methods, pandas makes it easy to work with a variety of data sources, perform complex data operations, and visualize results. Whether you're a beginner or an experienced data scientist, pandas is an essential tool for any data-related project.**"
   ]
  }
 ],
 "metadata": {
  "kernelspec": {
   "display_name": "Python 3 (ipykernel)",
   "language": "python",
   "name": "python3"
  },
  "language_info": {
   "codemirror_mode": {
    "name": "ipython",
    "version": 3
   },
   "file_extension": ".py",
   "mimetype": "text/x-python",
   "name": "python",
   "nbconvert_exporter": "python",
   "pygments_lexer": "ipython3",
   "version": "3.9.15"
  }
 },
 "nbformat": 4,
 "nbformat_minor": 5
}

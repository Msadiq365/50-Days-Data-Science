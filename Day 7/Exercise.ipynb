{
 "cells": [
  {
   "cell_type": "markdown",
   "id": "4614ae88-29b7-45e4-b65c-930bfb6a922b",
   "metadata": {},
   "source": [
    "# Exercise\n",
    "\n",
    "Here are a few exercises that you can use to practice the concepts covered in this article:\n",
    "\n",
    "1. Create a SQLite database and create tables for customers, orders and employees with sample data.\n",
    "\n",
    "2. Write SQL queries to select specific columns and rows from the tables. For example, select the name and salary of employees whose salary is greater than 50000.\n",
    "\n",
    "3. Write SQL queries to update and delete data in the tables. For example, update the salary of employees whose name starts with 'M' to 60000 and delete all customers whose city is 'New York'.\n",
    "\n",
    "4. Write SQL queries to join two or more tables. For example, select the order_id, customer_name, and product_name from the orders, customers and products table where the order_date is between '2022-01-01' and '2022-12-31'.\n",
    "\n",
    "5. Use the SQLite functions, such as strftime() and julianday(), to manipulate date and time data in the tables. For example, select the total sales for each month of the current year from the orders table.\n",
    "\n",
    "6. Use the pd.read_sql_query() function to retrieve data from the SQLite database and load it into a pandas DataFrame.\n",
    "\n",
    "7. Use the pd.to_sql() function to insert data from a pandas DataFrame into a SQLite table.\n",
    "\n",
    "8. Create a simple web application that connects to a SQLite database and allows the user to view, add, update, and delete data in the tables.\n",
    "\n"
   ]
  },
  {
   "cell_type": "markdown",
   "id": "4edf143e-9b5e-4d4b-91b6-b62a9820e2f4",
   "metadata": {},
   "source": [
    "It is important to note that you may need to adjust the queries and examples depending on the specific data and schema of your database.\n",
    "\n"
   ]
  }
 ],
 "metadata": {
  "kernelspec": {
   "display_name": "Python 3 (ipykernel)",
   "language": "python",
   "name": "python3"
  },
  "language_info": {
   "codemirror_mode": {
    "name": "ipython",
    "version": 3
   },
   "file_extension": ".py",
   "mimetype": "text/x-python",
   "name": "python",
   "nbconvert_exporter": "python",
   "pygments_lexer": "ipython3",
   "version": "3.9.15"
  }
 },
 "nbformat": 4,
 "nbformat_minor": 5
}

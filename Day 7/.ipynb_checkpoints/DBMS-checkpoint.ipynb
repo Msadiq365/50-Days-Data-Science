{
 "cells": [
  {
   "cell_type": "markdown",
   "id": "5f5458d1-ad0f-465d-b2f6-bb14a53efd24",
   "metadata": {},
   "source": [
    "# Day 7 of 100 Days Data Science Bootcamp from noob to expert."
   ]
  },
  {
   "cell_type": "markdown",
   "id": "457b1bc7-e9cb-4f75-9c0d-0c44723dfef5",
   "metadata": {},
   "source": [
    "## Recap Day 7\n",
    "\n",
    "Yesterday we have studied in detail about Data Visualization using matplotlib and seaborn in Python.\n"
   ]
  },
  {
   "cell_type": "markdown",
   "id": "3a676f23-dac7-417e-8743-4e81f8a055e4",
   "metadata": {},
   "source": [
    "# Let's Start"
   ]
  },
  {
   "cell_type": "markdown",
   "id": "d02424cc-f113-4a9f-b99a-fb2883df050a",
   "metadata": {},
   "source": [
    "A DBMS (Database Management System) is a software application that interacts with end users, other applications, and the database itself to capture and analyze the data. It is a tool that allows data scientists to store, manage, and retrieve large amounts of structured and unstructured data."
   ]
  },
  {
   "cell_type": "markdown",
   "id": "6eb038f8-db2a-432b-b2af-57885e76a4fd",
   "metadata": {},
   "source": [
    "There are different types of DBMSs, such as relational databases, NoSQL databases, and graph databases.\n",
    "\n",
    "* Relational databases, such as MySQL and PostgreSQL, use a structured query language (SQL) to manage data stored in tables with rows and columns. These databases are well-suited for data that can be easily organized into a tabular format and are useful for data warehousing, business intelligence, and other reporting applications.\n",
    "\n",
    "* NoSQL databases, such as MongoDB and Cassandra, are designed to handle large amounts of unstructured data and support different data models, such as document, key-value, and graph. These databases are useful for big data and real-time applications, such as real-time analytics, social media, and gaming.\n",
    "\n",
    "* Graph databases, such as Neo4j and Amazon Neptune, are used to store and query data in a graph format, where nodes and edges represent entities and relationships. These databases are useful for applications that involve complex relationships, such as fraud detection, recommendation systems, and social network analysis.\n",
    "\n",
    "In data science, the choice of DBMS depends on the type and volume of data, the complexity of the relationships among data, and the performance and scalability requirements of the application. "
   ]
  },
  {
   "cell_type": "markdown",
   "id": "f9f53559-6996-4d95-b031-1bb886cc69e9",
   "metadata": {},
   "source": [
    "**In this article we will study in detail Relational databases**"
   ]
  },
  {
   "cell_type": "markdown",
   "id": "c54e3539-9adc-449d-aa24-720b5e6c161c",
   "metadata": {},
   "source": [
    "### Basic Understanding"
   ]
  },
  {
   "cell_type": "markdown",
   "id": "fefb39a1-0a7e-49d0-9834-51b7ccfb47c8",
   "metadata": {},
   "source": [
    "A relational database is a type of database that organizes data into tables, with each table consisting of rows and columns.\n",
    "\n",
    "* `Tables`: A table is a collection of related data that is organized into rows and columns. Each table has a unique name that identifies it within the database. For example, a table named \"customers\" might contain information about all the customers of a company, with each row representing a different customer and each column representing a different piece of information about that customer, such as name, address, and phone number.\n",
    "\n",
    "* `Columns`: A column is a vertical set of values in a table and it has a name and a data type. Each column represents a specific attribute of the data in the table, such as \"customer_name\" or \"customer_address\". For example, in a table named \"customers\", the columns could be \"customer_id\", \"customer_name\", \"customer_address\", \"customer_phone_number\", \"customer_email\" etc.\n",
    "\n",
    "* `Rows`: A row is a horizontal set of values in a table and it represents a single record or tuple in the table. Each row represents a unique instance of the data in the table, such as a specific customer. For example, in a table named \"customers\", a row could represent a single customer with values such as \"1\" for the \"customer_id\", \"John Doe\" for the \"customer_name\", \"123 Main St\" for the \"customer_address\", \"555-555-5555\" for the \"customer_phone_number\" and \"johndoe@gmail.com\" for the \"customer_email\"\n",
    "\n",
    "* `Primary keys`: A primary key is a column or set of columns in a table that uniquely identify each row in the table. Each table can have only one primary key, and it is used to enforce the integrity of the data and create relationships with other tables. For example, in a table named \"customers\" the \"customer_id\" column might be the primary key, because it is unique for each customer and can be used to identify a specific customer in the table.\n",
    "\n",
    "* `Foreign keys`: A foreign key is a column or set of columns in a table that refers to the primary key of another table. It is used to create relationships between tables and enforce referential integrity. For example, in a table named \"orders\" that contains information about customer orders, the \"customer_id\" column might be a foreign key that refers to the primary key \"customer_id\" in the \"customers\" table.\n",
    "\n",
    "* `Indexing`: Indexing is the process of creating a separate data structure that allows for faster searching and sorting of data in a table. Indexes can be created on one or more columns in a table to improve the performance of queries that search for specific data. For example, if you frequently search for customers by their last name, you might create an index on the \"customer_name\" column in the \"customers\" table to speed up those searches.\n",
    "\n"
   ]
  },
  {
   "cell_type": "markdown",
   "id": "e847e02e-745e-469f-bbc0-6c53868ae2cb",
   "metadata": {},
   "source": [
    "**Here is an example of a \"customers\" table:**\n",
    "\n"
   ]
  },
  {
   "cell_type": "markdown",
   "id": "0ebe245e-9ada-42f4-9edd-71d42816f43b",
   "metadata": {},
   "source": [
    "| **customer\\_id** | **customer\\_name** | **customer\\_address** | **customer\\_phone\\_number** | **customer\\_email** |\n",
    "| --- | --- | --- | --- | --- |\n",
    "| 1 | John Doe | 123 Main St | 555-555-5555 | [**johndoe@gmail.com**](mailto:johndoe@gmail.com) |\n",
    "| 2 | Jane Smith | 456 Park Ave | 555-555-5556 | [**janesmith@gmail.com**](mailto:janesmith@gmail.com) |\n",
    "| 3 | Bob Johnson | 789 Elm St | 555-555-5557 | [**bobjohnson@gmail.com**](mailto:bobjohnson@gmail.com) |\n",
    "\n",
    "\n",
    "In this example table, the \"customer_id\" column is the primary key and it is used to uniquely identify each customer. The other columns such as \"customer_name\", \"customer_address\", \"customer_phone_number\" and \"customer_email\" are non-key attributes and they provide additional information about each customer.\n",
    "\n",
    "An index can be created on any column to speed up the query performance. In this example, an index can be created on the \"customer_name\" column if we frequently need to search customer by their name.\n",
    "\n",
    "It is important to note that the example is a very simple representation of the table and in real world scenario, tables can have multiple columns as primary key, multiple foreign keys and a complex data model with multiple tables, but the basic concept remains the same."
   ]
  },
  {
   "cell_type": "markdown",
   "id": "11dd38f3-b108-40bb-85e4-71814f8cf975",
   "metadata": {},
   "source": [
    "### SQL Quries"
   ]
  },
  {
   "cell_type": "markdown",
   "id": "e44d4040-08bc-4038-855b-5aed9a107b0a",
   "metadata": {},
   "source": [
    "**We will execute all our queries using Python and SQLite**"
   ]
  },
  {
   "cell_type": "markdown",
   "id": "010beffb-135f-4043-a03f-c17320e98daf",
   "metadata": {},
   "source": [
    "#### Connecting to a database\n",
    "\n",
    "To start interacting with the database we first we need to establish a connection."
   ]
  },
  {
   "cell_type": "code",
   "execution_count": 4,
   "id": "9ff09e58-103b-4d01-83dc-c306bce76d99",
   "metadata": {},
   "outputs": [
    {
     "name": "stdout",
     "output_type": "stream",
     "text": [
      "Opened database successfully\n"
     ]
    }
   ],
   "source": [
    "#!/usr/bin/python\n",
    "\n",
    "import sqlite3\n",
    "\n",
    "conn = sqlite3.connect('100daysofdatascience.db')\n",
    "\n",
    "print(\"Opened database successfully\");\n"
   ]
  },
  {
   "cell_type": "markdown",
   "id": "28840a43-c34f-4319-af36-58a41bd9ce1c",
   "metadata": {},
   "source": [
    "#### Sample data"
   ]
  },
  {
   "cell_type": "code",
   "execution_count": 5,
   "id": "e5c61068-3859-42ec-a719-e6add25964de",
   "metadata": {},
   "outputs": [
    {
     "name": "stdout",
     "output_type": "stream",
     "text": [
      "Customer table created successfully!\n"
     ]
    }
   ],
   "source": [
    "# Customers table:\n",
    "conn.execute('''CREATE TABLE customers (\n",
    "                        id INT PRIMARY KEY,\n",
    "                        first_name VARCHAR(255),\n",
    "                        last_name VARCHAR(255),\n",
    "                        city VARCHAR(255)\n",
    "                    );''')\n",
    "\n",
    "conn.execute('''INSERT INTO customers (id, first_name, last_name, city) \n",
    "                            VALUES (1, 'John', 'Smith', 'Paris'),\n",
    "                                   (2, 'Mary', 'Johnson', 'London'),\n",
    "                                   (3, 'Michael', 'Williams', 'Berlin'),\n",
    "                                   (4, 'Brad', 'Brown', 'Rome');''')\n",
    "\n",
    "print(\"Customer table created successfully!\")"
   ]
  },
  {
   "cell_type": "code",
   "execution_count": 6,
   "id": "d795f95f-866f-4794-9489-afb694b6dfdd",
   "metadata": {},
   "outputs": [
    {
     "name": "stdout",
     "output_type": "stream",
     "text": [
      "Products table created successfully!\n"
     ]
    }
   ],
   "source": [
    "# Products table:\n",
    "conn.execute('''CREATE TABLE products (\n",
    "                        id INT PRIMARY KEY,\n",
    "                        product_name VARCHAR(255),\n",
    "                        category VARCHAR(255),\n",
    "                        price DECIMAL(10,2),\n",
    "                        in_stock BOOLEAN\n",
    "                    );''')\n",
    "\n",
    "conn.execute('''INSERT INTO products (id, product_name, category, price, in_stock)\n",
    "                        VALUES (1, 'MacBook Pro', 'electronics', 1500, true),\n",
    "                               (2, 'iPhone', 'electronics', 1000, true),\n",
    "                               (3, 'T-Shirt', 'clothing', 20, true),\n",
    "                               (4, 'Jeans', 'clothing', 50, false);''')\n",
    "\n",
    "print(\"Products table created successfully!\")"
   ]
  },
  {
   "cell_type": "code",
   "execution_count": 7,
   "id": "7f011df6-8029-4070-bde3-5057ae1be559",
   "metadata": {},
   "outputs": [
    {
     "name": "stdout",
     "output_type": "stream",
     "text": [
      "Orders table created successfully!\n"
     ]
    }
   ],
   "source": [
    "# Orders table:\n",
    "conn.execute('''CREATE TABLE orders (\n",
    "                        id INT PRIMARY KEY,\n",
    "                        customer_id INT,\n",
    "                        order_date DATE,\n",
    "                        total DECIMAL(10,2)\n",
    "                    );''')\n",
    "\n",
    "conn.execute('''INSERT INTO orders (id, customer_id, order_date, total)\n",
    "                        VALUES (1, 1, '2021-01-01', 100),\n",
    "                               (2, 2, '2021-01-02', 200),\n",
    "                               (3, 3, '2021-01-03', 150),\n",
    "                               (4, 2, '2021-01-04', 75);''')\n",
    "\n",
    "print(\"Orders table created successfully!\")"
   ]
  },
  {
   "cell_type": "code",
   "execution_count": 29,
   "id": "ca1c2528-e9f6-48cd-9973-abe3b5fda575",
   "metadata": {},
   "outputs": [
    {
     "name": "stdout",
     "output_type": "stream",
     "text": [
      "Employees table created successfully!\n"
     ]
    }
   ],
   "source": [
    "# Create the employee table\n",
    "conn.execute('''CREATE TABLE employees\n",
    "                (id INT PRIMARY KEY NOT NULL,\n",
    "                name TEXT NOT NULL,\n",
    "                salary REAL);''')\n",
    "\n",
    "# Insert data into the employee table\n",
    "conn.execute(\"INSERT INTO employees (id, name, salary) VALUES (1, 'John Smith', 50000)\")\n",
    "conn.execute(\"INSERT INTO employees (id, name, salary) VALUES (2, 'Mary Johnson', 55000)\")\n",
    "conn.execute(\"INSERT INTO employees (id, name, salary) VALUES (3, 'Michael Williams', 60000)\")\n",
    "conn.execute(\"INSERT INTO employees (id, name, salary) VALUES (4, 'Brad Brown', 65000)\")\n",
    "\n",
    "print(\"Employees table created successfully!\")"
   ]
  },
  {
   "cell_type": "code",
   "execution_count": 32,
   "id": "d794b672-cbb8-4011-bc1a-aeaaf2af6faa",
   "metadata": {},
   "outputs": [],
   "source": [
    "conn.commit()"
   ]
  },
  {
   "cell_type": "markdown",
   "id": "30c65a40-2f6a-4a4e-8fed-e4a40a2e8423",
   "metadata": {},
   "source": [
    "### Here are some examples of basic-to-advanced SQL queries that a data scientist might use to retrieve and manipulate data:"
   ]
  },
  {
   "cell_type": "markdown",
   "id": "3d7a6f96-ac82-4e08-b583-fd4dbf83732e",
   "metadata": {},
   "source": [
    "### SELECT: \n",
    "\n",
    "The SELECT statement is used to retrieve data from one or more tables. For example, the following query retrieves all columns from a table called \"customers\":\n"
   ]
  },
  {
   "cell_type": "code",
   "execution_count": 24,
   "id": "797b8c7d-531b-4127-8b5d-6cbe5c3de25f",
   "metadata": {},
   "outputs": [
    {
     "data": {
      "text/html": [
       "<div>\n",
       "<style scoped>\n",
       "    .dataframe tbody tr th:only-of-type {\n",
       "        vertical-align: middle;\n",
       "    }\n",
       "\n",
       "    .dataframe tbody tr th {\n",
       "        vertical-align: top;\n",
       "    }\n",
       "\n",
       "    .dataframe thead th {\n",
       "        text-align: right;\n",
       "    }\n",
       "</style>\n",
       "<table border=\"1\" class=\"dataframe\">\n",
       "  <thead>\n",
       "    <tr style=\"text-align: right;\">\n",
       "      <th></th>\n",
       "      <th>id</th>\n",
       "      <th>first_name</th>\n",
       "      <th>last_name</th>\n",
       "      <th>city</th>\n",
       "    </tr>\n",
       "  </thead>\n",
       "  <tbody>\n",
       "    <tr>\n",
       "      <th>0</th>\n",
       "      <td>1</td>\n",
       "      <td>John</td>\n",
       "      <td>Smith</td>\n",
       "      <td>Paris</td>\n",
       "    </tr>\n",
       "    <tr>\n",
       "      <th>1</th>\n",
       "      <td>2</td>\n",
       "      <td>Mary</td>\n",
       "      <td>Johnson</td>\n",
       "      <td>London</td>\n",
       "    </tr>\n",
       "    <tr>\n",
       "      <th>2</th>\n",
       "      <td>3</td>\n",
       "      <td>Michael</td>\n",
       "      <td>Williams</td>\n",
       "      <td>Berlin</td>\n",
       "    </tr>\n",
       "    <tr>\n",
       "      <th>3</th>\n",
       "      <td>4</td>\n",
       "      <td>Brad</td>\n",
       "      <td>Brown</td>\n",
       "      <td>Rome</td>\n",
       "    </tr>\n",
       "  </tbody>\n",
       "</table>\n",
       "</div>"
      ],
      "text/plain": [
       "   id first_name last_name    city\n",
       "0   1       John     Smith   Paris\n",
       "1   2       Mary   Johnson  London\n",
       "2   3    Michael  Williams  Berlin\n",
       "3   4       Brad     Brown    Rome"
      ]
     },
     "execution_count": 24,
     "metadata": {},
     "output_type": "execute_result"
    }
   ],
   "source": [
    "import pandas as pd\n",
    "data = pd.read_sql_query(\"SELECT * FROM customers\", conn)\n",
    "data"
   ]
  },
  {
   "cell_type": "markdown",
   "id": "30fc2fe4-cbfb-4e02-9c39-b30da25c41ee",
   "metadata": {},
   "source": [
    "### WHERE: \n",
    "\n",
    "The WHERE clause is used to filter the data returned by a SELECT statement. For example, the following query retrieves all columns from the \"customers\" table for customers whose city is \"New York\":"
   ]
  },
  {
   "cell_type": "code",
   "execution_count": 25,
   "id": "6826c5e4-742d-4da2-b5db-ef03f9c4210e",
   "metadata": {},
   "outputs": [
    {
     "data": {
      "text/html": [
       "<div>\n",
       "<style scoped>\n",
       "    .dataframe tbody tr th:only-of-type {\n",
       "        vertical-align: middle;\n",
       "    }\n",
       "\n",
       "    .dataframe tbody tr th {\n",
       "        vertical-align: top;\n",
       "    }\n",
       "\n",
       "    .dataframe thead th {\n",
       "        text-align: right;\n",
       "    }\n",
       "</style>\n",
       "<table border=\"1\" class=\"dataframe\">\n",
       "  <thead>\n",
       "    <tr style=\"text-align: right;\">\n",
       "      <th></th>\n",
       "      <th>id</th>\n",
       "      <th>first_name</th>\n",
       "      <th>last_name</th>\n",
       "      <th>city</th>\n",
       "    </tr>\n",
       "  </thead>\n",
       "  <tbody>\n",
       "    <tr>\n",
       "      <th>0</th>\n",
       "      <td>2</td>\n",
       "      <td>Mary</td>\n",
       "      <td>Johnson</td>\n",
       "      <td>London</td>\n",
       "    </tr>\n",
       "  </tbody>\n",
       "</table>\n",
       "</div>"
      ],
      "text/plain": [
       "   id first_name last_name    city\n",
       "0   2       Mary   Johnson  London"
      ]
     },
     "execution_count": 25,
     "metadata": {},
     "output_type": "execute_result"
    }
   ],
   "source": [
    "data = pd.read_sql_query(\"SELECT * FROM customers WHERE city = 'London'\", conn)\n",
    "data"
   ]
  },
  {
   "cell_type": "markdown",
   "id": "f3f26df4-cd6a-414e-b4a6-c4a7806f4e76",
   "metadata": {},
   "source": [
    "### JOIN: \n",
    "\n",
    "The JOIN clause is used to combine rows from two or more tables based on a related column between them. For example, the following query retrieves all columns from the \"orders\" table and the \"customers\" table, where the customer_id in the \"orders\" table matches the id in the \"customers\" table:\n"
   ]
  },
  {
   "cell_type": "code",
   "execution_count": 26,
   "id": "355fca6e-5b88-49f9-8421-777937b9792a",
   "metadata": {},
   "outputs": [
    {
     "data": {
      "text/html": [
       "<div>\n",
       "<style scoped>\n",
       "    .dataframe tbody tr th:only-of-type {\n",
       "        vertical-align: middle;\n",
       "    }\n",
       "\n",
       "    .dataframe tbody tr th {\n",
       "        vertical-align: top;\n",
       "    }\n",
       "\n",
       "    .dataframe thead th {\n",
       "        text-align: right;\n",
       "    }\n",
       "</style>\n",
       "<table border=\"1\" class=\"dataframe\">\n",
       "  <thead>\n",
       "    <tr style=\"text-align: right;\">\n",
       "      <th></th>\n",
       "      <th>id</th>\n",
       "      <th>customer_id</th>\n",
       "      <th>order_date</th>\n",
       "      <th>total</th>\n",
       "      <th>id</th>\n",
       "      <th>first_name</th>\n",
       "      <th>last_name</th>\n",
       "      <th>city</th>\n",
       "    </tr>\n",
       "  </thead>\n",
       "  <tbody>\n",
       "    <tr>\n",
       "      <th>0</th>\n",
       "      <td>1</td>\n",
       "      <td>1</td>\n",
       "      <td>2021-01-01</td>\n",
       "      <td>100</td>\n",
       "      <td>1</td>\n",
       "      <td>John</td>\n",
       "      <td>Smith</td>\n",
       "      <td>Paris</td>\n",
       "    </tr>\n",
       "    <tr>\n",
       "      <th>1</th>\n",
       "      <td>2</td>\n",
       "      <td>2</td>\n",
       "      <td>2021-01-02</td>\n",
       "      <td>200</td>\n",
       "      <td>2</td>\n",
       "      <td>Mary</td>\n",
       "      <td>Johnson</td>\n",
       "      <td>London</td>\n",
       "    </tr>\n",
       "    <tr>\n",
       "      <th>2</th>\n",
       "      <td>3</td>\n",
       "      <td>3</td>\n",
       "      <td>2021-01-03</td>\n",
       "      <td>150</td>\n",
       "      <td>3</td>\n",
       "      <td>Michael</td>\n",
       "      <td>Williams</td>\n",
       "      <td>Berlin</td>\n",
       "    </tr>\n",
       "    <tr>\n",
       "      <th>3</th>\n",
       "      <td>4</td>\n",
       "      <td>2</td>\n",
       "      <td>2021-01-04</td>\n",
       "      <td>75</td>\n",
       "      <td>2</td>\n",
       "      <td>Mary</td>\n",
       "      <td>Johnson</td>\n",
       "      <td>London</td>\n",
       "    </tr>\n",
       "  </tbody>\n",
       "</table>\n",
       "</div>"
      ],
      "text/plain": [
       "   id  customer_id  order_date  total  id first_name last_name    city\n",
       "0   1            1  2021-01-01    100   1       John     Smith   Paris\n",
       "1   2            2  2021-01-02    200   2       Mary   Johnson  London\n",
       "2   3            3  2021-01-03    150   3    Michael  Williams  Berlin\n",
       "3   4            2  2021-01-04     75   2       Mary   Johnson  London"
      ]
     },
     "execution_count": 26,
     "metadata": {},
     "output_type": "execute_result"
    }
   ],
   "source": [
    "data = pd.read_sql_query(\"SELECT * FROM orders JOIN customers ON orders.customer_id = customers.id\", conn)\n",
    "data"
   ]
  },
  {
   "cell_type": "markdown",
   "id": "21d408a9-62e3-4f37-8e51-848449a78e40",
   "metadata": {},
   "source": [
    "### UPDATE: \n",
    "\n",
    "The UPDATE statement is used to modify data in a table. For example, the following query updates the salary of all employees in the \"employees\" table by 10%:\n"
   ]
  },
  {
   "cell_type": "code",
   "execution_count": null,
   "id": "3bfe9854-bb5c-4b0b-b61d-6409dfe45f9b",
   "metadata": {},
   "outputs": [],
   "source": [
    "conn.execute('''UPDATE employees SET salary = salary * 10;''')\n",
    "conn.commit()"
   ]
  },
  {
   "cell_type": "code",
   "execution_count": 34,
   "id": "426a43b9-f3f6-4ca4-8b68-baff4dac236e",
   "metadata": {},
   "outputs": [
    {
     "data": {
      "text/html": [
       "<div>\n",
       "<style scoped>\n",
       "    .dataframe tbody tr th:only-of-type {\n",
       "        vertical-align: middle;\n",
       "    }\n",
       "\n",
       "    .dataframe tbody tr th {\n",
       "        vertical-align: top;\n",
       "    }\n",
       "\n",
       "    .dataframe thead th {\n",
       "        text-align: right;\n",
       "    }\n",
       "</style>\n",
       "<table border=\"1\" class=\"dataframe\">\n",
       "  <thead>\n",
       "    <tr style=\"text-align: right;\">\n",
       "      <th></th>\n",
       "      <th>id</th>\n",
       "      <th>name</th>\n",
       "      <th>salary</th>\n",
       "    </tr>\n",
       "  </thead>\n",
       "  <tbody>\n",
       "    <tr>\n",
       "      <th>0</th>\n",
       "      <td>1</td>\n",
       "      <td>John Smith</td>\n",
       "      <td>500000.0</td>\n",
       "    </tr>\n",
       "    <tr>\n",
       "      <th>1</th>\n",
       "      <td>2</td>\n",
       "      <td>Mary Johnson</td>\n",
       "      <td>550000.0</td>\n",
       "    </tr>\n",
       "    <tr>\n",
       "      <th>2</th>\n",
       "      <td>3</td>\n",
       "      <td>Michael Williams</td>\n",
       "      <td>600000.0</td>\n",
       "    </tr>\n",
       "    <tr>\n",
       "      <th>3</th>\n",
       "      <td>4</td>\n",
       "      <td>Brad Brown</td>\n",
       "      <td>650000.0</td>\n",
       "    </tr>\n",
       "  </tbody>\n",
       "</table>\n",
       "</div>"
      ],
      "text/plain": [
       "   id              name    salary\n",
       "0   1        John Smith  500000.0\n",
       "1   2      Mary Johnson  550000.0\n",
       "2   3  Michael Williams  600000.0\n",
       "3   4        Brad Brown  650000.0"
      ]
     },
     "execution_count": 34,
     "metadata": {},
     "output_type": "execute_result"
    }
   ],
   "source": [
    "data = pd.read_sql_query(\"SELECT * FROM employees\", conn)\n",
    "data"
   ]
  },
  {
   "cell_type": "markdown",
   "id": "ea0cc0d3-6cb3-4d5e-b72b-973ea2f5df99",
   "metadata": {},
   "source": [
    "### DELETE: \n",
    "\n",
    "The DELETE statement is used to remove data from a table. For example, the following query deletes all rows from the \"employees\" table where the salary is less than $50,000:"
   ]
  },
  {
   "cell_type": "code",
   "execution_count": 35,
   "id": "6749cd95-f0e0-477d-90b5-6c489fc09e5f",
   "metadata": {},
   "outputs": [
    {
     "data": {
      "text/html": [
       "<div>\n",
       "<style scoped>\n",
       "    .dataframe tbody tr th:only-of-type {\n",
       "        vertical-align: middle;\n",
       "    }\n",
       "\n",
       "    .dataframe tbody tr th {\n",
       "        vertical-align: top;\n",
       "    }\n",
       "\n",
       "    .dataframe thead th {\n",
       "        text-align: right;\n",
       "    }\n",
       "</style>\n",
       "<table border=\"1\" class=\"dataframe\">\n",
       "  <thead>\n",
       "    <tr style=\"text-align: right;\">\n",
       "      <th></th>\n",
       "      <th>id</th>\n",
       "      <th>name</th>\n",
       "      <th>salary</th>\n",
       "    </tr>\n",
       "  </thead>\n",
       "  <tbody>\n",
       "    <tr>\n",
       "      <th>0</th>\n",
       "      <td>2</td>\n",
       "      <td>Mary Johnson</td>\n",
       "      <td>550000.0</td>\n",
       "    </tr>\n",
       "    <tr>\n",
       "      <th>1</th>\n",
       "      <td>3</td>\n",
       "      <td>Michael Williams</td>\n",
       "      <td>600000.0</td>\n",
       "    </tr>\n",
       "    <tr>\n",
       "      <th>2</th>\n",
       "      <td>4</td>\n",
       "      <td>Brad Brown</td>\n",
       "      <td>650000.0</td>\n",
       "    </tr>\n",
       "  </tbody>\n",
       "</table>\n",
       "</div>"
      ],
      "text/plain": [
       "   id              name    salary\n",
       "0   2      Mary Johnson  550000.0\n",
       "1   3  Michael Williams  600000.0\n",
       "2   4        Brad Brown  650000.0"
      ]
     },
     "execution_count": 35,
     "metadata": {},
     "output_type": "execute_result"
    }
   ],
   "source": [
    "conn.execute('''DELETE FROM employees WHERE salary < 550000;''')\n",
    "conn.commit()\n",
    "data = pd.read_sql_query(\"SELECT * FROM employees\", conn)\n",
    "data"
   ]
  },
  {
   "cell_type": "markdown",
   "id": "09392a0a-5886-4711-88a6-7909d5c731d5",
   "metadata": {},
   "source": [
    "### GROUP BY: \n",
    "\n",
    "The GROUP BY clause is used to group rows in a SELECT statement based on one or more columns. For example, the following query retrieves the total in_stock for each product category:"
   ]
  },
  {
   "cell_type": "code",
   "execution_count": 38,
   "id": "5f8f9db5-c306-4873-a053-b005bbc0b4da",
   "metadata": {},
   "outputs": [
    {
     "data": {
      "text/html": [
       "<div>\n",
       "<style scoped>\n",
       "    .dataframe tbody tr th:only-of-type {\n",
       "        vertical-align: middle;\n",
       "    }\n",
       "\n",
       "    .dataframe tbody tr th {\n",
       "        vertical-align: top;\n",
       "    }\n",
       "\n",
       "    .dataframe thead th {\n",
       "        text-align: right;\n",
       "    }\n",
       "</style>\n",
       "<table border=\"1\" class=\"dataframe\">\n",
       "  <thead>\n",
       "    <tr style=\"text-align: right;\">\n",
       "      <th></th>\n",
       "      <th>category</th>\n",
       "      <th>SUM(in_stock)</th>\n",
       "    </tr>\n",
       "  </thead>\n",
       "  <tbody>\n",
       "    <tr>\n",
       "      <th>0</th>\n",
       "      <td>clothing</td>\n",
       "      <td>1</td>\n",
       "    </tr>\n",
       "    <tr>\n",
       "      <th>1</th>\n",
       "      <td>electronics</td>\n",
       "      <td>2</td>\n",
       "    </tr>\n",
       "  </tbody>\n",
       "</table>\n",
       "</div>"
      ],
      "text/plain": [
       "      category  SUM(in_stock)\n",
       "0     clothing              1\n",
       "1  electronics              2"
      ]
     },
     "execution_count": 38,
     "metadata": {},
     "output_type": "execute_result"
    }
   ],
   "source": [
    "data = pd.read_sql_query(\"SELECT category, SUM(in_stock) FROM products GROUP BY category;\", conn)\n",
    "data"
   ]
  },
  {
   "cell_type": "markdown",
   "id": "d2acf2f3-c1ac-4acc-8764-87775338a1e0",
   "metadata": {},
   "source": [
    "### ORDER BY: \n",
    "\n",
    "The ORDER BY clause is used to sort the data returned by a SELECT statement. For example, the following query retrieves all columns from the \"customers\" table, sorted by last name in ascending order:\n"
   ]
  },
  {
   "cell_type": "code",
   "execution_count": 39,
   "id": "56e065d9-8b66-4ab3-beb3-9668bf5cf355",
   "metadata": {},
   "outputs": [
    {
     "data": {
      "text/html": [
       "<div>\n",
       "<style scoped>\n",
       "    .dataframe tbody tr th:only-of-type {\n",
       "        vertical-align: middle;\n",
       "    }\n",
       "\n",
       "    .dataframe tbody tr th {\n",
       "        vertical-align: top;\n",
       "    }\n",
       "\n",
       "    .dataframe thead th {\n",
       "        text-align: right;\n",
       "    }\n",
       "</style>\n",
       "<table border=\"1\" class=\"dataframe\">\n",
       "  <thead>\n",
       "    <tr style=\"text-align: right;\">\n",
       "      <th></th>\n",
       "      <th>id</th>\n",
       "      <th>first_name</th>\n",
       "      <th>last_name</th>\n",
       "      <th>city</th>\n",
       "    </tr>\n",
       "  </thead>\n",
       "  <tbody>\n",
       "    <tr>\n",
       "      <th>0</th>\n",
       "      <td>4</td>\n",
       "      <td>Brad</td>\n",
       "      <td>Brown</td>\n",
       "      <td>Rome</td>\n",
       "    </tr>\n",
       "    <tr>\n",
       "      <th>1</th>\n",
       "      <td>2</td>\n",
       "      <td>Mary</td>\n",
       "      <td>Johnson</td>\n",
       "      <td>London</td>\n",
       "    </tr>\n",
       "    <tr>\n",
       "      <th>2</th>\n",
       "      <td>1</td>\n",
       "      <td>John</td>\n",
       "      <td>Smith</td>\n",
       "      <td>Paris</td>\n",
       "    </tr>\n",
       "    <tr>\n",
       "      <th>3</th>\n",
       "      <td>3</td>\n",
       "      <td>Michael</td>\n",
       "      <td>Williams</td>\n",
       "      <td>Berlin</td>\n",
       "    </tr>\n",
       "  </tbody>\n",
       "</table>\n",
       "</div>"
      ],
      "text/plain": [
       "   id first_name last_name    city\n",
       "0   4       Brad     Brown    Rome\n",
       "1   2       Mary   Johnson  London\n",
       "2   1       John     Smith   Paris\n",
       "3   3    Michael  Williams  Berlin"
      ]
     },
     "execution_count": 39,
     "metadata": {},
     "output_type": "execute_result"
    }
   ],
   "source": [
    "data = pd.read_sql_query(\"SELECT * FROM customers ORDER BY last_name;\", conn)\n",
    "data"
   ]
  },
  {
   "cell_type": "markdown",
   "id": "61664dcf-63e3-49f3-beac-eb37fc60b455",
   "metadata": {},
   "source": [
    "### LIMIT: \n",
    "\n",
    "The LIMIT clause is used to limit the number of rows returned by a SELECT statement. For example, the following query retrieves the top 2 products by in_stocks:"
   ]
  },
  {
   "cell_type": "code",
   "execution_count": 42,
   "id": "ed2483d6-14a7-4c62-87ff-2300caef403b",
   "metadata": {},
   "outputs": [
    {
     "data": {
      "text/html": [
       "<div>\n",
       "<style scoped>\n",
       "    .dataframe tbody tr th:only-of-type {\n",
       "        vertical-align: middle;\n",
       "    }\n",
       "\n",
       "    .dataframe tbody tr th {\n",
       "        vertical-align: top;\n",
       "    }\n",
       "\n",
       "    .dataframe thead th {\n",
       "        text-align: right;\n",
       "    }\n",
       "</style>\n",
       "<table border=\"1\" class=\"dataframe\">\n",
       "  <thead>\n",
       "    <tr style=\"text-align: right;\">\n",
       "      <th></th>\n",
       "      <th>id</th>\n",
       "      <th>product_name</th>\n",
       "      <th>category</th>\n",
       "      <th>price</th>\n",
       "      <th>in_stock</th>\n",
       "    </tr>\n",
       "  </thead>\n",
       "  <tbody>\n",
       "    <tr>\n",
       "      <th>0</th>\n",
       "      <td>1</td>\n",
       "      <td>MacBook Pro</td>\n",
       "      <td>electronics</td>\n",
       "      <td>1500</td>\n",
       "      <td>1</td>\n",
       "    </tr>\n",
       "    <tr>\n",
       "      <th>1</th>\n",
       "      <td>2</td>\n",
       "      <td>iPhone</td>\n",
       "      <td>electronics</td>\n",
       "      <td>1000</td>\n",
       "      <td>1</td>\n",
       "    </tr>\n",
       "  </tbody>\n",
       "</table>\n",
       "</div>"
      ],
      "text/plain": [
       "   id product_name     category  price  in_stock\n",
       "0   1  MacBook Pro  electronics   1500         1\n",
       "1   2       iPhone  electronics   1000         1"
      ]
     },
     "execution_count": 42,
     "metadata": {},
     "output_type": "execute_result"
    }
   ],
   "source": [
    "data = pd.read_sql_query(\"SELECT * FROM products ORDER BY in_stock DESC LIMIT 2;\", conn)\n",
    "data"
   ]
  },
  {
   "cell_type": "markdown",
   "id": "acfcd4ec-e0ee-4ca9-9dff-3e2c4490983b",
   "metadata": {},
   "source": [
    "### LIKE: \n",
    "\n",
    "The LIKE operator is used to search for a specific pattern in a column. For example, the following query retrieves all customers whose last name starts with \"S\":\n"
   ]
  },
  {
   "cell_type": "code",
   "execution_count": 43,
   "id": "3f5f6ba8-8d95-4a98-abf4-5a788c0c3e52",
   "metadata": {},
   "outputs": [
    {
     "data": {
      "text/html": [
       "<div>\n",
       "<style scoped>\n",
       "    .dataframe tbody tr th:only-of-type {\n",
       "        vertical-align: middle;\n",
       "    }\n",
       "\n",
       "    .dataframe tbody tr th {\n",
       "        vertical-align: top;\n",
       "    }\n",
       "\n",
       "    .dataframe thead th {\n",
       "        text-align: right;\n",
       "    }\n",
       "</style>\n",
       "<table border=\"1\" class=\"dataframe\">\n",
       "  <thead>\n",
       "    <tr style=\"text-align: right;\">\n",
       "      <th></th>\n",
       "      <th>id</th>\n",
       "      <th>first_name</th>\n",
       "      <th>last_name</th>\n",
       "      <th>city</th>\n",
       "    </tr>\n",
       "  </thead>\n",
       "  <tbody>\n",
       "    <tr>\n",
       "      <th>0</th>\n",
       "      <td>1</td>\n",
       "      <td>John</td>\n",
       "      <td>Smith</td>\n",
       "      <td>Paris</td>\n",
       "    </tr>\n",
       "  </tbody>\n",
       "</table>\n",
       "</div>"
      ],
      "text/plain": [
       "   id first_name last_name   city\n",
       "0   1       John     Smith  Paris"
      ]
     },
     "execution_count": 43,
     "metadata": {},
     "output_type": "execute_result"
    }
   ],
   "source": [
    "data = pd.read_sql_query(\"SELECT * FROM customers WHERE last_name LIKE 'S%';\", conn)\n",
    "data"
   ]
  },
  {
   "cell_type": "markdown",
   "id": "baa2d2dc-6473-4214-84a9-5baaad3c275b",
   "metadata": {},
   "source": [
    "### INNER JOIN: \n",
    "\n",
    "The INNER JOIN keyword is used to combine rows from two or more tables based on a related column between them. This will only return rows when there is at least one match in both tables. For example:\n"
   ]
  },
  {
   "cell_type": "code",
   "execution_count": 50,
   "id": "84d11e2d-dad6-4896-8834-b852eedec965",
   "metadata": {},
   "outputs": [
    {
     "data": {
      "text/html": [
       "<div>\n",
       "<style scoped>\n",
       "    .dataframe tbody tr th:only-of-type {\n",
       "        vertical-align: middle;\n",
       "    }\n",
       "\n",
       "    .dataframe tbody tr th {\n",
       "        vertical-align: top;\n",
       "    }\n",
       "\n",
       "    .dataframe thead th {\n",
       "        text-align: right;\n",
       "    }\n",
       "</style>\n",
       "<table border=\"1\" class=\"dataframe\">\n",
       "  <thead>\n",
       "    <tr style=\"text-align: right;\">\n",
       "      <th></th>\n",
       "      <th>id</th>\n",
       "      <th>first_name</th>\n",
       "    </tr>\n",
       "  </thead>\n",
       "  <tbody>\n",
       "    <tr>\n",
       "      <th>0</th>\n",
       "      <td>1</td>\n",
       "      <td>John</td>\n",
       "    </tr>\n",
       "    <tr>\n",
       "      <th>1</th>\n",
       "      <td>2</td>\n",
       "      <td>Mary</td>\n",
       "    </tr>\n",
       "    <tr>\n",
       "      <th>2</th>\n",
       "      <td>3</td>\n",
       "      <td>Michael</td>\n",
       "    </tr>\n",
       "    <tr>\n",
       "      <th>3</th>\n",
       "      <td>4</td>\n",
       "      <td>Mary</td>\n",
       "    </tr>\n",
       "  </tbody>\n",
       "</table>\n",
       "</div>"
      ],
      "text/plain": [
       "   id first_name\n",
       "0   1       John\n",
       "1   2       Mary\n",
       "2   3    Michael\n",
       "3   4       Mary"
      ]
     },
     "execution_count": 50,
     "metadata": {},
     "output_type": "execute_result"
    }
   ],
   "source": [
    "data = pd.read_sql_query('''SELECT orders.id, customers.first_name\n",
    "                            FROM orders\n",
    "                            INNER JOIN customers ON orders.customer_id = customers.id;''', conn)\n",
    "data"
   ]
  },
  {
   "cell_type": "markdown",
   "id": "1125b1c5-8931-4514-a2a5-f7e7a9531b7f",
   "metadata": {},
   "source": [
    "### OUTER JOIN: \n",
    "\n",
    "The OUTER JOIN keyword is used to combine rows from two or more tables based on a related column between them. This will return all rows from one table and the matching rows from the other table. If there is no match, NULL values will be returned. For example:"
   ]
  },
  {
   "cell_type": "code",
   "execution_count": 51,
   "id": "4b4b4262-066e-4833-a638-c5a6eec55c4e",
   "metadata": {},
   "outputs": [
    {
     "data": {
      "text/html": [
       "<div>\n",
       "<style scoped>\n",
       "    .dataframe tbody tr th:only-of-type {\n",
       "        vertical-align: middle;\n",
       "    }\n",
       "\n",
       "    .dataframe tbody tr th {\n",
       "        vertical-align: top;\n",
       "    }\n",
       "\n",
       "    .dataframe thead th {\n",
       "        text-align: right;\n",
       "    }\n",
       "</style>\n",
       "<table border=\"1\" class=\"dataframe\">\n",
       "  <thead>\n",
       "    <tr style=\"text-align: right;\">\n",
       "      <th></th>\n",
       "      <th>id</th>\n",
       "      <th>first_name</th>\n",
       "    </tr>\n",
       "  </thead>\n",
       "  <tbody>\n",
       "    <tr>\n",
       "      <th>0</th>\n",
       "      <td>1</td>\n",
       "      <td>John</td>\n",
       "    </tr>\n",
       "    <tr>\n",
       "      <th>1</th>\n",
       "      <td>2</td>\n",
       "      <td>Mary</td>\n",
       "    </tr>\n",
       "    <tr>\n",
       "      <th>2</th>\n",
       "      <td>3</td>\n",
       "      <td>Michael</td>\n",
       "    </tr>\n",
       "    <tr>\n",
       "      <th>3</th>\n",
       "      <td>4</td>\n",
       "      <td>Mary</td>\n",
       "    </tr>\n",
       "  </tbody>\n",
       "</table>\n",
       "</div>"
      ],
      "text/plain": [
       "   id first_name\n",
       "0   1       John\n",
       "1   2       Mary\n",
       "2   3    Michael\n",
       "3   4       Mary"
      ]
     },
     "execution_count": 51,
     "metadata": {},
     "output_type": "execute_result"
    }
   ],
   "source": [
    "data = pd.read_sql_query('''SELECT orders.id, customers.first_name\n",
    "                            FROM orders\n",
    "                            LEFT OUTER JOIN customers ON orders.customer_id = customers.id;\n",
    "                            ''', conn)\n",
    "data"
   ]
  },
  {
   "cell_type": "markdown",
   "id": "8fd0156f-d496-483d-a2c2-5651ece343c6",
   "metadata": {},
   "source": [
    "### UNION: \n",
    "\n",
    "The UNION operator is used to combine the result-set of two or more SELECT statements. The UNION operator selects only distinct values by default. For example:\n"
   ]
  },
  {
   "cell_type": "code",
   "execution_count": 52,
   "id": "e19528dd-00e3-42e5-b65b-8c9c7f424a34",
   "metadata": {},
   "outputs": [
    {
     "data": {
      "text/html": [
       "<div>\n",
       "<style scoped>\n",
       "    .dataframe tbody tr th:only-of-type {\n",
       "        vertical-align: middle;\n",
       "    }\n",
       "\n",
       "    .dataframe tbody tr th {\n",
       "        vertical-align: top;\n",
       "    }\n",
       "\n",
       "    .dataframe thead th {\n",
       "        text-align: right;\n",
       "    }\n",
       "</style>\n",
       "<table border=\"1\" class=\"dataframe\">\n",
       "  <thead>\n",
       "    <tr style=\"text-align: right;\">\n",
       "      <th></th>\n",
       "      <th>id</th>\n",
       "      <th>customer_id</th>\n",
       "      <th>order_date</th>\n",
       "      <th>total</th>\n",
       "    </tr>\n",
       "  </thead>\n",
       "  <tbody>\n",
       "    <tr>\n",
       "      <th>0</th>\n",
       "      <td>1</td>\n",
       "      <td>1</td>\n",
       "      <td>2021-01-01</td>\n",
       "      <td>100</td>\n",
       "    </tr>\n",
       "    <tr>\n",
       "      <th>1</th>\n",
       "      <td>1</td>\n",
       "      <td>John</td>\n",
       "      <td>Smith</td>\n",
       "      <td>Paris</td>\n",
       "    </tr>\n",
       "    <tr>\n",
       "      <th>2</th>\n",
       "      <td>2</td>\n",
       "      <td>2</td>\n",
       "      <td>2021-01-02</td>\n",
       "      <td>200</td>\n",
       "    </tr>\n",
       "    <tr>\n",
       "      <th>3</th>\n",
       "      <td>2</td>\n",
       "      <td>Mary</td>\n",
       "      <td>Johnson</td>\n",
       "      <td>London</td>\n",
       "    </tr>\n",
       "    <tr>\n",
       "      <th>4</th>\n",
       "      <td>3</td>\n",
       "      <td>3</td>\n",
       "      <td>2021-01-03</td>\n",
       "      <td>150</td>\n",
       "    </tr>\n",
       "    <tr>\n",
       "      <th>5</th>\n",
       "      <td>3</td>\n",
       "      <td>Michael</td>\n",
       "      <td>Williams</td>\n",
       "      <td>Berlin</td>\n",
       "    </tr>\n",
       "    <tr>\n",
       "      <th>6</th>\n",
       "      <td>4</td>\n",
       "      <td>2</td>\n",
       "      <td>2021-01-04</td>\n",
       "      <td>75</td>\n",
       "    </tr>\n",
       "    <tr>\n",
       "      <th>7</th>\n",
       "      <td>4</td>\n",
       "      <td>Brad</td>\n",
       "      <td>Brown</td>\n",
       "      <td>Rome</td>\n",
       "    </tr>\n",
       "  </tbody>\n",
       "</table>\n",
       "</div>"
      ],
      "text/plain": [
       "   id customer_id  order_date   total\n",
       "0   1           1  2021-01-01     100\n",
       "1   1        John       Smith   Paris\n",
       "2   2           2  2021-01-02     200\n",
       "3   2        Mary     Johnson  London\n",
       "4   3           3  2021-01-03     150\n",
       "5   3     Michael    Williams  Berlin\n",
       "6   4           2  2021-01-04      75\n",
       "7   4        Brad       Brown    Rome"
      ]
     },
     "execution_count": 52,
     "metadata": {},
     "output_type": "execute_result"
    }
   ],
   "source": [
    "data = pd.read_sql_query('''SELECT * FROM orders UNION SELECT * FROM customers;''', conn)\n",
    "data"
   ]
  },
  {
   "cell_type": "markdown",
   "id": "c0173ae8-1e42-44d4-bc4d-c30795f533f8",
   "metadata": {},
   "source": [
    "### INDEX: \n",
    "\n",
    "Indexes are used to improve the performance of a database by allowing the database to find and retrieve specific rows much faster. For example, the following command creates an index on the \"last_name\" column in the \"customers\" table:\n"
   ]
  },
  {
   "cell_type": "code",
   "execution_count": null,
   "id": "70696444-b01d-45ff-8f7b-05a7befd553c",
   "metadata": {},
   "outputs": [],
   "source": [
    "conn.execute('''CREATE INDEX last_name_indexes ON customers (last_name);''')\n",
    "conn.commit()\n"
   ]
  },
  {
   "cell_type": "markdown",
   "id": "1c13ae43-c9f3-4a6b-b89b-14a65bc7047b",
   "metadata": {},
   "source": [
    "### Date and Time Functions: \n",
    "\n",
    "SQL provides a number of functions to work with date and time data types. Some examples include:\n",
    "\n",
    "* CURDATE() - returns the current date\n",
    "* NOW() - returns the current date and time\n",
    "* YEAR() - returns the year of a given date\n",
    "* MONTH() - returns the month of a given date\n",
    "* DAY() - returns the day of a given date\n",
    "\n",
    "As we are using SQLite. So, SQLite provides several built-in functions for working with date and time. Here is a list of some of the most commonly used date and time functions in SQLite:\n",
    "\n",
    "* `date(timestring, modifier, modifier, ...)`: This function returns the date part of a date-time string.\n",
    "\n",
    "* `time(timestring, modifier, modifier, ...)`: This function returns the time part of a date-time string.\n",
    "\n",
    "* `datetime(timestring, modifier, modifier, ...)`: This function returns the date and time parts of a date-time string.\n",
    "\n",
    "* `julianday(timestring, modifier, modifier, ...)`: This function returns the Julian day - the number of days since noon in Greenwich on November 24, 4714 B.C.\n",
    "\n",
    "* `strftime(format, timestring, modifier, ...)`: This function returns a string representation of the date and time based on the specified format. The format string can contain various placeholders for different parts of the date and time, such as %Y for the year, %m for the month, %d for the day, %H for the hour, %M for the minute, and %S for the second.\n",
    "\n",
    "* `date(timestring, '+' or '-', number, 'days' or 'months' or 'years')`: This function allows you to add or subtract days, months, or years from a date.\n",
    "\n",
    "* `current_date`, `current_time`, `current_timestamp`: These functions return the current date, time, and timestamp respectively.\n",
    "\n",
    "* `year(timestring)`, `month(timestring)`, `day(timestring)`, `hour(timestring)`, `minute(timestring)`, `second(timestring)`: These functions return the year, month, day, hour, minute, and second of the given timestring respectively.\n",
    "\n",
    "\n",
    "\n",
    "For example, the following query retrieves the total sales for each month of the current year:\n"
   ]
  },
  {
   "cell_type": "code",
   "execution_count": 60,
   "id": "d8ba7b17-15d1-4e19-b33e-d46f967a84d9",
   "metadata": {},
   "outputs": [
    {
     "data": {
      "text/html": [
       "<div>\n",
       "<style scoped>\n",
       "    .dataframe tbody tr th:only-of-type {\n",
       "        vertical-align: middle;\n",
       "    }\n",
       "\n",
       "    .dataframe tbody tr th {\n",
       "        vertical-align: top;\n",
       "    }\n",
       "\n",
       "    .dataframe thead th {\n",
       "        text-align: right;\n",
       "    }\n",
       "</style>\n",
       "<table border=\"1\" class=\"dataframe\">\n",
       "  <thead>\n",
       "    <tr style=\"text-align: right;\">\n",
       "      <th></th>\n",
       "      <th>month</th>\n",
       "      <th>totals</th>\n",
       "    </tr>\n",
       "  </thead>\n",
       "  <tbody>\n",
       "  </tbody>\n",
       "</table>\n",
       "</div>"
      ],
      "text/plain": [
       "Empty DataFrame\n",
       "Columns: [month, totals]\n",
       "Index: []"
      ]
     },
     "execution_count": 60,
     "metadata": {},
     "output_type": "execute_result"
    }
   ],
   "source": [
    "data = pd.read_sql_query('''SELECT strftime('%m', order_date) as month, SUM(total) as totals\n",
    "                                FROM orders\n",
    "                                WHERE strftime('%Y', order_date) = strftime('%Y', 'now')\n",
    "                                GROUP BY month;''', conn)"
   ]
  },
  {
   "cell_type": "markdown",
   "id": "4d555ebe-cce5-4700-a302-465386807554",
   "metadata": {},
   "source": [
    "### Handling NULL values: \n",
    "\n",
    "SQL provides several operators and functions to handle NULL values. Some examples include:\n",
    "* IS NULL - used to check for NULL values\n",
    "* IS NOT NULL - used to check for non-NULL values\n",
    "* COALESCE() - returns the first non-NULL value in a list of expressions\n",
    "* NULLIF() - returns NULL if two expressions are equal, otherwise it returns the first expression\n",
    "\n",
    "For example, the following query retrieves all customers who have not placed any orders:"
   ]
  },
  {
   "cell_type": "code",
   "execution_count": 62,
   "id": "f290cc85-253f-4539-bb6f-bea417b49e09",
   "metadata": {},
   "outputs": [
    {
     "data": {
      "text/html": [
       "<div>\n",
       "<style scoped>\n",
       "    .dataframe tbody tr th:only-of-type {\n",
       "        vertical-align: middle;\n",
       "    }\n",
       "\n",
       "    .dataframe tbody tr th {\n",
       "        vertical-align: top;\n",
       "    }\n",
       "\n",
       "    .dataframe thead th {\n",
       "        text-align: right;\n",
       "    }\n",
       "</style>\n",
       "<table border=\"1\" class=\"dataframe\">\n",
       "  <thead>\n",
       "    <tr style=\"text-align: right;\">\n",
       "      <th></th>\n",
       "      <th>id</th>\n",
       "      <th>first_name</th>\n",
       "      <th>last_name</th>\n",
       "      <th>city</th>\n",
       "    </tr>\n",
       "  </thead>\n",
       "  <tbody>\n",
       "    <tr>\n",
       "      <th>0</th>\n",
       "      <td>4</td>\n",
       "      <td>Brad</td>\n",
       "      <td>Brown</td>\n",
       "      <td>Rome</td>\n",
       "    </tr>\n",
       "  </tbody>\n",
       "</table>\n",
       "</div>"
      ],
      "text/plain": [
       "   id first_name last_name  city\n",
       "0   4       Brad     Brown  Rome"
      ]
     },
     "execution_count": 62,
     "metadata": {},
     "output_type": "execute_result"
    }
   ],
   "source": [
    "data = pd.read_sql_query('''SELECT * FROM customers\n",
    "                                WHERE id NOT IN (SELECT customer_id FROM orders)\n",
    "                                ''', conn)\n",
    "data"
   ]
  },
  {
   "cell_type": "markdown",
   "id": "b88463c2-7c79-46c4-aa98-c2aa7dbe2cc2",
   "metadata": {},
   "source": [
    "### Other data types: \n",
    "\n",
    "SQL also supports other data types such as BLOB (binary large object) for storing binary data, BOOLEAN for storing true/false values, and ENUM for storing predefined set of strings.\n",
    "\n",
    "For example, the following query retrieves all products with image and only if the products are in stock:"
   ]
  },
  {
   "cell_type": "code",
   "execution_count": 64,
   "id": "0f339eed-4dcf-479c-a777-5fa299c828c3",
   "metadata": {},
   "outputs": [
    {
     "data": {
      "text/html": [
       "<div>\n",
       "<style scoped>\n",
       "    .dataframe tbody tr th:only-of-type {\n",
       "        vertical-align: middle;\n",
       "    }\n",
       "\n",
       "    .dataframe tbody tr th {\n",
       "        vertical-align: top;\n",
       "    }\n",
       "\n",
       "    .dataframe thead th {\n",
       "        text-align: right;\n",
       "    }\n",
       "</style>\n",
       "<table border=\"1\" class=\"dataframe\">\n",
       "  <thead>\n",
       "    <tr style=\"text-align: right;\">\n",
       "      <th></th>\n",
       "      <th>product_name</th>\n",
       "      <th>in_stock</th>\n",
       "    </tr>\n",
       "  </thead>\n",
       "  <tbody>\n",
       "    <tr>\n",
       "      <th>0</th>\n",
       "      <td>MacBook Pro</td>\n",
       "      <td>1</td>\n",
       "    </tr>\n",
       "    <tr>\n",
       "      <th>1</th>\n",
       "      <td>iPhone</td>\n",
       "      <td>1</td>\n",
       "    </tr>\n",
       "    <tr>\n",
       "      <th>2</th>\n",
       "      <td>T-Shirt</td>\n",
       "      <td>1</td>\n",
       "    </tr>\n",
       "  </tbody>\n",
       "</table>\n",
       "</div>"
      ],
      "text/plain": [
       "  product_name  in_stock\n",
       "0  MacBook Pro         1\n",
       "1       iPhone         1\n",
       "2      T-Shirt         1"
      ]
     },
     "execution_count": 64,
     "metadata": {},
     "output_type": "execute_result"
    }
   ],
   "source": [
    "data = pd.read_sql_query('''SELECT product_name, in_stock FROM products\n",
    "                                    WHERE product_name IS NOT NULL AND in_stock = TRUE;\n",
    "                                    ''', conn)\n",
    "data"
   ]
  },
  {
   "cell_type": "markdown",
   "id": "508c2d91-a5d3-4bab-945c-0821a195ff2e",
   "metadata": {},
   "source": [
    "## Summary\n",
    "\n",
    "This article provides a comprehensive guide to relational database management systems (RDBMS) and SQL (Structured Query Language) for data science and analysis. It covers the basics and advanced concepts of RDBMS and SQL, including data types, queries, and advanced concepts such as joins and subqueries. The article also provides examples and code snippets to help illustrate the concepts and provide a hands-on learning experience. The main goal of this article is to help data scientists, analysts, and developers understand the importance of RDBMS and SQL in managing and analyzing large datasets."
   ]
  }
 ],
 "metadata": {
  "kernelspec": {
   "display_name": "Python 3 (ipykernel)",
   "language": "python",
   "name": "python3"
  },
  "language_info": {
   "codemirror_mode": {
    "name": "ipython",
    "version": 3
   },
   "file_extension": ".py",
   "mimetype": "text/x-python",
   "name": "python",
   "nbconvert_exporter": "python",
   "pygments_lexer": "ipython3",
   "version": "3.9.15"
  }
 },
 "nbformat": 4,
 "nbformat_minor": 5
}

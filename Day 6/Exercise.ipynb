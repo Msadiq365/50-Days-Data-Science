{
 "cells": [
  {
   "cell_type": "markdown",
   "id": "9162e530-ceeb-4979-a541-b4eb6121b9d3",
   "metadata": {},
   "source": [
    "### Exercise:\n",
    "\n",
    "You work for an online retailer and you have been asked to create some plots to visualize the sales data for different products. The sales data is in a CSV file (attached below) with the following columns: \"Product\", \"Category\", \"Sales\", \"Profit\", \"Discount\", and \"Date\".\n",
    "\n",
    "Using the provided data, create the following plots using Matplotlib and Seaborn:\n",
    "\n",
    "1. A line plot showing the total sales for each product over time.\n",
    "\n",
    "2. A scatter plot showing the relationship between sales and profit for each product.\n",
    "\n",
    "3. A bar plot showing the total sales for each category.\n",
    "\n",
    "4. A histogram showing the distribution of discounts.\n",
    "\n",
    "5. A box plot showing the distribution of sales for each category.\n",
    "\n",
    "6. A heatmap showing the relationship between sales and profit for each category and date\n",
    "\n",
    "7. A violin plot showing the distribution of sales for each product.\n",
    "\n",
    "8. A swarm plot showing the distribution of discounts for each category\n",
    "\n",
    "9. A pie chart showing the proportion of sales for each category\n",
    "\n",
    "10. A stacked bar chart showing the breakdown of sales by category and product.\n",
    "\n",
    "Make sure to customize the appearance of the plots, such as labels, scales, and colors, to make them easy to read and interpret."
   ]
  },
  {
   "cell_type": "markdown",
   "id": "d3a02cd1-8e8c-4ae3-a1fb-d95f7482c21e",
   "metadata": {},
   "source": [
    "You can use the pandas library to load and manipulate the data."
   ]
  }
 ],
 "metadata": {
  "kernelspec": {
   "display_name": "Python 3 (ipykernel)",
   "language": "python",
   "name": "python3"
  },
  "language_info": {
   "codemirror_mode": {
    "name": "ipython",
    "version": 3
   },
   "file_extension": ".py",
   "mimetype": "text/x-python",
   "name": "python",
   "nbconvert_exporter": "python",
   "pygments_lexer": "ipython3",
   "version": "3.9.15"
  }
 },
 "nbformat": 4,
 "nbformat_minor": 5
}

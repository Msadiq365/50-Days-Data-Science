{
 "cells": [
  {
   "cell_type": "markdown",
   "id": "4c1a4792-83c8-4f93-8ece-c9645d3529fa",
   "metadata": {},
   "source": [
    "# Day 2 of 100 Days Data Science Bootcamp from noob to expert."
   ]
  },
  {
   "cell_type": "markdown",
   "id": "e02d6a2a-ef35-4a5e-b257-2444509cf443",
   "metadata": {},
   "source": [
    "## Recap Day 1\n",
    "\n",
    "Yesterday we have studied in detail about basics of python.\n",
    "\n",
    "## What we will study in this...\n",
    "In this lesson, we will delve deeper into the various inbuilt data structures in Python and explore how they can be used in programs through detailed examples and exercises. We will cover data structures such as lists, tuples, sets, and dictionaries, and discuss their unique characteristics and uses. By the end of this lesson, you will have a solid understanding of these data structures and be able to confidently utilize them in your Python programs. "
   ]
  },
  {
   "cell_type": "markdown",
   "id": "d56c1365-86fa-4336-a33c-01ddb92bd66a",
   "metadata": {},
   "source": [
    "Python has several inbuilt data data structure or data types, including:\n",
    "\n",
    "1. Integer (int) - used to represent whole numbers\n",
    "2. Float - used to represent floating point values\n",
    "3. Complex - used to represent complex numbers\n",
    "4. Boolean (bool) - used to represent boolean values (True or False)\n",
    "5. String (str) - used to represent sequences of characters\n",
    "6. List - used to represent ordered sequences of elements\n",
    "7. Tuple - used to represent ordered sequences of elements that cannot be modified\n",
    "8. Set - used to represent unordered collections of unique elements\n",
    "9. Frozen set - used to represent unordered collections of unique elements that cannot be modified\n",
    "10. Dictionary - used to represent key-value pairs\n",
    "11. None - used to represent the absence of a value.\n",
    "\n",
    "**On day 1, we briefly discussed the basics of these topics, but now we will delve into them in more detail on `List`, `Tuple`, `Set` and `Dictionary`.**"
   ]
  },
  {
   "cell_type": "markdown",
   "id": "67e3a1fd-20d0-4681-a27f-af92d4db9f0f",
   "metadata": {},
   "source": [
    "## List"
   ]
  },
  {
   "cell_type": "markdown",
   "id": "d761823e-6577-487d-a795-87b4ad9cee2e",
   "metadata": {},
   "source": [
    "### Basics:\n",
    "\n",
    "A list is a collection of items that are ordered and changeable. Lists are written with square brackets and the items are separated by commas."
   ]
  },
  {
   "cell_type": "code",
   "execution_count": 25,
   "id": "db144e70-b31e-479d-b79b-4a4796164905",
   "metadata": {},
   "outputs": [
    {
     "name": "stdout",
     "output_type": "stream",
     "text": [
      "[1, 2, 3, 4]\n",
      "['apple', 'banana', 'cherry']\n",
      "[1, 'apple', 3.14, True]\n"
     ]
    }
   ],
   "source": [
    "my_list1 = [1, 2, 3, 4] # this is a list with four integers\n",
    "my_list2 = ['apple', 'banana', 'cherry'] # this is a list with three strings\n",
    "my_list3 = [1, 'apple', 3.14, True] # this is a list with four items of different data types\n",
    "\n",
    "print(my_list1)\n",
    "print(my_list2)\n",
    "print(my_list3)\n"
   ]
  },
  {
   "cell_type": "markdown",
   "id": "e4b41c91-5623-47cb-affc-3e3f2d1d58a3",
   "metadata": {},
   "source": [
    "There are several ways to create or declare a list in Python:\n",
    "\n",
    "* Using square brackets: You can create a list by enclosing a comma-separated list of items in square brackets."
   ]
  },
  {
   "cell_type": "code",
   "execution_count": 30,
   "id": "f440caa9-6346-4670-80f6-f118a845570a",
   "metadata": {},
   "outputs": [
    {
     "name": "stdout",
     "output_type": "stream",
     "text": [
      "[1, 2, 3, 4, 5]\n",
      "['apple', 'banana', 'cherry']\n",
      "[1, 'apple', 3.14, True]\n"
     ]
    }
   ],
   "source": [
    "my_list1 = [1, 2, 3, 4, 5] # this is a list of integers\n",
    "my_list2 = ['apple', 'banana', 'cherry'] # this is a list of strings\n",
    "my_list3 = [1, 'apple', 3.14, True] # this is a list of items with different data types\n",
    "print(my_list1)\n",
    "print(my_list2)\n",
    "print(my_list3)"
   ]
  },
  {
   "cell_type": "markdown",
   "id": "2cc3cfcf-a7d6-45f3-8fd6-32d83ec904a3",
   "metadata": {},
   "source": [
    "* Using the list() function: You can create a list by passing a sequence to the list() function."
   ]
  },
  {
   "cell_type": "code",
   "execution_count": 28,
   "id": "2b720cea-bb9d-4319-8e9d-1958ceb0e7c5",
   "metadata": {},
   "outputs": [
    {
     "name": "stdout",
     "output_type": "stream",
     "text": [
      "[0, 1, 2, 3, 4, 5, 6, 7, 8, 9]\n",
      "[0, 1, 2, 3, 4, 5, 6, 7, 8, 9]\n"
     ]
    }
   ],
   "source": [
    "my_list1 = list(range(10)) # creates a list of integers from 0 to 9\n",
    "my_list2 = list('abcdefg') # creates a list of characters from the string\n",
    "print(my_list1)\n",
    "print(my_list1)"
   ]
  },
  {
   "cell_type": "markdown",
   "id": "0b0370c6-b796-4bb6-960d-923a786df980",
   "metadata": {},
   "source": [
    "* Using list comprehension: You can create a list using a single line of code with list comprehension."
   ]
  },
  {
   "cell_type": "code",
   "execution_count": 29,
   "id": "64c6f8e6-f302-45bc-8e7c-69fd7d1707a3",
   "metadata": {},
   "outputs": [
    {
     "name": "stdout",
     "output_type": "stream",
     "text": [
      "[0, 1, 2, 3, 4, 5, 6, 7, 8, 9]\n",
      "[0, 1, 2, 3, 4, 5, 6, 7, 8, 9]\n"
     ]
    }
   ],
   "source": [
    "my_list1 = [x for x in range(10)] # creates a list of integers from 0 to 9\n",
    "my_list2 = [x for x in 'abcdefg'] # creates a list of characters from the string\n",
    "print(my_list1)\n",
    "print(my_list1)"
   ]
  },
  {
   "cell_type": "markdown",
   "id": "f0948c37-2add-4fc4-a925-40b615badef9",
   "metadata": {},
   "source": [
    "* Using the * operator: You can create a list by duplicating an existing list using the * operator."
   ]
  },
  {
   "cell_type": "code",
   "execution_count": 31,
   "id": "a5633980-8c70-4aaa-82a5-1ced4abe1116",
   "metadata": {},
   "outputs": [
    {
     "name": "stdout",
     "output_type": "stream",
     "text": [
      "[1, 2, 3, 1, 2, 3, 1, 2, 3]\n",
      "[1, 1, 1, 1, 1, 1, 1, 1, 1, 1]\n",
      "['hello', 'hello', 'hello', 'hello', 'hello']\n"
     ]
    }
   ],
   "source": [
    "my_list1 = [1, 2, 3] * 3 # creates a list with three copies of [1, 2, 3]\n",
    "my_list2 = [1] * 10 # creates a list with ten copies of the integer 1\n",
    "my_list3 = ['hello'] * 5 # creates a list with five copies of the string 'hello'\n",
    "print(my_list1)\n",
    "print(my_list2)\n",
    "print(my_list3)"
   ]
  },
  {
   "cell_type": "markdown",
   "id": "2c9e8197-29df-4883-a671-e3084d90fb8e",
   "metadata": {},
   "source": [
    "### Accessing Items:\n",
    "\n",
    "You can access the items in a list using their index. The index starts at 0 for the first item and goes up by 1 for each subsequent item."
   ]
  },
  {
   "cell_type": "code",
   "execution_count": 4,
   "id": "29a38179-caf4-417e-9a58-dba90ce5a8e9",
   "metadata": {},
   "outputs": [
    {
     "name": "stdout",
     "output_type": "stream",
     "text": [
      "1\n",
      "3\n"
     ]
    }
   ],
   "source": [
    "my_list = [1, 2, 3, 4]\n",
    "print(my_list[0]) # prints 1 (the first item in the list)\n",
    "print(my_list[2]) # prints 3 (the third item in the list)\n"
   ]
  },
  {
   "cell_type": "markdown",
   "id": "50748f94-a2a8-4108-a192-b8b11a9cb607",
   "metadata": {},
   "source": [
    "### Changing Items:\n",
    "\n",
    "You can change the value of an item in a list by assigning a new value to its index.\n",
    "\n"
   ]
  },
  {
   "cell_type": "code",
   "execution_count": 5,
   "id": "51f08b0c-1cc1-4a36-8275-18f73c42f6cf",
   "metadata": {},
   "outputs": [
    {
     "name": "stdout",
     "output_type": "stream",
     "text": [
      "[5, 2, 3, 4]\n"
     ]
    }
   ],
   "source": [
    "my_list = [1, 2, 3, 4]\n",
    "my_list[0] = 5 # changes the value of the first item in the list to 5\n",
    "print(my_list) # prints [5, 2, 3, 4]\n"
   ]
  },
  {
   "cell_type": "markdown",
   "id": "b9c8ed61-6033-4393-aac8-0cf8a503a563",
   "metadata": {},
   "source": [
    "### Adding Items:\n",
    "\n",
    "You can add items to a list using the `append()` method or the `insert()` method.\n",
    "\n",
    "The `append()` method adds the item to the end of the list."
   ]
  },
  {
   "cell_type": "code",
   "execution_count": 6,
   "id": "cc8d6cce-72a1-4419-8ba9-73781cd20cef",
   "metadata": {},
   "outputs": [
    {
     "name": "stdout",
     "output_type": "stream",
     "text": [
      "[1, 2, 3, 4, 5]\n"
     ]
    }
   ],
   "source": [
    "my_list = [1, 2, 3, 4]\n",
    "my_list.append(5) # adds 5 to the end of the list\n",
    "print(my_list) # prints [1, 2, 3, 4, 5]\n"
   ]
  },
  {
   "cell_type": "markdown",
   "id": "8fa169a4-251e-471b-89ea-d41581b4ae89",
   "metadata": {},
   "source": [
    "The `insert()` method adds the item at the specified index."
   ]
  },
  {
   "cell_type": "code",
   "execution_count": 7,
   "id": "c6dfbd2e-55c1-46b8-8bcf-f4d2af9d8155",
   "metadata": {},
   "outputs": [
    {
     "name": "stdout",
     "output_type": "stream",
     "text": [
      "[1, 5, 2, 3, 4]\n"
     ]
    }
   ],
   "source": [
    "my_list = [1, 2, 3, 4]\n",
    "my_list.insert(1, 5) # adds 5 at index 1 (between 1 and 2)\n",
    "print(my_list) # prints [1, 5, 2, 3, 4]\n"
   ]
  },
  {
   "cell_type": "markdown",
   "id": "362001b9-9f7f-48a5-b438-79cca1c055e1",
   "metadata": {},
   "source": [
    "### Removing Items:\n",
    "\n",
    "You can remove items from a list using the `remove()` method or the `pop()` method.\n",
    "\n",
    "The `remove()` method removes the first occurrence of the item."
   ]
  },
  {
   "cell_type": "code",
   "execution_count": 8,
   "id": "1b57e5d7-a457-42ec-bbc2-3c06b26bea23",
   "metadata": {},
   "outputs": [
    {
     "name": "stdout",
     "output_type": "stream",
     "text": [
      "[1, 2, 3, 4, 5]\n"
     ]
    }
   ],
   "source": [
    "my_list = [1, 2, 3, 4, 5, 5]\n",
    "my_list.remove(5) # removes the first occurrence of 5\n",
    "print(my_list) # prints [1, 2, 3, 4, 5]\n"
   ]
  },
  {
   "cell_type": "markdown",
   "id": "c683c016-84c2-471a-b9f1-2160bdb93312",
   "metadata": {},
   "source": [
    "The `pop()` method removes the item at the specified index and returns the item.\n",
    "\n"
   ]
  },
  {
   "cell_type": "code",
   "execution_count": 9,
   "id": "bd9ca309-a86d-47c7-863d-57d1d6e61ce5",
   "metadata": {},
   "outputs": [
    {
     "name": "stdout",
     "output_type": "stream",
     "text": [
      "[1, 3, 4]\n",
      "2\n"
     ]
    }
   ],
   "source": [
    "my_list = [1, 2, 3, 4]\n",
    "item = my_list.pop(1) # removes the item at index 1 (2) and assigns it to the variable \"item\"\n",
    "print(my_list) # prints [1, 3, 4]\n",
    "print(item) # prints 2\n"
   ]
  },
  {
   "cell_type": "markdown",
   "id": "1cf35cba-63e9-4676-9ce9-ca420568b35d",
   "metadata": {},
   "source": [
    "### Finding the Length of a List:\n",
    "\n",
    "You can find the length of a list using the len() function.\n",
    "\n"
   ]
  },
  {
   "cell_type": "code",
   "execution_count": 10,
   "id": "5103517d-df56-4a87-8c14-e1f71e3a6b0a",
   "metadata": {},
   "outputs": [
    {
     "name": "stdout",
     "output_type": "stream",
     "text": [
      "4\n"
     ]
    }
   ],
   "source": [
    "my_list = [1, 2, 3, 4]\n",
    "print(len(my_list)) # prints 4"
   ]
  },
  {
   "cell_type": "markdown",
   "id": "d4b635eb-882e-44f4-ac4e-d8fe642bbcb6",
   "metadata": {},
   "source": [
    "### Advanced:\n",
    "\n",
    "Here are some more advanced features of lists in Python:"
   ]
  },
  {
   "cell_type": "markdown",
   "id": "8e55d922-691b-48a1-97a3-e33f1f8a0c30",
   "metadata": {},
   "source": [
    "### Slicing:\n",
    "\n",
    "You can slice a list to access a portion of it by specifying a range of indexes.\n"
   ]
  },
  {
   "cell_type": "code",
   "execution_count": 11,
   "id": "f3a0b177-c3c6-4da6-82c6-bba1f5e71d4d",
   "metadata": {},
   "outputs": [
    {
     "name": "stdout",
     "output_type": "stream",
     "text": [
      "[1, 2, 3]\n",
      "[4, 5, 6, 7]\n",
      "[8, 9, 10]\n",
      "[1, 2, 3, 4, 5, 6, 7, 8, 9, 10]\n"
     ]
    }
   ],
   "source": [
    "my_list = [1, 2, 3, 4, 5, 6, 7, 8, 9, 10]\n",
    "\n",
    "# access the first three items in the list\n",
    "print(my_list[0:3]) # prints [1, 2, 3]\n",
    "\n",
    "# access the middle four items in the list\n",
    "print(my_list[3:7]) # prints [4, 5, 6, 7]\n",
    "\n",
    "# access the last three items in the list\n",
    "print(my_list[-3:]) # prints [8, 9, 10]\n",
    "\n",
    "# access all items in the list\n",
    "print(my_list[:]) # prints [1, 2, 3, 4, 5, 6, 7, 8, 9, 10]\n"
   ]
  },
  {
   "cell_type": "markdown",
   "id": "18ccefe3-9b1f-4c33-8297-cdd778e2dfe0",
   "metadata": {},
   "source": [
    "### Sorting:\n",
    "\n",
    "You can sort a list using the sorted() function or the sort() method.\n",
    "\n",
    "The sorted() function returns a new sorted list, while the `sort()"
   ]
  },
  {
   "cell_type": "code",
   "execution_count": 13,
   "id": "d4ebc479-61e7-4ee5-9201-33795862fb34",
   "metadata": {},
   "outputs": [
    {
     "name": "stdout",
     "output_type": "stream",
     "text": [
      "[1, 2, 3, 4, 5]\n",
      "[3, 5, 1, 4, 2]\n",
      "[1, 2, 3, 4, 5]\n"
     ]
    }
   ],
   "source": [
    "my_list = [3, 5, 1, 4, 2]\n",
    "\n",
    "#sort the list using the sorted() function\n",
    "sorted_list = sorted(my_list)\n",
    "print(sorted_list) # prints [1, 2, 3, 4, 5]\n",
    "print(my_list) # prints [3, 5, 1, 4, 2]\n",
    "\n",
    "#sort the list using the sort() method\n",
    "my_list.sort()\n",
    "print(my_list) # prints [1, 2, 3, 4, 5]\n",
    "\n"
   ]
  },
  {
   "cell_type": "markdown",
   "id": "8e595ae3-8600-470e-a6de-b30ef47301e2",
   "metadata": {},
   "source": [
    "### Reverse:\n",
    "\n",
    "You can reverse a list using the reverse() method.\n",
    "\n"
   ]
  },
  {
   "cell_type": "code",
   "execution_count": 14,
   "id": "28c4c937-b4d4-44e0-ac38-1127dfb7c839",
   "metadata": {},
   "outputs": [
    {
     "name": "stdout",
     "output_type": "stream",
     "text": [
      "[5, 4, 3, 2, 1]\n"
     ]
    }
   ],
   "source": [
    "my_list = [1, 2, 3, 4, 5]\n",
    "\n",
    "# reverse the list using the reverse() method\n",
    "my_list.reverse()\n",
    "print(my_list) # prints [5, 4, 3, 2, 1]\n"
   ]
  },
  {
   "cell_type": "markdown",
   "id": "6b8f0a30-9a54-40a6-8139-c28d6fecea9f",
   "metadata": {},
   "source": [
    "Reverse using slicing"
   ]
  },
  {
   "cell_type": "code",
   "execution_count": 15,
   "id": "0fca87f4-00e5-41a3-92c8-46f8f5260853",
   "metadata": {},
   "outputs": [
    {
     "name": "stdout",
     "output_type": "stream",
     "text": [
      "[5, 4, 3, 2, 1]\n"
     ]
    }
   ],
   "source": [
    "my_list = [1, 2, 3, 4, 5]\n",
    "\n",
    "# reverse using slicing\n",
    "print(my_list[::-1])"
   ]
  },
  {
   "cell_type": "markdown",
   "id": "58e204b1-1dbe-4248-8a76-9aa533a072a5",
   "metadata": {},
   "source": [
    "### List Comprehension:\n",
    "\n",
    "List comprehension is a concise way to create a list using a single line of code."
   ]
  },
  {
   "cell_type": "code",
   "execution_count": 16,
   "id": "1f981bb9-c559-49bf-b682-2aaa570f356b",
   "metadata": {},
   "outputs": [
    {
     "name": "stdout",
     "output_type": "stream",
     "text": [
      "[0, 1, 4, 9, 16, 25, 36, 49, 64, 81]\n",
      "[10, 12, 14, 16, 18, 20]\n"
     ]
    }
   ],
   "source": [
    "# create a list of squares of the numbers 0 to 9\n",
    "squares = [x**2 for x in range(10)]\n",
    "print(squares) # prints [0, 1, 4, 9, 16, 25, 36, 49, 64, 81]\n",
    "\n",
    "# create a list of even numbers between 10 and 20\n",
    "even_numbers = [x for x in range(10, 21) if x % 2 == 0]\n",
    "print(even_numbers) # prints [10, 12, 14, 16, 18, 20]\n"
   ]
  },
  {
   "cell_type": "markdown",
   "id": "ffead028-f3b6-437e-bee8-6b54e58232b9",
   "metadata": {},
   "source": [
    "### Loops:\n",
    "\n",
    "You can loop through the items in a list using a for loop."
   ]
  },
  {
   "cell_type": "code",
   "execution_count": 17,
   "id": "bdc7580d-00f6-46c7-962e-274e5da3251d",
   "metadata": {},
   "outputs": [
    {
     "name": "stdout",
     "output_type": "stream",
     "text": [
      "1\n",
      "2\n",
      "3\n",
      "4\n",
      "5\n",
      "0 apple\n",
      "1 banana\n",
      "2 cherry\n"
     ]
    }
   ],
   "source": [
    "# loop through the items in a list and print each one\n",
    "my_list = [1, 2, 3, 4, 5]\n",
    "for item in my_list:\n",
    "    print(item)\n",
    "\n",
    "# loop through the items in a list and print their index and value\n",
    "my_list = ['apple', 'banana', 'cherry']\n",
    "for i, item in enumerate(my_list):\n",
    "    print(i, item)\n",
    "\n",
    "# output:\n",
    "# 0 apple\n",
    "# 1 banana\n",
    "# 2 cherry\n"
   ]
  },
  {
   "cell_type": "markdown",
   "id": "520811e5-da72-476b-9720-647cab6389b1",
   "metadata": {},
   "source": [
    "### Enumerate:\n",
    "\n",
    "The enumerate() function returns a tuple with the index and value of each item in the list.\n"
   ]
  },
  {
   "cell_type": "code",
   "execution_count": 19,
   "id": "8d11aa9c-ec26-4b4d-ad3d-9cc6d6932903",
   "metadata": {},
   "outputs": [
    {
     "name": "stdout",
     "output_type": "stream",
     "text": [
      "0 apple\n",
      "1 banana\n",
      "2 cherry\n"
     ]
    }
   ],
   "source": [
    "my_list = ['apple', 'banana', 'cherry']\n",
    "for i, item in enumerate(my_list):\n",
    "    print(i, item)"
   ]
  },
  {
   "cell_type": "markdown",
   "id": "3da49f6b-3614-479d-8e6d-8d981bf3697d",
   "metadata": {},
   "source": [
    "### Filtering:\n",
    "\n",
    "You can filter a list to only include items that meet certain criteria using a list comprehension with a condition."
   ]
  },
  {
   "cell_type": "code",
   "execution_count": 20,
   "id": "301a7b5c-f10a-4a41-ae61-6856f520ac71",
   "metadata": {},
   "outputs": [
    {
     "name": "stdout",
     "output_type": "stream",
     "text": [
      "[2, 4, 6, 8, 10]\n",
      "[6, 7, 8, 9, 10]\n"
     ]
    }
   ],
   "source": [
    "my_list = [1, 2, 3, 4, 5, 6, 7, 8, 9, 10]\n",
    "\n",
    "# filter the list to only include even numbers\n",
    "even_numbers = [x for x in my_list if x % 2 == 0]\n",
    "print(even_numbers) # prints [2, 4, 6, 8, 10]\n",
    "\n",
    "# filter the list to only include numbers greater than 5\n",
    "greater_than_five = [x for x in my_list if x > 5]\n",
    "print(greater_than_five) # prints [6, 7, 8, 9, 10]\n"
   ]
  },
  {
   "cell_type": "markdown",
   "id": "9612c42b-b0e0-44da-a64c-e1115895e91c",
   "metadata": {},
   "source": [
    "### Mapping:\n",
    "\n",
    "You can apply a function to each item in a list using a list comprehension.\n",
    "\n"
   ]
  },
  {
   "cell_type": "code",
   "execution_count": 21,
   "id": "7f35d94b-99a4-4cd2-9ce8-ecd311606bcf",
   "metadata": {},
   "outputs": [
    {
     "name": "stdout",
     "output_type": "stream",
     "text": [
      "[2, 4, 6, 8, 10]\n",
      "['1', '2', '3', '4', '5']\n"
     ]
    }
   ],
   "source": [
    "my_list = [1, 2, 3, 4, 5]\n",
    "\n",
    "# multiply each item in the list by 2\n",
    "doubled_list = [x * 2 for x in my_list]\n",
    "print(doubled_list) # prints [2, 4, 6, 8, 10]\n",
    "\n",
    "# convert each item in the list to a string\n",
    "string_list = [str(x) for x in my_list]\n",
    "print(string_list) # prints ['1', '2', '3', '4', '5']\n"
   ]
  },
  {
   "cell_type": "markdown",
   "id": "bcda4c27-6a73-4197-8c92-25b3960b4e4f",
   "metadata": {},
   "source": [
    "### Max and Min:\n",
    "\n",
    "You can find the maximum and minimum value in a list using the max() and min() functions."
   ]
  },
  {
   "cell_type": "code",
   "execution_count": 22,
   "id": "0545ccf9-0077-477e-9815-c17bcf63f132",
   "metadata": {},
   "outputs": [
    {
     "name": "stdout",
     "output_type": "stream",
     "text": [
      "5\n",
      "1\n"
     ]
    }
   ],
   "source": [
    "my_list = [1, 2, 3, 4, 5]\n",
    "\n",
    "# find the maximum value in the list\n",
    "max_value = max(my_list)\n",
    "print(max_value) # prints 5\n",
    "\n",
    "# find the minimum value in the list\n",
    "min_value = min(my_list)\n",
    "print(min_value) # prints 1\n"
   ]
  },
  {
   "cell_type": "markdown",
   "id": "9ddd6a32-1f63-4adc-8f8f-860c843c19b2",
   "metadata": {},
   "source": [
    "### Sum:\n",
    "\n",
    "You can find the sum of all the values in a list using the sum() function.\n"
   ]
  },
  {
   "cell_type": "code",
   "execution_count": 23,
   "id": "95ae3c70-eea7-4277-a1fd-315637994916",
   "metadata": {},
   "outputs": [
    {
     "name": "stdout",
     "output_type": "stream",
     "text": [
      "15\n"
     ]
    }
   ],
   "source": [
    "my_list = [1, 2, 3, 4, 5]\n",
    "\n",
    "# find the sum of all the values in the list\n",
    "total = sum(my_list)\n",
    "print(total) # prints 15\n"
   ]
  },
  {
   "cell_type": "markdown",
   "id": "5191ce28-fb80-4eb8-9e68-3cd865f73c64",
   "metadata": {},
   "source": [
    "### Multidimensional Lists:\n",
    "\n",
    "Lists can also contain other lists, creating a multidimensional list."
   ]
  },
  {
   "cell_type": "code",
   "execution_count": 24,
   "id": "f1741a66-60fe-45d2-ade6-f99ab3b4d8bb",
   "metadata": {},
   "outputs": [
    {
     "name": "stdout",
     "output_type": "stream",
     "text": [
      "1\n",
      "6\n",
      "12\n"
     ]
    }
   ],
   "source": [
    "# create a 2D list with 3 rows and 4 columns\n",
    "my_list = [[1, 2, 3, 4], [5, 6, 7, 8], [9, 10, 11, 12]]\n",
    "\n",
    "# access the first item in the first row\n",
    "print(my_list[0][0]) # prints 1\n",
    "\n",
    "# access the second item in the second row\n",
    "print(my_list[1][1]) # prints 6\n",
    "\n",
    "# access the fourth item in the third row\n",
    "print(my_list[2][3]) # prints 12\n"
   ]
  },
  {
   "cell_type": "markdown",
   "id": "a64af76d-0b0e-472d-b8a3-74163fb6b720",
   "metadata": {},
   "source": [
    "### Conclusion:\n",
    "\n",
    "Lists are a powerful and versatile data structure in Python. They allow you to store and manipulate a collection of items in an ordered manner. You can access, change, add, remove, and manipulate items in a list using various methods and functions. You can also use list comprehension, loops, and other advanced techniques to work with lists more efficiently."
   ]
  },
  {
   "cell_type": "markdown",
   "id": "48917415-831d-4895-b4f1-c120650c02ac",
   "metadata": {},
   "source": [
    "## Tuple"
   ]
  },
  {
   "cell_type": "markdown",
   "id": "d04270f4-6629-460e-a040-21ad00f67290",
   "metadata": {},
   "source": [
    "A tuple is an immutable sequence type in Python. It is similar to a list in that it can contain multiple values, but unlike a list, the values in a tuple cannot be modified once created. This makes tuples more efficient for storing and manipulating data that does not need to be modified."
   ]
  },
  {
   "cell_type": "markdown",
   "id": "6802f14f-b821-4a5d-9470-cf7dd36e5f48",
   "metadata": {},
   "source": [
    "Here is an example of how to create a tuple"
   ]
  },
  {
   "cell_type": "code",
   "execution_count": 32,
   "id": "174f4cf4-7da5-4996-9b26-ce31cc68b3ba",
   "metadata": {},
   "outputs": [
    {
     "name": "stdout",
     "output_type": "stream",
     "text": [
      "(1, 2, 3)\n"
     ]
    }
   ],
   "source": [
    "my_tuple = (1, 2, 3)\n",
    "print(my_tuple)"
   ]
  },
  {
   "cell_type": "markdown",
   "id": "43c687b8-e116-4056-b6c2-aaeea31f6233",
   "metadata": {},
   "source": [
    "You can also create a tuple with a single element by including a comma after the element:\n"
   ]
  },
  {
   "cell_type": "code",
   "execution_count": 33,
   "id": "d50d42fa-2545-4ad5-aad0-121924b7ff63",
   "metadata": {},
   "outputs": [
    {
     "name": "stdout",
     "output_type": "stream",
     "text": [
      "(1,)\n"
     ]
    }
   ],
   "source": [
    "my_tuple = (1,)\n",
    "print(my_tuple)\n"
   ]
  },
  {
   "cell_type": "markdown",
   "id": "fb48f586-8aca-4f8b-8816-5595d8cb9e10",
   "metadata": {},
   "source": [
    "Without the comma, Python will treat the parentheses as parentheses and not as the syntax for a tuple:"
   ]
  },
  {
   "cell_type": "code",
   "execution_count": 34,
   "id": "0fc87c73-0159-47a1-a0cf-b67b48801ce6",
   "metadata": {},
   "outputs": [
    {
     "name": "stdout",
     "output_type": "stream",
     "text": [
      "1\n"
     ]
    }
   ],
   "source": [
    "my_tuple = (1)\n",
    "print(my_tuple)"
   ]
  },
  {
   "cell_type": "markdown",
   "id": "fff52870-f276-4a01-b821-750881f265d0",
   "metadata": {},
   "source": [
    "You can access the elements of a tuple using indexing, just like you would with a list. \n",
    "\n",
    "For example:"
   ]
  },
  {
   "cell_type": "code",
   "execution_count": 35,
   "id": "509c6674-1d9f-4d28-b404-f01cb81a73fc",
   "metadata": {},
   "outputs": [
    {
     "name": "stdout",
     "output_type": "stream",
     "text": [
      "1\n",
      "2\n",
      "3\n"
     ]
    }
   ],
   "source": [
    "my_tuple = (1, 2, 3)\n",
    "print(my_tuple[0])\n",
    "print(my_tuple[1])\n",
    "print(my_tuple[2])"
   ]
  },
  {
   "cell_type": "markdown",
   "id": "3746e084-7ad1-4877-929c-995788ca800f",
   "metadata": {},
   "source": [
    "You can also use slicing to access a range of elements in a tuple:"
   ]
  },
  {
   "cell_type": "code",
   "execution_count": 36,
   "id": "5d92cbc0-a300-4fb6-b72e-ba15b120a6bd",
   "metadata": {},
   "outputs": [
    {
     "name": "stdout",
     "output_type": "stream",
     "text": [
      "(2, 3)\n"
     ]
    }
   ],
   "source": [
    "my_tuple = (1, 2, 3, 4, 5)\n",
    "print(my_tuple[1:3])"
   ]
  },
  {
   "cell_type": "markdown",
   "id": "f4515d64-c704-4786-a2fc-31eee4626328",
   "metadata": {},
   "source": [
    "Tuples also support all of the common sequence operations, such as concatenation, repetition, and membership testing:"
   ]
  },
  {
   "cell_type": "code",
   "execution_count": 37,
   "id": "b8511fcd-2f3b-42dc-b8e9-ebb9a7224c97",
   "metadata": {},
   "outputs": [
    {
     "name": "stdout",
     "output_type": "stream",
     "text": [
      "(1, 2, 3, 1, 2, 3, 1, 2, 3)\n",
      "(1, 2, 3, 4, 5, 6)\n",
      "True\n",
      "False\n"
     ]
    }
   ],
   "source": [
    "my_tuple = (1, 2, 3)\n",
    "print(my_tuple * 3) #Output: (1, 2, 3, 1, 2, 3, 1, 2, 3)\n",
    "print(my_tuple + (4, 5, 6)) #Output: (1, 2, 3, 4, 5, 6)\n",
    "print(3 in my_tuple) #Output: True\n",
    "print(4 in my_tuple) #Output: False\n"
   ]
  },
  {
   "cell_type": "markdown",
   "id": "9c4de528-1303-42fe-9de8-d16fe1a414a5",
   "metadata": {},
   "source": [
    "Tuples are often used to store related pieces of data, such as the name and age of a person:"
   ]
  },
  {
   "cell_type": "code",
   "execution_count": 38,
   "id": "435e0d65-7853-4d23-9af7-ef29ff4d3bff",
   "metadata": {},
   "outputs": [
    {
     "name": "stdout",
     "output_type": "stream",
     "text": [
      "John\n",
      "30\n"
     ]
    }
   ],
   "source": [
    "person = (\"John\", 30)\n",
    "name, age = person\n",
    "print(name) #Output: \"John\"\n",
    "print(age) # Output: 30"
   ]
  },
  {
   "cell_type": "markdown",
   "id": "7db05b92-54da-4728-8162-cb48053b8187",
   "metadata": {},
   "source": [
    "## Sets"
   ]
  },
  {
   "cell_type": "markdown",
   "id": "c220e016-0422-4cf0-b424-69985f83145d",
   "metadata": {},
   "source": [
    "A set is a collection of unique elements in Python. It is similar to a list or tuple, but it is unordered and does not allow duplicate values.\n",
    "\n",
    "Here is an example of how to create a set in Python:\n",
    "\n"
   ]
  },
  {
   "cell_type": "code",
   "execution_count": 39,
   "id": "241443ee-e2a2-47fb-af0e-49e9efbd763e",
   "metadata": {},
   "outputs": [
    {
     "name": "stdout",
     "output_type": "stream",
     "text": [
      "set()\n",
      "{1, 2, 3, 4}\n",
      "{1, 2, 3, 4}\n"
     ]
    }
   ],
   "source": [
    "# create an empty set\n",
    "my_set = set()\n",
    "print(my_set)\n",
    "\n",
    "# create a set with values\n",
    "my_set = {1, 2, 3, 4}\n",
    "print(my_set)\n",
    "\n",
    "# create a set from a list\n",
    "my_list = [1, 2, 3, 4, 2]\n",
    "my_set = set(my_list)  # {1, 2, 3, 4}\n",
    "print(my_set)"
   ]
  },
  {
   "cell_type": "markdown",
   "id": "96f93956-5b41-4aad-836b-ed6c1286a402",
   "metadata": {},
   "source": [
    "Sets can be modified using various methods such as add(), update(), remove(), and discard()."
   ]
  },
  {
   "cell_type": "code",
   "execution_count": 40,
   "id": "9ea75816-d574-4eff-af08-8a2db07392b4",
   "metadata": {},
   "outputs": [
    {
     "name": "stdout",
     "output_type": "stream",
     "text": [
      "{1, 2, 3, 4}\n",
      "{1, 2, 3, 4, 5}\n",
      "{1, 2, 3, 4, 5, 6, 7, 8}\n",
      "{1, 2, 3, 4, 6, 7, 8}\n",
      "{1, 2, 3, 4, 6, 7, 8}\n",
      "set()\n"
     ]
    }
   ],
   "source": [
    "# create a set with values\n",
    "my_set = {1, 2, 3, 4}\n",
    "print(my_set)\n",
    "\n",
    "# add an element to the set\n",
    "my_set.add(5)\n",
    "print(my_set)\n",
    "\n",
    "# add multiple elements to the set\n",
    "my_set.update([6, 7, 8])\n",
    "print(my_set)\n",
    "\n",
    "# remove an element from the set\n",
    "my_set.remove(5)\n",
    "print(my_set)\n",
    "\n",
    "# remove an element from the set if it exists, otherwise do nothing\n",
    "my_set.discard(5)\n",
    "print(my_set)\n",
    "\n",
    "# clear all elements from the set\n",
    "my_set.clear()\n",
    "print(my_set)"
   ]
  },
  {
   "cell_type": "markdown",
   "id": "bcf80476-7b89-4b92-8799-03351ff763d6",
   "metadata": {},
   "source": [
    "Sets can also be used to perform set operations such as union, intersection, and difference."
   ]
  },
  {
   "cell_type": "code",
   "execution_count": 41,
   "id": "f4ca433c-b23f-4d1a-9851-9006cbe4187b",
   "metadata": {},
   "outputs": [
    {
     "name": "stdout",
     "output_type": "stream",
     "text": [
      "{1, 2, 3, 4}\n",
      "{2, 3}\n",
      "{1}\n"
     ]
    }
   ],
   "source": [
    "set1 = {1, 2, 3}\n",
    "set2 = {2, 3, 4}\n",
    "\n",
    "# find the union of two sets\n",
    "union = set1.union(set2)  # {1, 2, 3, 4}\n",
    "print(union)\n",
    "\n",
    "# find the intersection of two sets\n",
    "intersection = set1.intersection(set2)  # {2, 3}\n",
    "print(intersection)\n",
    "\n",
    "# find the difference between two sets\n",
    "difference = set1.difference(set2)  # {1}\n",
    "print(difference)"
   ]
  },
  {
   "cell_type": "markdown",
   "id": "c4485d2b-e4ac-43aa-b4d3-9219153fba9c",
   "metadata": {},
   "source": [
    "Overall, sets are useful for storing and manipulating unique values in Python. \n",
    "\n",
    "They are especially useful for performing set operations, such as finding the intersection or difference between two sets.\n",
    "\n"
   ]
  },
  {
   "cell_type": "markdown",
   "id": "d32bc8a4-3f4d-44ae-ae02-2320f12a35b3",
   "metadata": {},
   "source": [
    "Here is an example of how to use sets to find the common elements between two lists:"
   ]
  },
  {
   "cell_type": "code",
   "execution_count": 42,
   "id": "9573d98d-1d0f-4f6a-aa59-fc36e556c739",
   "metadata": {},
   "outputs": [
    {
     "name": "stdout",
     "output_type": "stream",
     "text": [
      "[4, 5]\n"
     ]
    }
   ],
   "source": [
    "list1 = [1, 2, 3, 4, 5]\n",
    "list2 = [4, 5, 6, 7, 8]\n",
    "\n",
    "# convert the lists to sets\n",
    "set1 = set(list1)\n",
    "set2 = set(list2)\n",
    "\n",
    "# find the intersection of the sets\n",
    "common = set1.intersection(set2)  # {4, 5}\n",
    "\n",
    "# convert the intersection back to a list\n",
    "common_list = list(common)\n",
    "\n",
    "print(common_list)  # [4, 5]\n"
   ]
  },
  {
   "cell_type": "markdown",
   "id": "b3bad879-64ac-489d-8f8a-01feb4e92fa8",
   "metadata": {},
   "source": [
    "Sets are also useful for removing duplicates from a list. Here is an example of how to do this:"
   ]
  },
  {
   "cell_type": "code",
   "execution_count": 43,
   "id": "e815a7c6-cc14-46dd-9c21-b3d600d2733b",
   "metadata": {},
   "outputs": [
    {
     "name": "stdout",
     "output_type": "stream",
     "text": [
      "[1, 2, 3, 4, 5, 6]\n"
     ]
    }
   ],
   "source": [
    "my_list = [1, 2, 3, 4, 4, 5, 5, 6, 6]\n",
    "\n",
    "# convert the list to a set to remove duplicates\n",
    "my_set = set(my_list)\n",
    "\n",
    "# convert the set back to a list\n",
    "unique_list = list(my_set)\n",
    "\n",
    "print(unique_list)  # [1, 2, 3, 4, 5, 6]\n"
   ]
  },
  {
   "cell_type": "markdown",
   "id": "f44427b8-1ef6-454a-8a3c-9cc4475d0bdd",
   "metadata": {},
   "source": [
    "### Conclusion\n",
    "\n",
    "Sets are a powerful data structure in Python and have many uses. Some additional things to know about sets include:\n",
    "\n",
    "* Sets are unordered, meaning that the elements are not stored in a specific order. This means that you cannot access elements in a set by index like you can with a list or tuple.\n",
    "* Sets are mutable, meaning that you can add or remove elements from the set after it has been created.\n",
    "* Sets are not indexed, meaning that you cannot reference elements in a set using an index like you can with a list or tuple.\n",
    "* Sets are not sliceable, meaning that you cannot use the slice operator ([:]) to extract a portion of a set like you can with a list or tuple.\n",
    "* Sets are not subscriptable, meaning that you cannot use the subscript operator ([]) to access elements in a set like you can with a list or tuple.\n",
    "* Sets do not support concatenation, meaning that you cannot use the + operator to combine two sets like you can with lists or tuples.\n",
    "* Sets do not support repetition, meaning that you cannot use the * operator to repeat a set like you can with a list or tuple.\n",
    "\n",
    "As you can see, sets have some limitations compared to other data structures in Python. However, they are still a useful tool to have in your toolkit, especially when working with unique values or performing set operations."
   ]
  },
  {
   "cell_type": "markdown",
   "id": "a8dc9487-4579-4910-9b2d-e5320f52de95",
   "metadata": {},
   "source": [
    "## Dictionary"
   ]
  },
  {
   "cell_type": "markdown",
   "id": "c917d967-b37d-409e-9021-0b8428c3bf32",
   "metadata": {},
   "source": [
    "A dictionary is a collection of key-value pairs in Python. It is similar to a list or tuple, but instead of using an index to access elements, you use a key."
   ]
  },
  {
   "cell_type": "markdown",
   "id": "9c59a5b7-bbc4-47b9-a26b-50feeaf7dca2",
   "metadata": {},
   "source": [
    "Here is an example of how to create a dictionary in Python:"
   ]
  },
  {
   "cell_type": "code",
   "execution_count": 45,
   "id": "ae072bc0-fd0b-4283-96ff-3b2eadc5c1f3",
   "metadata": {},
   "outputs": [
    {
     "name": "stdout",
     "output_type": "stream",
     "text": [
      "{'key1': 'value1', 'key2': 'value2'}\n",
      "{'key1': 'value1', 'key2': 'value2'}\n"
     ]
    }
   ],
   "source": [
    "# create an empty dictionary\n",
    "my_dict = {}\n",
    "\n",
    "# create a dictionary with values\n",
    "my_dict = {'key1': 'value1', 'key2': 'value2'}\n",
    "print(my_dict)\n",
    "\n",
    "# create a dictionary from a list of tuples\n",
    "my_list = [('key1', 'value1'), ('key2', 'value2')]\n",
    "my_dict = dict(my_list)\n",
    "print(my_dict)"
   ]
  },
  {
   "cell_type": "markdown",
   "id": "630a5e20-5ada-4999-95cc-496f006e9649",
   "metadata": {},
   "source": [
    "Dictionaries can be modified using various methods such as update(), setdefault(), and pop()."
   ]
  },
  {
   "cell_type": "code",
   "execution_count": 46,
   "id": "12ceda27-e2af-4bdd-9706-25392c3b2bf6",
   "metadata": {},
   "outputs": [
    {
     "name": "stdout",
     "output_type": "stream",
     "text": [
      "{'key1': 'value1', 'key2': 'value2'}\n",
      "{'key1': 'value1', 'key2': 'value2', 'key3': 'value3'}\n",
      "{'key1': 'value1', 'key2': 'value2', 'key3': 'value3', 'key4': 'value4', 'key5': 'value5'}\n",
      "{'key1': 'value1', 'key2': 'value2', 'key3': 'value3', 'key4': 'value4', 'key5': 'value5', 'key6': 'default value'}\n",
      "{'key1': 'value1', 'key2': 'value2', 'key4': 'value4', 'key5': 'value5', 'key6': 'default value'}\n"
     ]
    }
   ],
   "source": [
    "# create a dictionary with values\n",
    "my_dict = {'key1': 'value1', 'key2': 'value2'}\n",
    "print(my_dict)\n",
    "\n",
    "# add a key-value pair to the dictionary\n",
    "my_dict['key3'] = 'value3'\n",
    "print(my_dict)\n",
    "\n",
    "# update multiple key-value pairs in the dictionary\n",
    "my_dict.update({'key4': 'value4', 'key5': 'value5'})\n",
    "print(my_dict)\n",
    "\n",
    "# set a default value for a key if it does not exist\n",
    "my_dict.setdefault('key6', 'default value')\n",
    "print(my_dict)\n",
    "\n",
    "# remove a key-value pair from the dictionary\n",
    "my_dict.pop('key3')\n",
    "print(my_dict)"
   ]
  },
  {
   "cell_type": "markdown",
   "id": "8d74c43a-da3e-410e-aa95-2ff11bc0e7f2",
   "metadata": {},
   "source": [
    "Dictionaries can also be used to perform dictionary operations such as merging and filtering."
   ]
  },
  {
   "cell_type": "code",
   "execution_count": 47,
   "id": "79fd2fac-c175-4431-afe3-fdfaa40c4f5c",
   "metadata": {},
   "outputs": [
    {
     "name": "stdout",
     "output_type": "stream",
     "text": [
      "{'key1': 'value1', 'key2': 'value2', 'key3': 'value3', 'key4': 'value4'}\n",
      "{'key2': 'value2'}\n"
     ]
    }
   ],
   "source": [
    "dict1 = {'key1': 'value1', 'key2': 'value2'}\n",
    "dict2 = {'key3': 'value3', 'key4': 'value4'}\n",
    "\n",
    "# merge two dictionaries\n",
    "merged_dict = {**dict1, **dict2}  # {'key1': 'value1', 'key2': 'value2', 'key3': 'value3', 'key4': 'value4'}\n",
    "print(merged_dict)\n",
    "\n",
    "# filter a dictionary based on a condition\n",
    "filtered_dict = {k: v for k, v in merged_dict.items() if v == 'value2'}  # {'key2': 'value2'}\n",
    "print(filtered_dict)"
   ]
  },
  {
   "cell_type": "markdown",
   "id": "42f7c6b7-b450-4be9-806c-8e6c47b60cab",
   "metadata": {},
   "source": [
    "Here is an example of how to use a dictionary to store and retrieve student grades:\n",
    "\n"
   ]
  },
  {
   "cell_type": "code",
   "execution_count": 48,
   "id": "7f590b36-7e07-4221-af41-cae53da8f2a9",
   "metadata": {},
   "outputs": [
    {
     "name": "stdout",
     "output_type": "stream",
     "text": [
      "{'John': {'math': 85, 'english': 90}, 'Mary': {'math': 95, 'english': 80}, 'Bob': {'math': 75, 'english': 70}}\n",
      "85\n",
      "{'John': {'math': 85, 'english': 90}, 'Mary': {'math': 95, 'english': 95}, 'Bob': {'math': 75, 'english': 70}}\n"
     ]
    }
   ],
   "source": [
    "student_grades = {\n",
    "    'John': {'math': 85, 'english': 90},\n",
    "    'Mary': {'math': 95, 'english': 80},\n",
    "    'Bob': {'math': 75, 'english': 70}\n",
    "}\n",
    "print(student_grades)\n",
    "\n",
    "# retrieve John's math grade\n",
    "john_math_grade = student_grades['John']['math']  # 85\n",
    "print(john_math_grade)\n",
    "\n",
    "# update Mary's english grade\n",
    "student_grades['Mary']['english'] = 95\n",
    "print(student_grades)"
   ]
  },
  {
   "cell_type": "markdown",
   "id": "8a711b64-78dc-4127-9ca2-ebd606d43791",
   "metadata": {},
   "source": [
    "### Conclusion\n",
    "\n",
    "Dictionaries are a powerful data structure in Python and have many uses. Some additional things to know about dictionaries include:\n",
    "\n",
    "* Dictionaries are mutable, meaning that you can add or remove key-value pairs from the dictionary after it has been created.\n",
    "* Dictionaries are unordered, meaning that the key-value pairs are not stored in a specific order.\n",
    "* Dictionaries do not support slicing, meaning that you cannot use the slice operator ([:]) to extract a portion of a dictionary like you can with a list or tuple.\n",
    "* Dictionaries do not support concatenation, meaning that you cannot use the + operator to combine two dictionaries like you can with lists or tuples.\n",
    "* Dictionaries do not support repetition, meaning that you cannot use the * operator to repeat a dictionary like you can with a list or tuple."
   ]
  },
  {
   "cell_type": "markdown",
   "id": "dabe77dc-1755-475a-b22b-0059e084b0d1",
   "metadata": {},
   "source": [
    "## Function in Python"
   ]
  },
  {
   "cell_type": "markdown",
   "id": "5e7f9c41-465e-4dd3-a5b9-7b2241390c2a",
   "metadata": {},
   "source": [
    "In Python, a function is a block of code that performs a specific task and can be called by other code. Functions can take arguments (also known as parameters) and return a result. \n",
    "\n",
    "Here is an example of a simple function in Python:"
   ]
  },
  {
   "cell_type": "code",
   "execution_count": 52,
   "id": "e91e9c4a-7c07-410b-90af-8d3b15e6f993",
   "metadata": {},
   "outputs": [
    {
     "name": "stdout",
     "output_type": "stream",
     "text": [
      "Hello, John\n"
     ]
    }
   ],
   "source": [
    "def greet(name):\n",
    "    print(\"Hello, \" + name)\n",
    "\n",
    "greet(\"John\")  # prints \"Hello, John\"\n"
   ]
  },
  {
   "cell_type": "markdown",
   "id": "69d5dc06-9f33-4110-ac77-0de34661fefd",
   "metadata": {},
   "source": [
    "In this example, the function greet takes one argument, name, and prints a greeting with it. The function is called with the argument \"John\", so it prints \"Hello, John\".\n",
    "\n",
    "Functions can also return a value instead of printing it. For example:"
   ]
  },
  {
   "cell_type": "code",
   "execution_count": 51,
   "id": "f0e5baa0-7419-442e-a7ec-5994f121032e",
   "metadata": {},
   "outputs": [
    {
     "name": "stdout",
     "output_type": "stream",
     "text": [
      "7\n"
     ]
    }
   ],
   "source": [
    "def add(x, y):\n",
    "    return x + y\n",
    "\n",
    "result = add(3, 4)  # stores 7 in result\n",
    "print(result)  # prints 7\n"
   ]
  },
  {
   "cell_type": "markdown",
   "id": "49fa3162-6704-4d46-a398-357e3923d2f5",
   "metadata": {},
   "source": [
    "In this example, the function add takes two arguments, x and y, and returns their sum. When the function is called with the arguments 3 and 4, it returns 7, which is then stored in the variable result and printed.\n",
    "\n"
   ]
  },
  {
   "cell_type": "markdown",
   "id": "5cfd10b2-bae7-48b9-a9c4-94d05137c063",
   "metadata": {},
   "source": [
    "Functions can have default values for their arguments. For example:\n"
   ]
  },
  {
   "cell_type": "code",
   "execution_count": 60,
   "id": "e9f6230a-da00-4378-9c04-89d7b8be52d9",
   "metadata": {},
   "outputs": [
    {
     "name": "stdout",
     "output_type": "stream",
     "text": [
      "Hello, John\n",
      "Hi, John\n"
     ]
    }
   ],
   "source": [
    "def greet(name, greeting=\"Hello\"):\n",
    "    print(greeting + \", \" + name)\n",
    "\n",
    "greet(\"John\")  # prints \"Hello, John\"\n",
    "greet(\"John\", \"Hi\")  # prints \"Hi, John\"\n"
   ]
  },
  {
   "cell_type": "markdown",
   "id": "116f65e2-d1c4-4b7a-b06c-71ac7b354a8f",
   "metadata": {},
   "source": [
    "In this example, the function greet has a default value of \"Hello\" for the greeting argument, so if no value is provided for greeting when the function is called, it will use \"Hello\" as the default.\n"
   ]
  },
  {
   "cell_type": "markdown",
   "id": "f9b6d750-79b5-4ff6-86e7-bf1d1a776377",
   "metadata": {},
   "source": [
    "Functions can take an arbitrary number of arguments using the *args syntax. For example:"
   ]
  },
  {
   "cell_type": "code",
   "execution_count": 61,
   "id": "18baa400-8abd-4e6b-a19b-f41eaf254409",
   "metadata": {},
   "outputs": [
    {
     "name": "stdout",
     "output_type": "stream",
     "text": [
      "6\n",
      "15\n"
     ]
    }
   ],
   "source": [
    "def sum_all(*args):\n",
    "    result = 0\n",
    "    for num in args:\n",
    "        result += num\n",
    "    return result\n",
    "\n",
    "print(sum_all(1, 2, 3))  # prints 6\n",
    "print(sum_all(1, 2, 3, 4, 5))  # prints 15\n"
   ]
  },
  {
   "cell_type": "markdown",
   "id": "80dc7816-160d-4fd3-a6bf-8dc075cf5835",
   "metadata": {},
   "source": [
    "In this example, the function sum_all takes an arbitrary number of arguments and returns their sum. The arguments are treated as a tuple, so you can access them like any other tuple."
   ]
  },
  {
   "cell_type": "markdown",
   "id": "91e95a52-27ab-4ec0-b7fe-734d4ccb8b29",
   "metadata": {},
   "source": [
    "Functions can also take an arbitrary number of keyword arguments using the **kwargs syntax. For example:\n"
   ]
  },
  {
   "cell_type": "code",
   "execution_count": 57,
   "id": "5c6f6b3b-521b-4bf9-9f9c-824bac7cdfab",
   "metadata": {},
   "outputs": [
    {
     "name": "stdout",
     "output_type": "stream",
     "text": [
      "name: John\n",
      "age: 30\n",
      "city: New York\n"
     ]
    }
   ],
   "source": [
    "def print_keyword_args(**kwargs):\n",
    "    for key, value in kwargs.items():\n",
    "        print(key + \": \" + value)\n",
    "\n",
    "print_keyword_args(name=\"John\", age='30', city=\"New York\")\n"
   ]
  },
  {
   "cell_type": "markdown",
   "id": "795c3cc2-1f23-4bfd-b40a-f0d140017bab",
   "metadata": {},
   "source": [
    "In this example, the function print_keyword_args takes an arbitrary number of keyword arguments and prints them. The keyword arguments are treated as a dictionary, so you can access them like any other dictionary."
   ]
  },
  {
   "cell_type": "markdown",
   "id": "fcfe3438-a2ec-4ef6-ac53-a0a06fea9e59",
   "metadata": {},
   "source": [
    "Functions can return multiple values using tuples. For example:\n"
   ]
  },
  {
   "cell_type": "code",
   "execution_count": 62,
   "id": "32000280-2923-4f71-aac0-40cde111d7b1",
   "metadata": {},
   "outputs": [
    {
     "name": "stdout",
     "output_type": "stream",
     "text": [
      "1\n",
      "5\n"
     ]
    }
   ],
   "source": [
    "def min_max(numbers):\n",
    "    return (min(numbers), max(numbers))\n",
    "\n",
    "(min_val, max_val) = min_max([1, 2, 3, 4, 5])\n",
    "print(min_val)  # prints 1\n",
    "print(max_val)  # prints 5\n"
   ]
  },
  {
   "cell_type": "markdown",
   "id": "59df8482-b60d-4221-ab66-9ab876b5c2c1",
   "metadata": {},
   "source": [
    "In this example, the function min_max returns a tuple containing the minimum and maximum values from the input list. The tuple is then unpacked into the variables min_val and max_val, which are printed."
   ]
  },
  {
   "cell_type": "markdown",
   "id": "1874a24a-1b48-4433-8ec5-b69795154718",
   "metadata": {},
   "source": [
    "# Exercise Question you will find in the exercise notebook of Day 2 on GitHub."
   ]
  }
 ],
 "metadata": {
  "kernelspec": {
   "display_name": "Python 3 (ipykernel)",
   "language": "python",
   "name": "python3"
  },
  "language_info": {
   "codemirror_mode": {
    "name": "ipython",
    "version": 3
   },
   "file_extension": ".py",
   "mimetype": "text/x-python",
   "name": "python",
   "nbconvert_exporter": "python",
   "pygments_lexer": "ipython3",
   "version": "3.9.13"
  }
 },
 "nbformat": 4,
 "nbformat_minor": 5
}

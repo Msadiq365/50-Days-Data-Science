{
 "cells": [
  {
   "cell_type": "markdown",
   "id": "f544edbd-a26d-4924-9fdf-bb06336c4912",
   "metadata": {},
   "source": [
    "# Level 1:\n",
    "\n",
    "1. Create a list of the first 10 positive integers and print it.\n",
    "2. Create a tuple with three elements: a string, a float, and an integer. Print the tuple.\n",
    "3. Create a set with the following three elements: \"apple\", \"banana\", \"cherry\". Print the set.\n",
    "4. Create a dictionary that maps the strings \"red\" and \"blue\" to the integers 1 and 2, respectively. Print the dictionary.\n",
    "\n",
    "# Level 2:\n",
    "\n",
    "1. Given a list of integers, write a function that returns the sum of all even numbers in the list.\n",
    "2. Given a tuple of strings, write a function that returns the concatenation of all the strings in the tuple, separated by spaces.\n",
    "4. Given a set of numbers, write a function that returns the number of elements in the set that are greater than 10.\n",
    "5. Given a dictionary that maps strings to integers, write a function that returns a new dictionary that maps the strings to the squares of the integers.\n",
    "\n",
    "# Level 3:\n",
    "\n",
    "1. Given a list of integers, write a function that returns a new list with all duplicates removed.\n",
    "2. Given a tuple of strings, write a function that returns the longest string in the tuple.\n",
    "3. Given a set of numbers, write a function that returns the smallest and largest numbers in the set as a tuple.\n",
    "4. Given a dictionary that maps strings to integers, write a function that returns a new dictionary that only includes the key-value pairs where the value is a prime number."
   ]
  },
  {
   "cell_type": "code",
   "execution_count": null,
   "id": "53e9bd28-db2e-405c-8565-6210b1f05467",
   "metadata": {},
   "outputs": [],
   "source": []
  }
 ],
 "metadata": {
  "kernelspec": {
   "display_name": "Python 3 (ipykernel)",
   "language": "python",
   "name": "python3"
  },
  "language_info": {
   "codemirror_mode": {
    "name": "ipython",
    "version": 3
   },
   "file_extension": ".py",
   "mimetype": "text/x-python",
   "name": "python",
   "nbconvert_exporter": "python",
   "pygments_lexer": "ipython3",
   "version": "3.9.13"
  }
 },
 "nbformat": 4,
 "nbformat_minor": 5
}

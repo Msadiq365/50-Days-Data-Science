{
 "cells": [
  {
   "cell_type": "markdown",
   "metadata": {
    "_cell_guid": "9afa6591-bcdc-402a-9079-07318f21660f",
    "_uuid": "3647e0d0-1ce1-4428-9e6e-e98aa0925f07"
   },
   "source": [
    "# Multivariate Linear Regression\n",
    "\n",
    "Multivariate linear regression is a statistical method used to model the relationship between multiple independent variables and a single dependent variable. It is an extension of simple linear regression, which only involves one independent variable. In multivariate linear regression, the goal is to find the equation that best predicts the value of the dependent variable based on the values of the independent variables. The equation is in the form of Y = a + b1X1 + b2X2 + ... + bnXn, where Y is the dependent variable, X1, X2, ..., Xn are the independent variables, a is the constant term, and b1, b2, ..., bn are the coefficients that represent the relationship between each independent variable and the dependent variable."
   ]
  },
  {
   "cell_type": "markdown",
   "metadata": {},
   "source": [
    "# What we do in this?\n",
    "\n",
    "We accurately predict charges cost?\n",
    "\n",
    "Columns present in dataset:\n",
    "\n",
    "`age`: age of primary beneficiary\n",
    "\n",
    "`sex`: insurance contractor gender, female, male\n",
    "\n",
    "`bmi`: Body mass index, providing an understanding of body, weights that are relatively high or low relative to height, objective index of body weight (kg / m ^ 2) using the ratio of height to weight, ideally 18.5 to 24.9.\n",
    "\n",
    "`children`: Number of children covered by health insurance / Number of dependents\n",
    "\n",
    "`smoker`: Smoking\n",
    "\n",
    "`region`: the beneficiary's residential area in the US, northeast, southeast, southwest, northwest.\n",
    "\n",
    "`charges`: Individual medical costs billed by health insurance"
   ]
  },
  {
   "cell_type": "markdown",
   "metadata": {},
   "source": [
    "# Importing Important libreries"
   ]
  },
  {
   "cell_type": "code",
   "execution_count": 55,
   "metadata": {
    "_cell_guid": "06d61f82-c89e-4d67-a730-309ad3968d45",
    "_uuid": "00ce6ba1-47ff-4754-864d-ee0d00aacccd",
    "collapsed": false,
    "execution": {
     "iopub.execute_input": "2023-01-25T04:12:11.147602Z",
     "iopub.status.busy": "2023-01-25T04:12:11.147085Z",
     "iopub.status.idle": "2023-01-25T04:12:11.153740Z",
     "shell.execute_reply": "2023-01-25T04:12:11.152615Z",
     "shell.execute_reply.started": "2023-01-25T04:12:11.147544Z"
    },
    "jupyter": {
     "outputs_hidden": false
    }
   },
   "outputs": [],
   "source": [
    "import pandas as pd\n",
    "import numpy as np\n",
    "\n",
    "from sklearn.linear_model import LinearRegression\n",
    "from sklearn.model_selection import train_test_split\n",
    "from sklearn.metrics import mean_squared_error\n",
    "\n",
    "\n",
    "import matplotlib.pyplot as plt"
   ]
  },
  {
   "cell_type": "markdown",
   "metadata": {},
   "source": [
    "# Reading files\n",
    "Below code uses the `read_csv()` function from the pandas library to read in the medical insurence data from a csv file and assigns the resulting dataframe to a variable named `df`."
   ]
  },
  {
   "cell_type": "code",
   "execution_count": 56,
   "metadata": {
    "_cell_guid": "df8ddc0e-0c67-4523-972c-ff1403f8976f",
    "_uuid": "c0765c92-0086-4d7b-83a5-dbb01a60a5b8",
    "collapsed": false,
    "execution": {
     "iopub.execute_input": "2023-01-25T04:12:12.067952Z",
     "iopub.status.busy": "2023-01-25T04:12:12.067544Z",
     "iopub.status.idle": "2023-01-25T04:12:12.097014Z",
     "shell.execute_reply": "2023-01-25T04:12:12.095739Z",
     "shell.execute_reply.started": "2023-01-25T04:12:12.067919Z"
    },
    "jupyter": {
     "outputs_hidden": false
    }
   },
   "outputs": [
    {
     "data": {
      "text/html": [
       "<div>\n",
       "<style scoped>\n",
       "    .dataframe tbody tr th:only-of-type {\n",
       "        vertical-align: middle;\n",
       "    }\n",
       "\n",
       "    .dataframe tbody tr th {\n",
       "        vertical-align: top;\n",
       "    }\n",
       "\n",
       "    .dataframe thead th {\n",
       "        text-align: right;\n",
       "    }\n",
       "</style>\n",
       "<table border=\"1\" class=\"dataframe\">\n",
       "  <thead>\n",
       "    <tr style=\"text-align: right;\">\n",
       "      <th></th>\n",
       "      <th>age</th>\n",
       "      <th>sex</th>\n",
       "      <th>bmi</th>\n",
       "      <th>children</th>\n",
       "      <th>smoker</th>\n",
       "      <th>region</th>\n",
       "      <th>charges</th>\n",
       "    </tr>\n",
       "  </thead>\n",
       "  <tbody>\n",
       "    <tr>\n",
       "      <th>0</th>\n",
       "      <td>19</td>\n",
       "      <td>female</td>\n",
       "      <td>27.900</td>\n",
       "      <td>0</td>\n",
       "      <td>yes</td>\n",
       "      <td>southwest</td>\n",
       "      <td>16884.92400</td>\n",
       "    </tr>\n",
       "    <tr>\n",
       "      <th>1</th>\n",
       "      <td>18</td>\n",
       "      <td>male</td>\n",
       "      <td>33.770</td>\n",
       "      <td>1</td>\n",
       "      <td>no</td>\n",
       "      <td>southeast</td>\n",
       "      <td>1725.55230</td>\n",
       "    </tr>\n",
       "    <tr>\n",
       "      <th>2</th>\n",
       "      <td>28</td>\n",
       "      <td>male</td>\n",
       "      <td>33.000</td>\n",
       "      <td>3</td>\n",
       "      <td>no</td>\n",
       "      <td>southeast</td>\n",
       "      <td>4449.46200</td>\n",
       "    </tr>\n",
       "    <tr>\n",
       "      <th>3</th>\n",
       "      <td>33</td>\n",
       "      <td>male</td>\n",
       "      <td>22.705</td>\n",
       "      <td>0</td>\n",
       "      <td>no</td>\n",
       "      <td>northwest</td>\n",
       "      <td>21984.47061</td>\n",
       "    </tr>\n",
       "    <tr>\n",
       "      <th>4</th>\n",
       "      <td>32</td>\n",
       "      <td>male</td>\n",
       "      <td>28.880</td>\n",
       "      <td>0</td>\n",
       "      <td>no</td>\n",
       "      <td>northwest</td>\n",
       "      <td>3866.85520</td>\n",
       "    </tr>\n",
       "  </tbody>\n",
       "</table>\n",
       "</div>"
      ],
      "text/plain": [
       "   age     sex     bmi  children smoker     region      charges\n",
       "0   19  female  27.900         0    yes  southwest  16884.92400\n",
       "1   18    male  33.770         1     no  southeast   1725.55230\n",
       "2   28    male  33.000         3     no  southeast   4449.46200\n",
       "3   33    male  22.705         0     no  northwest  21984.47061\n",
       "4   32    male  28.880         0     no  northwest   3866.85520"
      ]
     },
     "execution_count": 56,
     "metadata": {},
     "output_type": "execute_result"
    }
   ],
   "source": [
    "df = pd.read_csv('/kaggle/input/insurance/insurance.csv')\n",
    "df.head()"
   ]
  },
  {
   "cell_type": "markdown",
   "metadata": {},
   "source": [
    "# Feature engineering\n",
    "Next, we applies one-hot encoding to the `sex`, `region`, and `smoker` columns of the dataframe and assigns the resulting dataframe to a new variable `df_encoded`."
   ]
  },
  {
   "cell_type": "code",
   "execution_count": 57,
   "metadata": {
    "_cell_guid": "3771a688-22d0-4f37-a328-6cfd7fa1b47a",
    "_uuid": "3b059684-e4bf-44f5-9865-6a195254e113",
    "collapsed": false,
    "execution": {
     "iopub.execute_input": "2023-01-25T04:12:13.054779Z",
     "iopub.status.busy": "2023-01-25T04:12:13.054328Z",
     "iopub.status.idle": "2023-01-25T04:12:13.080915Z",
     "shell.execute_reply": "2023-01-25T04:12:13.079646Z",
     "shell.execute_reply.started": "2023-01-25T04:12:13.054738Z"
    },
    "jupyter": {
     "outputs_hidden": false
    }
   },
   "outputs": [
    {
     "data": {
      "text/html": [
       "<div>\n",
       "<style scoped>\n",
       "    .dataframe tbody tr th:only-of-type {\n",
       "        vertical-align: middle;\n",
       "    }\n",
       "\n",
       "    .dataframe tbody tr th {\n",
       "        vertical-align: top;\n",
       "    }\n",
       "\n",
       "    .dataframe thead th {\n",
       "        text-align: right;\n",
       "    }\n",
       "</style>\n",
       "<table border=\"1\" class=\"dataframe\">\n",
       "  <thead>\n",
       "    <tr style=\"text-align: right;\">\n",
       "      <th></th>\n",
       "      <th>age</th>\n",
       "      <th>bmi</th>\n",
       "      <th>children</th>\n",
       "      <th>charges</th>\n",
       "      <th>sex_female</th>\n",
       "      <th>sex_male</th>\n",
       "      <th>region_northeast</th>\n",
       "      <th>region_northwest</th>\n",
       "      <th>region_southeast</th>\n",
       "      <th>region_southwest</th>\n",
       "      <th>smoker_no</th>\n",
       "      <th>smoker_yes</th>\n",
       "    </tr>\n",
       "  </thead>\n",
       "  <tbody>\n",
       "    <tr>\n",
       "      <th>0</th>\n",
       "      <td>19</td>\n",
       "      <td>27.900</td>\n",
       "      <td>0</td>\n",
       "      <td>16884.92400</td>\n",
       "      <td>1</td>\n",
       "      <td>0</td>\n",
       "      <td>0</td>\n",
       "      <td>0</td>\n",
       "      <td>0</td>\n",
       "      <td>1</td>\n",
       "      <td>0</td>\n",
       "      <td>1</td>\n",
       "    </tr>\n",
       "    <tr>\n",
       "      <th>1</th>\n",
       "      <td>18</td>\n",
       "      <td>33.770</td>\n",
       "      <td>1</td>\n",
       "      <td>1725.55230</td>\n",
       "      <td>0</td>\n",
       "      <td>1</td>\n",
       "      <td>0</td>\n",
       "      <td>0</td>\n",
       "      <td>1</td>\n",
       "      <td>0</td>\n",
       "      <td>1</td>\n",
       "      <td>0</td>\n",
       "    </tr>\n",
       "    <tr>\n",
       "      <th>2</th>\n",
       "      <td>28</td>\n",
       "      <td>33.000</td>\n",
       "      <td>3</td>\n",
       "      <td>4449.46200</td>\n",
       "      <td>0</td>\n",
       "      <td>1</td>\n",
       "      <td>0</td>\n",
       "      <td>0</td>\n",
       "      <td>1</td>\n",
       "      <td>0</td>\n",
       "      <td>1</td>\n",
       "      <td>0</td>\n",
       "    </tr>\n",
       "    <tr>\n",
       "      <th>3</th>\n",
       "      <td>33</td>\n",
       "      <td>22.705</td>\n",
       "      <td>0</td>\n",
       "      <td>21984.47061</td>\n",
       "      <td>0</td>\n",
       "      <td>1</td>\n",
       "      <td>0</td>\n",
       "      <td>1</td>\n",
       "      <td>0</td>\n",
       "      <td>0</td>\n",
       "      <td>1</td>\n",
       "      <td>0</td>\n",
       "    </tr>\n",
       "    <tr>\n",
       "      <th>4</th>\n",
       "      <td>32</td>\n",
       "      <td>28.880</td>\n",
       "      <td>0</td>\n",
       "      <td>3866.85520</td>\n",
       "      <td>0</td>\n",
       "      <td>1</td>\n",
       "      <td>0</td>\n",
       "      <td>1</td>\n",
       "      <td>0</td>\n",
       "      <td>0</td>\n",
       "      <td>1</td>\n",
       "      <td>0</td>\n",
       "    </tr>\n",
       "    <tr>\n",
       "      <th>...</th>\n",
       "      <td>...</td>\n",
       "      <td>...</td>\n",
       "      <td>...</td>\n",
       "      <td>...</td>\n",
       "      <td>...</td>\n",
       "      <td>...</td>\n",
       "      <td>...</td>\n",
       "      <td>...</td>\n",
       "      <td>...</td>\n",
       "      <td>...</td>\n",
       "      <td>...</td>\n",
       "      <td>...</td>\n",
       "    </tr>\n",
       "    <tr>\n",
       "      <th>1333</th>\n",
       "      <td>50</td>\n",
       "      <td>30.970</td>\n",
       "      <td>3</td>\n",
       "      <td>10600.54830</td>\n",
       "      <td>0</td>\n",
       "      <td>1</td>\n",
       "      <td>0</td>\n",
       "      <td>1</td>\n",
       "      <td>0</td>\n",
       "      <td>0</td>\n",
       "      <td>1</td>\n",
       "      <td>0</td>\n",
       "    </tr>\n",
       "    <tr>\n",
       "      <th>1334</th>\n",
       "      <td>18</td>\n",
       "      <td>31.920</td>\n",
       "      <td>0</td>\n",
       "      <td>2205.98080</td>\n",
       "      <td>1</td>\n",
       "      <td>0</td>\n",
       "      <td>1</td>\n",
       "      <td>0</td>\n",
       "      <td>0</td>\n",
       "      <td>0</td>\n",
       "      <td>1</td>\n",
       "      <td>0</td>\n",
       "    </tr>\n",
       "    <tr>\n",
       "      <th>1335</th>\n",
       "      <td>18</td>\n",
       "      <td>36.850</td>\n",
       "      <td>0</td>\n",
       "      <td>1629.83350</td>\n",
       "      <td>1</td>\n",
       "      <td>0</td>\n",
       "      <td>0</td>\n",
       "      <td>0</td>\n",
       "      <td>1</td>\n",
       "      <td>0</td>\n",
       "      <td>1</td>\n",
       "      <td>0</td>\n",
       "    </tr>\n",
       "    <tr>\n",
       "      <th>1336</th>\n",
       "      <td>21</td>\n",
       "      <td>25.800</td>\n",
       "      <td>0</td>\n",
       "      <td>2007.94500</td>\n",
       "      <td>1</td>\n",
       "      <td>0</td>\n",
       "      <td>0</td>\n",
       "      <td>0</td>\n",
       "      <td>0</td>\n",
       "      <td>1</td>\n",
       "      <td>1</td>\n",
       "      <td>0</td>\n",
       "    </tr>\n",
       "    <tr>\n",
       "      <th>1337</th>\n",
       "      <td>61</td>\n",
       "      <td>29.070</td>\n",
       "      <td>0</td>\n",
       "      <td>29141.36030</td>\n",
       "      <td>1</td>\n",
       "      <td>0</td>\n",
       "      <td>0</td>\n",
       "      <td>1</td>\n",
       "      <td>0</td>\n",
       "      <td>0</td>\n",
       "      <td>0</td>\n",
       "      <td>1</td>\n",
       "    </tr>\n",
       "  </tbody>\n",
       "</table>\n",
       "<p>1338 rows × 12 columns</p>\n",
       "</div>"
      ],
      "text/plain": [
       "      age     bmi  children      charges  sex_female  sex_male  \\\n",
       "0      19  27.900         0  16884.92400           1         0   \n",
       "1      18  33.770         1   1725.55230           0         1   \n",
       "2      28  33.000         3   4449.46200           0         1   \n",
       "3      33  22.705         0  21984.47061           0         1   \n",
       "4      32  28.880         0   3866.85520           0         1   \n",
       "...   ...     ...       ...          ...         ...       ...   \n",
       "1333   50  30.970         3  10600.54830           0         1   \n",
       "1334   18  31.920         0   2205.98080           1         0   \n",
       "1335   18  36.850         0   1629.83350           1         0   \n",
       "1336   21  25.800         0   2007.94500           1         0   \n",
       "1337   61  29.070         0  29141.36030           1         0   \n",
       "\n",
       "      region_northeast  region_northwest  region_southeast  region_southwest  \\\n",
       "0                    0                 0                 0                 1   \n",
       "1                    0                 0                 1                 0   \n",
       "2                    0                 0                 1                 0   \n",
       "3                    0                 1                 0                 0   \n",
       "4                    0                 1                 0                 0   \n",
       "...                ...               ...               ...               ...   \n",
       "1333                 0                 1                 0                 0   \n",
       "1334                 1                 0                 0                 0   \n",
       "1335                 0                 0                 1                 0   \n",
       "1336                 0                 0                 0                 1   \n",
       "1337                 0                 1                 0                 0   \n",
       "\n",
       "      smoker_no  smoker_yes  \n",
       "0             0           1  \n",
       "1             1           0  \n",
       "2             1           0  \n",
       "3             1           0  \n",
       "4             1           0  \n",
       "...         ...         ...  \n",
       "1333          1           0  \n",
       "1334          1           0  \n",
       "1335          1           0  \n",
       "1336          1           0  \n",
       "1337          0           1  \n",
       "\n",
       "[1338 rows x 12 columns]"
      ]
     },
     "execution_count": 57,
     "metadata": {},
     "output_type": "execute_result"
    }
   ],
   "source": [
    "# Apply one-hot encoding to \"color\" column\n",
    "df_encoded = pd.get_dummies(df, columns=['sex', 'region', 'smoker'])\n",
    "df_encoded"
   ]
  },
  {
   "cell_type": "markdown",
   "metadata": {},
   "source": []
  },
  {
   "cell_type": "code",
   "execution_count": 58,
   "metadata": {
    "_cell_guid": "5296e312-3af1-4eb4-8ab4-7fc72d657318",
    "_uuid": "b2f1c02b-f37f-4fa6-96a2-b36ac182c062",
    "collapsed": false,
    "execution": {
     "iopub.execute_input": "2023-01-25T04:12:13.980120Z",
     "iopub.status.busy": "2023-01-25T04:12:13.979731Z",
     "iopub.status.idle": "2023-01-25T04:12:13.987915Z",
     "shell.execute_reply": "2023-01-25T04:12:13.986750Z",
     "shell.execute_reply.started": "2023-01-25T04:12:13.980088Z"
    },
    "jupyter": {
     "outputs_hidden": false
    }
   },
   "outputs": [
    {
     "data": {
      "text/plain": [
       "Index(['age', 'bmi', 'children', 'charges', 'sex_female', 'sex_male',\n",
       "       'region_northeast', 'region_northwest', 'region_southeast',\n",
       "       'region_southwest', 'smoker_no', 'smoker_yes'],\n",
       "      dtype='object')"
      ]
     },
     "execution_count": 58,
     "metadata": {},
     "output_type": "execute_result"
    }
   ],
   "source": [
    "df_encoded.columns"
   ]
  },
  {
   "cell_type": "markdown",
   "metadata": {},
   "source": [
    "# Feature selection\n",
    "Next, the code selects the relevant columns of the encoded dataframe to use as independent variables (X) and the dependent variable (y) for the linear regression model."
   ]
  },
  {
   "cell_type": "code",
   "execution_count": 59,
   "metadata": {
    "_cell_guid": "d5496e80-b3a4-4fdf-ba0b-5621961fba2e",
    "_uuid": "2a48a116-bc72-4f75-a28c-48675bc81c08",
    "collapsed": false,
    "execution": {
     "iopub.execute_input": "2023-01-25T04:12:14.933272Z",
     "iopub.status.busy": "2023-01-25T04:12:14.932618Z",
     "iopub.status.idle": "2023-01-25T04:12:14.941144Z",
     "shell.execute_reply": "2023-01-25T04:12:14.939850Z",
     "shell.execute_reply.started": "2023-01-25T04:12:14.933222Z"
    },
    "jupyter": {
     "outputs_hidden": false
    }
   },
   "outputs": [],
   "source": [
    "X = df_encoded[['age', 'bmi', 'children', 'sex_female', 'sex_male',\n",
    "       'region_northeast', 'region_northwest', 'region_southeast',\n",
    "       'region_southwest', 'smoker_no', 'smoker_yes']]\n",
    "y = df_encoded['charges']"
   ]
  },
  {
   "cell_type": "markdown",
   "metadata": {},
   "source": [
    "# Preparing model\n",
    "\n",
    "Below code splits the data into training and testing sets using the train_test_split function, fits the linear regression model using the training data and prints the MSE of the model."
   ]
  },
  {
   "cell_type": "code",
   "execution_count": 60,
   "metadata": {
    "_cell_guid": "30c7b972-93b2-4566-a07b-ad0b47d96b66",
    "_uuid": "05593fc8-5e22-4f02-9251-4f6215e8a7af",
    "collapsed": false,
    "execution": {
     "iopub.execute_input": "2023-01-25T04:12:15.901898Z",
     "iopub.status.busy": "2023-01-25T04:12:15.901188Z",
     "iopub.status.idle": "2023-01-25T04:12:15.909291Z",
     "shell.execute_reply": "2023-01-25T04:12:15.907981Z",
     "shell.execute_reply.started": "2023-01-25T04:12:15.901843Z"
    },
    "jupyter": {
     "outputs_hidden": false
    }
   },
   "outputs": [],
   "source": [
    "# split the data into training and test sets\n",
    "X_train, X_test, y_train, y_test = train_test_split(X, y, test_size=0.2)"
   ]
  },
  {
   "cell_type": "code",
   "execution_count": 61,
   "metadata": {
    "_cell_guid": "1831e58c-029d-44f8-a282-5fa16edff6c0",
    "_uuid": "a6643726-59b3-4032-aebc-cd5204f531db",
    "collapsed": false,
    "execution": {
     "iopub.execute_input": "2023-01-25T04:12:16.416902Z",
     "iopub.status.busy": "2023-01-25T04:12:16.416051Z",
     "iopub.status.idle": "2023-01-25T04:12:16.422038Z",
     "shell.execute_reply": "2023-01-25T04:12:16.420442Z",
     "shell.execute_reply.started": "2023-01-25T04:12:16.416861Z"
    },
    "jupyter": {
     "outputs_hidden": false
    }
   },
   "outputs": [],
   "source": [
    "# create a linear regression model\n",
    "model = LinearRegression()"
   ]
  },
  {
   "cell_type": "code",
   "execution_count": 62,
   "metadata": {
    "_cell_guid": "27704e3a-149c-4d55-9331-4ec36f7f9548",
    "_uuid": "042dbca0-a991-4218-afc4-69dfecaeb976",
    "collapsed": false,
    "execution": {
     "iopub.execute_input": "2023-01-25T04:12:16.897437Z",
     "iopub.status.busy": "2023-01-25T04:12:16.896810Z",
     "iopub.status.idle": "2023-01-25T04:12:19.089312Z",
     "shell.execute_reply": "2023-01-25T04:12:19.087668Z",
     "shell.execute_reply.started": "2023-01-25T04:12:16.897401Z"
    },
    "jupyter": {
     "outputs_hidden": false
    }
   },
   "outputs": [],
   "source": [
    "# train the model on the training data\n",
    "train_loss = []\n",
    "test_loss = []\n",
    "\n",
    "# train the model\n",
    "for i in range(100):\n",
    "    model.fit(X_train, y_train)\n",
    "    train_loss.append(mean_squared_error(y_train, model.predict(X_train)))\n",
    "    test_loss.append(mean_squared_error(y_test, model.predict(X_test)))"
   ]
  },
  {
   "cell_type": "code",
   "execution_count": 63,
   "metadata": {
    "_cell_guid": "13b5413a-f9f2-46d9-ad7b-dd516adf21a6",
    "_uuid": "d767ad86-67cb-45e0-98ff-823f0157577a",
    "collapsed": false,
    "execution": {
     "iopub.execute_input": "2023-01-25T04:12:19.103888Z",
     "iopub.status.busy": "2023-01-25T04:12:19.099317Z",
     "iopub.status.idle": "2023-01-25T04:12:19.127619Z",
     "shell.execute_reply": "2023-01-25T04:12:19.125854Z",
     "shell.execute_reply.started": "2023-01-25T04:12:19.103799Z"
    },
    "jupyter": {
     "outputs_hidden": false
    }
   },
   "outputs": [],
   "source": [
    "train_score = model.score(X_train, y_train)\n",
    "test_score = model.score(X_test, y_test)"
   ]
  },
  {
   "cell_type": "code",
   "execution_count": 64,
   "metadata": {
    "_cell_guid": "fc9dcfd6-a8ea-4fb5-81b8-2c5faa7afc0c",
    "_uuid": "b5e4d2c1-e23e-4c34-b1a9-233a59b5186d",
    "collapsed": false,
    "execution": {
     "iopub.execute_input": "2023-01-25T04:12:19.141428Z",
     "iopub.status.busy": "2023-01-25T04:12:19.136652Z",
     "iopub.status.idle": "2023-01-25T04:12:19.172307Z",
     "shell.execute_reply": "2023-01-25T04:12:19.170306Z",
     "shell.execute_reply.started": "2023-01-25T04:12:19.141337Z"
    },
    "jupyter": {
     "outputs_hidden": false
    }
   },
   "outputs": [],
   "source": [
    "# predict the values for the training and test sets\n",
    "y_train_pred = model.predict(X_train)\n",
    "y_test_pred = model.predict(X_test)"
   ]
  },
  {
   "cell_type": "code",
   "execution_count": 65,
   "metadata": {
    "_cell_guid": "b6b75b21-0a44-43cf-9bb2-8b3e91246745",
    "_uuid": "90625771-a1ab-4a39-8d45-84b79d67783a",
    "collapsed": false,
    "execution": {
     "iopub.execute_input": "2023-01-25T04:12:19.190301Z",
     "iopub.status.busy": "2023-01-25T04:12:19.184161Z",
     "iopub.status.idle": "2023-01-25T04:12:19.443296Z",
     "shell.execute_reply": "2023-01-25T04:12:19.441950Z",
     "shell.execute_reply.started": "2023-01-25T04:12:19.190197Z"
    },
    "jupyter": {
     "outputs_hidden": false
    }
   },
   "outputs": [
    {
     "data": {
      "image/png": "[encoded data removed]",
      "text/plain": [
       "<Figure size 432x288 with 1 Axes>"
      ]
     },
     "metadata": {
      "needs_background": "light"
     },
     "output_type": "display_data"
    }
   ],
   "source": [
    "# Plot the prediction line\n",
    "plt.scatter(y_train, y_train_pred,label='train')\n",
    "plt.scatter(y_test, y_test_pred,label='test')\n",
    "plt.legend()\n",
    "plt.xlabel(\"Actual values\")\n",
    "plt.ylabel(\"Predicted values\")\n",
    "plt.title(\"Prediction line\")\n",
    "plt.show()"
   ]
  },
  {
   "cell_type": "code",
   "execution_count": 66,
   "metadata": {
    "_cell_guid": "0fb93703-1101-4585-b785-95d4b0088af9",
    "_uuid": "5268661b-341b-468e-ab9c-6b4ffdbab500",
    "collapsed": false,
    "execution": {
     "iopub.execute_input": "2023-01-25T04:12:19.446602Z",
     "iopub.status.busy": "2023-01-25T04:12:19.445847Z",
     "iopub.status.idle": "2023-01-25T04:12:19.645491Z",
     "shell.execute_reply": "2023-01-25T04:12:19.644449Z",
     "shell.execute_reply.started": "2023-01-25T04:12:19.446524Z"
    },
    "jupyter": {
     "outputs_hidden": false
    }
   },
   "outputs": [
    {
     "data": {
      "image/png": "[encoded data removed]",
      "text/plain": [
       "<Figure size 432x288 with 1 Axes>"
      ]
     },
     "metadata": {
      "needs_background": "light"
     },
     "output_type": "display_data"
    }
   ],
   "source": [
    "# Plot the residuals\n",
    "plt.scatter(y_train_pred, y_train_pred - y_train,label='train')\n",
    "plt.scatter(y_test_pred, y_test_pred - y_test,label='test')\n",
    "plt.legend()\n",
    "plt.xlabel(\"Predicted values\")\n",
    "plt.ylabel(\"Residuals\")\n",
    "plt.title(\"Residual Plot\")\n",
    "plt.show()"
   ]
  },
  {
   "cell_type": "code",
   "execution_count": 67,
   "metadata": {
    "_cell_guid": "03b3febf-b927-4694-b417-9facfdd6d69e",
    "_uuid": "64acbbc1-c360-4cf2-a19c-b6f6ce6c5acb",
    "collapsed": false,
    "execution": {
     "iopub.execute_input": "2023-01-25T04:12:20.502395Z",
     "iopub.status.busy": "2023-01-25T04:12:20.501263Z",
     "iopub.status.idle": "2023-01-25T04:12:20.662516Z",
     "shell.execute_reply": "2023-01-25T04:12:20.661633Z",
     "shell.execute_reply.started": "2023-01-25T04:12:20.502340Z"
    },
    "jupyter": {
     "outputs_hidden": false
    }
   },
   "outputs": [
    {
     "data": {
      "image/png": "[encoded data removed]",
      "text/plain": [
       "<Figure size 432x288 with 1 Axes>"
      ]
     },
     "metadata": {
      "needs_background": "light"
     },
     "output_type": "display_data"
    }
   ],
   "source": [
    "# Plot the loss\n",
    "plt.plot(train_loss, label='train')\n",
    "plt.plot(test_loss, label='test')\n",
    "plt.legend()\n",
    "plt.xlabel(\"Iterations\")\n",
    "plt.ylabel(\"Loss\")\n",
    "plt.title(\"Loss Plot\")\n",
    "plt.show()"
   ]
  },
  {
   "cell_type": "markdown",
   "metadata": {},
   "source": [
    "Overall, this code is performing a linear regression analysis on an insurance dataset. It begins by importing the necessary libraries for the analysis, then reads in the data from a csv file using pandas, applies one-hot encoding to certain columns, selects the relevant columns to use in the model, and finally splits the data into training and testing sets and fits a linear regression model to the training data. The last line prints the MSE of the model as a measure of performance."
   ]
  }
 ],
 "metadata": {
  "kernelspec": {
   "display_name": "Python 3 (ipykernel)",
   "language": "python",
   "name": "python3"
  },
  "language_info": {
   "codemirror_mode": {
    "name": "ipython",
    "version": 3
   },
   "file_extension": ".py",
   "mimetype": "text/x-python",
   "name": "python",
   "nbconvert_exporter": "python",
   "pygments_lexer": "ipython3",
   "version": "3.9.15"
  }
 },
 "nbformat": 4,
 "nbformat_minor": 4
}

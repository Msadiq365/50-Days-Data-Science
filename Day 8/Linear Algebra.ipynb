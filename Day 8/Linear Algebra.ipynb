{
 "cells": [
  {
   "cell_type": "markdown",
   "id": "b6c59c05-11db-4128-ae09-5acd8815a639",
   "metadata": {},
   "source": [
    "# Day 7 of 100 Days Data Science Bootcamp from noob to expert."
   ]
  },
  {
   "cell_type": "markdown",
   "id": "8066b58c-a250-4414-988c-0651495b9f24",
   "metadata": {},
   "source": [
    "## Recap Day 8\n",
    "\n",
    "Yesterday we have studied in detail about DBMS/SQL and also executed all quries using python Python.\n"
   ]
  },
  {
   "cell_type": "markdown",
   "id": "6a9b021f-2f63-4084-b938-c7b2258026c5",
   "metadata": {},
   "source": [
    "## Linear Algebra Part 1"
   ]
  },
  {
   "cell_type": "markdown",
   "id": "86720d3f-882f-409b-8753-930a8404b3d8",
   "metadata": {},
   "source": [
    "# Let's Start"
   ]
  },
  {
   "cell_type": "markdown",
   "id": "127e5dcc-0d77-4932-9f5c-e9c70c56c930",
   "metadata": {},
   "source": [
    "Linear algebra is a branch of mathematics that deals with vectors, matrices, and linear transformations. It plays an important role in data science and machine learning, as many data science algorithms are based on linear algebra concepts."
   ]
  },
  {
   "cell_type": "markdown",
   "id": "d2fd92ee-816c-4570-b07a-2c05680b5124",
   "metadata": {},
   "source": [
    "#### Some of the key concepts in linear algebra that are important for data science include:"
   ]
  },
  {
   "cell_type": "markdown",
   "id": "2022f024-4f83-4986-9fc7-723431eee6dc",
   "metadata": {},
   "source": [
    "### 1. Vectors:\n",
    "A vector is a mathematical object that has both magnitude and direction. It is often represented as an array of numbers, and can be thought of as a point in space. In data science, vectors are used to represent data points, feature values, and other quantities. In linear algebra, vectors can be added, subtracted, and multiplied by scalars (numbers).\n",
    "\n",
    "**Go in more detail: [Vectors](https://www.cuemath.com/geometry/vectors/)**\n",
    "\n",
    "### 2. Matrices:\n",
    "A matrix is a two-dimensional array of numbers. It is used to represent systems of linear equations, and can be thought of as a collection of vectors. Matrices can be added, subtracted, and multiplied by scalars and other matrices. In data science, matrices are used to represent data, such as a dataset with multiple features, and to perform linear algebraic operations.\n",
    "\n",
    "\n",
    "**Go in more detail: [Matrices/ Transpose of matrics/ Inverse of matrix/ Determinant of matrix/ Trance of matrix/ Dot product/ Eigen values and eigen vectors](https://www.cuemath.com/algebra/solve-matrices/)**\n",
    "\n",
    "\n",
    "### 3. Transpose of a matrix:\n",
    "The transpose of a matrix is obtained by flipping the matrix over its diagonal. This operation changes the rows of the matrix into columns and vice versa. The transpose of a matrix is denoted by the superscript T. It is useful in a variety of linear algebra operations, such as solving systems of linear equations and calculating dot products.\n",
    "\n",
    "### 4. Inverse of a matrix:\n",
    "The inverse of a matrix is a matrix that, when multiplied with the original matrix, results in the identity matrix. Not all matrices have an inverse, but square matrices (matrices with the same number of rows and columns) that are non-singular (have a non-zero determinant) do have an inverse. The inverse of a matrix is denoted by the superscript -1. The inverse of a matrix is useful in a variety of linear algebra operations, such as solving systems of linear equations and calculating matrix inverses.\n",
    "\n",
    "### 5. Determinant of a matrix:\n",
    "The determinant of a matrix is a scalar value that can be calculated from a matrix. The determinant is used in linear algebra to solve systems of linear equations, and it can also be used to calculate the inverse of a matrix. The determinant of a matrix can be calculated using a variety of methods, including the use of cofactors, Laplace expansions, or LU decomposition.\n",
    "\n",
    "### 6. Trace of a matrix:\n",
    "The trace of a matrix is the sum of the diagonal elements of a matrix. It is a scalar value that can be used to calculate other matrix characteristics such as eigenvalues. The trace of a matrix is useful in a variety of linear algebra operations, such as calculating eigenvalues and diagonalizing matrices.\n",
    "\n",
    "### 7. Dot product:\n",
    "The dot product is a mathematical operation that takes two vectors and returns a scalar value. It is calculated by multiplying the corresponding entries of the two vectors and then summing the results\n",
    "\n",
    "### 8. Eigenvalues:\n",
    "Eigenvalues are scalar values that are used to understand the properties of a matrix. They are found by solving the equation det(A - λI) = 0, where A is the matrix, λ is the eigenvalue, and I is the identity matrix. Eigenvalues are used to determine the characteristics of a matrix, such as its stability, and they are also used in matrix decompositions, such as diagonalization and principal component analysis.\n",
    "\n",
    "### 9. Eigenvectors:\n",
    "Eigenvectors are vectors that, when multiplied by a matrix, change only in scale (not direction). They are found by solving the equation Av = λv, where A is the matrix, λ is the eigenvalue, and v is the eigenvector. Eigenvectors are used to determine the characteristics of a matrix, such as its stability, and they are also used in matrix decompositions, such as diagonalization and principal component analysis.\n",
    "\n",
    "In summary, these concepts are important in linear algebra and are commonly used in data science and machine learning. They provide a way to understand and manipulate data and are used in various operations such as data compression, dimensionality reduction, and optimization. Understanding these concepts and being able to apply them using python is an important skill for any data scientist."
   ]
  },
  {
   "cell_type": "markdown",
   "id": "494b5702-0d5c-4221-9a08-46ea0abd59cc",
   "metadata": {},
   "source": [
    "## Visualize a 2D vector using the Matplotlib library in Python:"
   ]
  },
  {
   "cell_type": "code",
   "execution_count": 1,
   "id": "15110da4-d6cb-4f82-a954-a89b891618d9",
   "metadata": {},
   "outputs": [
    {
     "data": {
      "image/png": "[encoded data removed]",
      "text/plain": [
       "<Figure size 640x480 with 1 Axes>"
      ]
     },
     "metadata": {},
     "output_type": "display_data"
    }
   ],
   "source": [
    "import matplotlib.pyplot as plt\n",
    "import numpy as np\n",
    "\n",
    "# Define the vector and its initial point\n",
    "v = np.array([1, 2])\n",
    "origin = [0], [0]\n",
    "\n",
    "# Plot the vector as an arrow\n",
    "plt.quiver(*origin, v[0], v[1], angles='xy', scale_units='xy', scale=1, color='blue')\n",
    "\n",
    "# Set the x and y limits\n",
    "plt.xlim(-3, 3)\n",
    "plt.ylim(-3, 3)\n",
    "\n",
    "# Show the plot\n",
    "plt.show()\n"
   ]
  },
  {
   "cell_type": "markdown",
   "id": "6310b308-c269-4966-9045-a8c534827c5b",
   "metadata": {},
   "source": [
    "This code will create a plot with a blue arrow pointing in the direction of the vector. The arrow starts at the point (0, 0) and the x and y limits are set to (-3, 3) to give some extra space around the vector."
   ]
  },
  {
   "cell_type": "markdown",
   "id": "4af41b6f-13eb-4b9a-aa36-6727b869acb7",
   "metadata": {},
   "source": [
    "## Visualize multiple vectors in a single plot by plotting each vector as an arrow and setting the x and y limits accordingly."
   ]
  },
  {
   "cell_type": "code",
   "execution_count": 2,
   "id": "69f66563-9a29-4c42-9168-d7fb60ba557e",
   "metadata": {},
   "outputs": [
    {
     "data": {
      "image/png": "[encoded data removed]",
      "text/plain": [
       "<Figure size 640x480 with 1 Axes>"
      ]
     },
     "metadata": {},
     "output_type": "display_data"
    }
   ],
   "source": [
    "# Define the vectors and their initial points\n",
    "v1 = np.array([1, 2])\n",
    "origin1 = [0], [0]\n",
    "v2 = np.array([3, 1])\n",
    "origin2 = [0], [0]\n",
    "\n",
    "# Plot the vectors as arrows\n",
    "plt.quiver(*origin1, v1[0], v1[1], angles='xy', scale_units='xy', scale=1, color='blue')\n",
    "plt.quiver(*origin2, v2[0], v2[1], angles='xy', scale_units='xy', scale=1, color='red')\n",
    "\n",
    "# Set the x and y limits\n",
    "plt.xlim(-3, 3)\n",
    "plt.ylim(-3, 3)\n",
    "\n",
    "# Show the plot\n",
    "plt.show()\n"
   ]
  },
  {
   "cell_type": "markdown",
   "id": "47a181ac-2308-4726-8928-b633db770e5a",
   "metadata": {},
   "source": [
    "This code will create a plot with two arrows, one blue and one red, starting at the point (0, 0) and pointing in the direction of the two defined vectors. The x and y limits are set to (-3, 3) to give some extra space around the vectors."
   ]
  },
  {
   "cell_type": "markdown",
   "id": "f1db42e6-fe2d-4386-9d87-3cf725984990",
   "metadata": {},
   "source": [
    "## Getting handy in matrices and its operation using python"
   ]
  },
  {
   "cell_type": "markdown",
   "id": "8cfa5a4f-116b-4e46-ac77-821555b78007",
   "metadata": {},
   "source": [
    "The NumPy library in Python provides a variety of functions and methods for working with matrices, including calculating the transpose, inverse, determinant, trace, dot product, eigenvalues, and eigenvectors.\n",
    "\n",
    "Here are some examples of how you can use NumPy to perform these operations:\n",
    "\n"
   ]
  },
  {
   "cell_type": "markdown",
   "id": "9c0f62d5-c20c-4456-8761-0157b7365d5f",
   "metadata": {},
   "source": [
    "* Transpose of a matrix:"
   ]
  },
  {
   "cell_type": "code",
   "execution_count": 28,
   "id": "4b378dbd-d175-43ae-a9f8-ceeff91f26a3",
   "metadata": {},
   "outputs": [
    {
     "name": "stdout",
     "output_type": "stream",
     "text": [
      "Matrix: \n",
      " [[1 2 3]\n",
      " [4 5 6]\n",
      " [7 8 9]]\n",
      "\n",
      "Transpose:\n",
      " [[1 4 7]\n",
      " [2 5 8]\n",
      " [3 6 9]]\n"
     ]
    }
   ],
   "source": [
    "import numpy as np\n",
    "\n",
    "# Create a matrix\n",
    "matrix = np.array([[1, 2, 3], [4, 5, 6], [7, 8, 9]])\n",
    "print(\"Matrix: \\n\", matrix)\n",
    "\n",
    "# Calculate the transpose of the matrix\n",
    "matrix_transpose = matrix.T\n",
    "print(\"\\nTranspose:\\n\", matrix_transpose)"
   ]
  },
  {
   "cell_type": "markdown",
   "id": "12896df9-7a30-4d42-a901-3df972ce2e33",
   "metadata": {},
   "source": [
    "* Inverse of a matrix:"
   ]
  },
  {
   "cell_type": "code",
   "execution_count": 29,
   "id": "c780c7fa-0a0c-4a11-96c3-71786e5bb362",
   "metadata": {},
   "outputs": [
    {
     "name": "stdout",
     "output_type": "stream",
     "text": [
      "Matrix: \n",
      " [[1 2]\n",
      " [3 4]]\n",
      "Matrix Inverse: \n",
      " [[-2.   1. ]\n",
      " [ 1.5 -0.5]]\n"
     ]
    }
   ],
   "source": [
    "# Create a matrix\n",
    "matrix = np.array([[1, 2], [3, 4]])\n",
    "print(\"Matrix: \\n\", matrix)\n",
    "# Calculate the inverse of the matrix\n",
    "matrix_inverse = np.linalg.inv(matrix)\n",
    "print(\"Matrix Inverse: \\n\", matrix_inverse)"
   ]
  },
  {
   "cell_type": "markdown",
   "id": "61a41848-8bdb-466b-837d-a6c36512f471",
   "metadata": {},
   "source": [
    "* Determinant of a matrix:"
   ]
  },
  {
   "cell_type": "code",
   "execution_count": 30,
   "id": "989ba8d5-c3be-4298-9536-179faa938ce3",
   "metadata": {},
   "outputs": [
    {
     "name": "stdout",
     "output_type": "stream",
     "text": [
      "Matrix: \n",
      " [[1 2]\n",
      " [3 4]]\n",
      "Matrix Determinant: \n",
      " -2.0000000000000004\n"
     ]
    }
   ],
   "source": [
    "# Create a matrix\n",
    "matrix = np.array([[1, 2], [3, 4]])\n",
    "print(\"Matrix: \\n\", matrix)\n",
    "# Calculate the determinant of the matrix\n",
    "matrix_determinant = np.linalg.det(matrix)\n",
    "print(\"Matrix Determinant: \\n\", matrix_determinant)"
   ]
  },
  {
   "cell_type": "markdown",
   "id": "aff70435-366e-4963-a607-dfbf2aeec24a",
   "metadata": {},
   "source": [
    "* Trace of a matrix:"
   ]
  },
  {
   "cell_type": "code",
   "execution_count": 31,
   "id": "001c8727-cc56-4f3e-b6c9-ddafe1f67c2e",
   "metadata": {},
   "outputs": [
    {
     "name": "stdout",
     "output_type": "stream",
     "text": [
      "Matrix: \n",
      " [[1 2 3]\n",
      " [4 5 6]\n",
      " [7 8 9]]\n",
      "Matrix Trace: \n",
      " 15\n"
     ]
    }
   ],
   "source": [
    "# Create a matrix\n",
    "matrix = np.array([[1, 2, 3], [4, 5, 6], [7, 8, 9]])\n",
    "print(\"Matrix: \\n\", matrix)\n",
    "# Calculate the trace of the matrix\n",
    "matrix_trace = np.trace(matrix)\n",
    "print(\"Matrix Trace: \\n\", matrix_trace)"
   ]
  },
  {
   "cell_type": "markdown",
   "id": "87558bd2-ed9c-43a7-8893-fc3490ee2784",
   "metadata": {},
   "source": [
    "* Dot product:"
   ]
  },
  {
   "cell_type": "code",
   "execution_count": 32,
   "id": "5257fc80-9245-4edd-a424-5f01e053bb88",
   "metadata": {},
   "outputs": [
    {
     "name": "stdout",
     "output_type": "stream",
     "text": [
      "Vector 1:  [1 2 3]\n",
      "Vector 2:  [4 5 6]\n",
      "Dot Product:  [1 2 3]\n"
     ]
    }
   ],
   "source": [
    "# Create two vectors\n",
    "vector1 = np.array([1, 2, 3])\n",
    "vector2 = np.array([4, 5, 6])\n",
    "print(\"Vector 1: \", vector1)\n",
    "print(\"Vector 2: \", vector2)\n",
    "# Calculate the dot product of the vectors\n",
    "dot_product = np.dot(vector1, vector2)\n",
    "print(\"Dot Product: \", vector1)"
   ]
  },
  {
   "cell_type": "markdown",
   "id": "b4d8b86c-e06f-4ef0-987a-db1ab5ac33a3",
   "metadata": {},
   "source": [
    "* Eigenvalues and Eigenvectors:"
   ]
  },
  {
   "cell_type": "code",
   "execution_count": 36,
   "id": "5dcaf803-7e48-4048-8169-0e8603d008d5",
   "metadata": {},
   "outputs": [
    {
     "name": "stdout",
     "output_type": "stream",
     "text": [
      "Matrix: \n",
      " [[1 2 3]\n",
      " [4 5 6]\n",
      " [7 8 9]]\n",
      "Eigen values:  [ 1.61168440e+01 -1.11684397e+00 -4.22209278e-16]\n",
      "Eigen vectors: \n",
      " [[-0.23197069 -0.78583024  0.40824829]\n",
      " [-0.52532209 -0.08675134 -0.81649658]\n",
      " [-0.8186735   0.61232756  0.40824829]]\n"
     ]
    }
   ],
   "source": [
    "# Create a matrix\n",
    "matrix = np.array([[1, 2, 3], [4, 5, 6], [7, 8, 9]])\n",
    "print(\"Matrix: \\n\", matrix)\n",
    "# Calculate the eigenvalues and eigenvectors of the matrix\n",
    "eigenvalues, eigenvectors = np.linalg.eig(matrix)\n",
    "print(\"Eigen values: \", eigenvalues)\n",
    "print(\"Eigen vectors: \\n\", eigenvectors)"
   ]
  },
  {
   "cell_type": "markdown",
   "id": "9e2e38e0-97bd-4282-ac37-3c6b882f09c8",
   "metadata": {},
   "source": [
    "## Summary:\n",
    "\n",
    "The important concepts of vectors, matrices, and linear algebra in the context of data science. It explains the use and importance of these concepts in understanding and manipulating data, as well as their applications in various data science operations. It also provides examples of how to perform various linear algebraic operations using the NumPy library in Python."
   ]
  }
 ],
 "metadata": {
  "kernelspec": {
   "display_name": "Python 3 (ipykernel)",
   "language": "python",
   "name": "python3"
  },
  "language_info": {
   "codemirror_mode": {
    "name": "ipython",
    "version": 3
   },
   "file_extension": ".py",
   "mimetype": "text/x-python",
   "name": "python",
   "nbconvert_exporter": "python",
   "pygments_lexer": "ipython3",
   "version": "3.9.15"
  }
 },
 "nbformat": 4,
 "nbformat_minor": 5
}

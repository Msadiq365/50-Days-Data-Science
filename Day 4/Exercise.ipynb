{
 "cells": [
  {
   "cell_type": "markdown",
   "id": "ebb7e9f6-6a96-4744-bf39-5d428aadcaf7",
   "metadata": {},
   "source": [
    "## Basic Level:\n",
    "\n",
    "1. Create a NumPy array of 10 zeros.\n",
    "2. Create a NumPy array of 10 ones.\n",
    "3. Create a NumPy array of 10 random numbers between 0 and 1.\n",
    "4. Create a NumPy array of 10 evenly spaced numbers between 0 and 1.\n",
    "5. Obtain the dimensions and shape of the NumPy array from question 3.\n",
    "6. Reshape the NumPy array from question 3 into a 2x5 matrix.\n",
    "7. Flatten the NumPy array from question 3.\n",
    "8. Transpose the NumPy array from question 3.\n",
    "9. Expand the NumPy array from question 3 by adding a new dimension.\n",
    "10. Squeeze the NumPy array from question 9."
   ]
  },
  {
   "cell_type": "markdown",
   "id": "9df61a9b-bae5-4b1c-bf77-89ba6cb8c081",
   "metadata": {},
   "source": [
    "## Medium Level:\n",
    "\n",
    "1. Create a NumPy array of 10 random integers between 0 and 100.\n",
    "2. Slice the NumPy array from question 1 to obtain the elements at index 2, 5, and 8.\n",
    "3. Create a 2x5 matrix of random integers between 0 and 100.\n",
    "4. Slice the matrix from question 3 to obtain the elements in the second row.\n",
    "5. Concatenate the NumPy array from question 1 and the matrix from question 3 along the vertical axis.\n",
    "6. Create a 3x3x3 array of random integers between 0 and 100.\n",
    "7. Slice the array from question 6 to obtain the elements in the second plane, first row, and third column.\n",
    "8. Perform element-wise addition, subtraction, multiplication, and division on the NumPy array from question 1 and the matrix from question 3.\n",
    "9. Calculate the mean, median, and standard deviation of the NumPy array from question 1.\n",
    "10. Find the minimum and maximum values and their indexes in the NumPy array from question 1."
   ]
  },
  {
   "cell_type": "markdown",
   "id": "7a7d1675-3074-4e91-b428-e3df96137cf0",
   "metadata": {},
   "source": [
    "## Advanced Level:\n",
    "\n",
    "1. Create a NumPy array of 10 random integers between 0 and 100 and replace all even numbers with 0.\n",
    "2. Create a 5x5 matrix of random integers between 0 and 100 and replace all elements that are divisible by 3 with 0.\n",
    "3. Perform element-wise trigonometric functions (sin, cos, tan) on the NumPy array from question 1.\n",
    "4. Create a 2x5 matrix of random integers between 0 and 100 and perform element-wise comparison operations (greater than, less than, equal to) with a scalar value.\n",
    "5. Create a 3x3x3 array of random integers between 0 and 100 and perform element-wise logical operations (and, or, not) with a scalar value.\n",
    "6. Read an image into a NumPy array using the imageio library and display the image using matplotlib.\n",
    "7. Perform some operations on the image from question 6 (e.g. resize, rotate, flip) and save the modified image using the imageio library.\n",
    "8. Create a NumPy array of 10 random integers between 0 and 100 and sort the array in ascending order.\n",
    "9. Create a 5x5 matrix of random integers between 0 and 100 and sort the rows in ascending order.\n",
    "10. Create a 3x3x3 array of random integers between 0 and 100 and sort the planes in ascending order."
   ]
  }
 ],
 "metadata": {
  "kernelspec": {
   "display_name": "Python 3 (ipykernel)",
   "language": "python",
   "name": "python3"
  },
  "language_info": {
   "codemirror_mode": {
    "name": "ipython",
    "version": 3
   },
   "file_extension": ".py",
   "mimetype": "text/x-python",
   "name": "python",
   "nbconvert_exporter": "python",
   "pygments_lexer": "ipython3",
   "version": "3.9.15"
  }
 },
 "nbformat": 4,
 "nbformat_minor": 5
}

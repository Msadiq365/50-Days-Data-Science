{
 "cells": [
  {
   "cell_type": "markdown",
   "id": "bf64fa65",
   "metadata": {
    "papermill": {
     "duration": 0.01702,
     "end_time": "2022-12-30T13:29:35.029778",
     "exception": false,
     "start_time": "2022-12-30T13:29:35.012758",
     "status": "completed"
    },
    "tags": []
   },
   "source": [
    "# Data detective: Tips and tricks for conducting effective exploratory data analysis"
   ]
  },
  {
   "cell_type": "markdown",
   "id": "c7422370",
   "metadata": {
    "papermill": {
     "duration": 0.015567,
     "end_time": "2022-12-30T13:29:35.061360",
     "exception": false,
     "start_time": "2022-12-30T13:29:35.045793",
     "status": "completed"
    },
    "tags": []
   },
   "source": [
    "Exploratory data analysis (EDA) is an approach to analyzing and understanding data that involves summarizing, visualizing, and identifying patterns and relationships in the data. There are many different techniques and approaches that can be used in EDA, and the specific techniques used will depend on the nature of the data and the questions being asked. Here are some common techniques that are often used in EDA:\n",
    "\n",
    "1. Visualization: Plotting the data in various ways can help reveal patterns and trends that may not be immediately apparent. Common types of plots include scatter plots, line plots, bar plots, and histograms.\n",
    "\n",
    "2. Summary statistics: Calculating summary statistics such as mean, median, and standard deviation can provide useful information about the distribution and spread of the data.\n",
    "\n",
    "3. Correlation analysis: Examining the relationships between different variables can help identify correlations and dependencies.\n",
    "\n",
    "4. Data cleaning: Removing missing or incorrect values and ensuring that the data is in a consistent format is an important step in EDA.\n",
    "\n",
    "5. Dimensionality reduction: Techniques such as principal component analysis (PCA) can be used to reduce the number of dimensions in the data, making it easier to visualize and analyze.\n",
    "\n",
    "6. Anomaly detection: Identifying unusual or unexpected values in the data can be important in identifying errors or outliers.\n",
    "\n",
    "7. Feature engineering: Creating new features or transforming existing features can improve the performance of machine learning models and facilitate analysis."
   ]
  },
  {
   "cell_type": "markdown",
   "id": "fe262f58",
   "metadata": {
    "papermill": {
     "duration": 0.015006,
     "end_time": "2022-12-30T13:29:35.092299",
     "exception": false,
     "start_time": "2022-12-30T13:29:35.077293",
     "status": "completed"
    },
    "tags": []
   },
   "source": [
    "Overall, the goal of EDA is to gain a better understanding of the data, identify potential issues or problems, and develop hypotheses about the relationships and patterns in the data that can be further tested and refined.\n",
    "\n"
   ]
  },
  {
   "cell_type": "markdown",
   "id": "9e0792e2",
   "metadata": {
    "papermill": {
     "duration": 0.01502,
     "end_time": "2022-12-30T13:29:35.123113",
     "exception": false,
     "start_time": "2022-12-30T13:29:35.108093",
     "status": "completed"
    },
    "tags": []
   },
   "source": [
    "**Now we will study in more detail all the points mentioned above.**"
   ]
  },
  {
   "cell_type": "markdown",
   "id": "fa41e7a7",
   "metadata": {
    "papermill": {
     "duration": 0.015312,
     "end_time": "2022-12-30T13:29:35.154635",
     "exception": false,
     "start_time": "2022-12-30T13:29:35.139323",
     "status": "completed"
    },
    "tags": []
   },
   "source": [
    "# 1. Visualization\n",
    "Here is a simple example using a sample dataset of weather data for a single location. The data includes the temperature, humidity, and wind speed for each day in a month."
   ]
  },
  {
   "cell_type": "markdown",
   "id": "92d516d1",
   "metadata": {
    "papermill": {
     "duration": 0.01486,
     "end_time": "2022-12-30T13:29:35.185266",
     "exception": false,
     "start_time": "2022-12-30T13:29:35.170406",
     "status": "completed"
    },
    "tags": []
   },
   "source": [
    "First, we will import the necessary libraries and read in the data from a CSV file:"
   ]
  },
  {
   "cell_type": "code",
   "execution_count": 1,
   "id": "2406692a",
   "metadata": {
    "execution": {
     "iopub.execute_input": "2022-12-30T13:29:35.217743Z",
     "iopub.status.busy": "2022-12-30T13:29:35.217027Z",
     "iopub.status.idle": "2022-12-30T13:29:35.268295Z",
     "shell.execute_reply": "2022-12-30T13:29:35.267282Z"
    },
    "papermill": {
     "duration": 0.071313,
     "end_time": "2022-12-30T13:29:35.271672",
     "exception": false,
     "start_time": "2022-12-30T13:29:35.200359",
     "status": "completed"
    },
    "tags": []
   },
   "outputs": [
    {
     "data": {
      "text/html": [
       "<div>\n",
       "<style scoped>\n",
       "    .dataframe tbody tr th:only-of-type {\n",
       "        vertical-align: middle;\n",
       "    }\n",
       "\n",
       "    .dataframe tbody tr th {\n",
       "        vertical-align: top;\n",
       "    }\n",
       "\n",
       "    .dataframe thead th {\n",
       "        text-align: right;\n",
       "    }\n",
       "</style>\n",
       "<table border=\"1\" class=\"dataframe\">\n",
       "  <thead>\n",
       "    <tr style=\"text-align: right;\">\n",
       "      <th></th>\n",
       "      <th>Date</th>\n",
       "      <th>Temperature</th>\n",
       "      <th>Humidity</th>\n",
       "      <th>Wind Speed</th>\n",
       "      <th>Month</th>\n",
       "    </tr>\n",
       "  </thead>\n",
       "  <tbody>\n",
       "    <tr>\n",
       "      <th>0</th>\n",
       "      <td>2022-01-01</td>\n",
       "      <td>45</td>\n",
       "      <td>65</td>\n",
       "      <td>10</td>\n",
       "      <td>January</td>\n",
       "    </tr>\n",
       "    <tr>\n",
       "      <th>1</th>\n",
       "      <td>2022-01-02</td>\n",
       "      <td>50</td>\n",
       "      <td>70</td>\n",
       "      <td>15</td>\n",
       "      <td>January</td>\n",
       "    </tr>\n",
       "    <tr>\n",
       "      <th>2</th>\n",
       "      <td>2022-01-03</td>\n",
       "      <td>55</td>\n",
       "      <td>75</td>\n",
       "      <td>20</td>\n",
       "      <td>January</td>\n",
       "    </tr>\n",
       "    <tr>\n",
       "      <th>3</th>\n",
       "      <td>2022-01-04</td>\n",
       "      <td>60</td>\n",
       "      <td>80</td>\n",
       "      <td>25</td>\n",
       "      <td>January</td>\n",
       "    </tr>\n",
       "    <tr>\n",
       "      <th>4</th>\n",
       "      <td>2022-01-05</td>\n",
       "      <td>65</td>\n",
       "      <td>85</td>\n",
       "      <td>30</td>\n",
       "      <td>January</td>\n",
       "    </tr>\n",
       "    <tr>\n",
       "      <th>5</th>\n",
       "      <td>2022-01-06</td>\n",
       "      <td>70</td>\n",
       "      <td>90</td>\n",
       "      <td>35</td>\n",
       "      <td>January</td>\n",
       "    </tr>\n",
       "    <tr>\n",
       "      <th>6</th>\n",
       "      <td>2022-01-07</td>\n",
       "      <td>75</td>\n",
       "      <td>95</td>\n",
       "      <td>40</td>\n",
       "      <td>January</td>\n",
       "    </tr>\n",
       "    <tr>\n",
       "      <th>7</th>\n",
       "      <td>2022-01-08</td>\n",
       "      <td>80</td>\n",
       "      <td>100</td>\n",
       "      <td>45</td>\n",
       "      <td>January</td>\n",
       "    </tr>\n",
       "    <tr>\n",
       "      <th>8</th>\n",
       "      <td>2022-01-09</td>\n",
       "      <td>85</td>\n",
       "      <td>95</td>\n",
       "      <td>50</td>\n",
       "      <td>January</td>\n",
       "    </tr>\n",
       "    <tr>\n",
       "      <th>9</th>\n",
       "      <td>2022-01-10</td>\n",
       "      <td>90</td>\n",
       "      <td>90</td>\n",
       "      <td>55</td>\n",
       "      <td>January</td>\n",
       "    </tr>\n",
       "  </tbody>\n",
       "</table>\n",
       "</div>"
      ],
      "text/plain": [
       "         Date  Temperature  Humidity  Wind Speed    Month\n",
       "0  2022-01-01           45        65          10  January\n",
       "1  2022-01-02           50        70          15  January\n",
       "2  2022-01-03           55        75          20  January\n",
       "3  2022-01-04           60        80          25  January\n",
       "4  2022-01-05           65        85          30  January\n",
       "5  2022-01-06           70        90          35  January\n",
       "6  2022-01-07           75        95          40  January\n",
       "7  2022-01-08           80       100          45  January\n",
       "8  2022-01-09           85        95          50  January\n",
       "9  2022-01-10           90        90          55  January"
      ]
     },
     "execution_count": 1,
     "metadata": {},
     "output_type": "execute_result"
    }
   ],
   "source": [
    "import pandas as pd\n",
    "import matplotlib.pyplot as plt\n",
    "\n",
    "# Read in the data from a CSV file\n",
    "df = pd.read_csv('/kaggle/input/data-detectivetips-and-tricks/weather.csv')\n",
    "df"
   ]
  },
  {
   "cell_type": "markdown",
   "id": "3238819e",
   "metadata": {
    "papermill": {
     "duration": 0.015577,
     "end_time": "2022-12-30T13:29:35.303825",
     "exception": false,
     "start_time": "2022-12-30T13:29:35.288248",
     "status": "completed"
    },
    "tags": []
   },
   "source": [
    "Next, we can use various types of plots to visualize the data in different ways. Here are a few examples:"
   ]
  },
  {
   "cell_type": "markdown",
   "id": "d4917c17",
   "metadata": {
    "papermill": {
     "duration": 0.017128,
     "end_time": "2022-12-30T13:29:35.336451",
     "exception": false,
     "start_time": "2022-12-30T13:29:35.319323",
     "status": "completed"
    },
    "tags": []
   },
   "source": [
    "### Scatter plot:"
   ]
  },
  {
   "cell_type": "code",
   "execution_count": 2,
   "id": "d015b192",
   "metadata": {
    "execution": {
     "iopub.execute_input": "2022-12-30T13:29:35.371486Z",
     "iopub.status.busy": "2022-12-30T13:29:35.370225Z",
     "iopub.status.idle": "2022-12-30T13:29:35.613273Z",
     "shell.execute_reply": "2022-12-30T13:29:35.612067Z"
    },
    "papermill": {
     "duration": 0.263453,
     "end_time": "2022-12-30T13:29:35.615894",
     "exception": false,
     "start_time": "2022-12-30T13:29:35.352441",
     "status": "completed"
    },
    "tags": []
   },
   "outputs": [
    {
     "data": {
      "image/png": "[encoded data removed]",
      "text/plain": [
       "<Figure size 432x288 with 1 Axes>"
      ]
     },
     "metadata": {
      "needs_background": "light"
     },
     "output_type": "display_data"
    }
   ],
   "source": [
    "# Scatter plot of temperature vs humidity\n",
    "plt.scatter(df['Temperature'], df['Humidity'])\n",
    "plt.xlabel('Temperature (°F)')\n",
    "plt.ylabel('Humidity (%)')\n",
    "plt.show()"
   ]
  },
  {
   "cell_type": "markdown",
   "id": "9c39c0fb",
   "metadata": {
    "papermill": {
     "duration": 0.015243,
     "end_time": "2022-12-30T13:29:35.647338",
     "exception": false,
     "start_time": "2022-12-30T13:29:35.632095",
     "status": "completed"
    },
    "tags": []
   },
   "source": [
    "### Line plot:"
   ]
  },
  {
   "cell_type": "code",
   "execution_count": 3,
   "id": "4ba908f6",
   "metadata": {
    "execution": {
     "iopub.execute_input": "2022-12-30T13:29:35.682545Z",
     "iopub.status.busy": "2022-12-30T13:29:35.681026Z",
     "iopub.status.idle": "2022-12-30T13:29:35.900768Z",
     "shell.execute_reply": "2022-12-30T13:29:35.899108Z"
    },
    "papermill": {
     "duration": 0.240046,
     "end_time": "2022-12-30T13:29:35.903629",
     "exception": false,
     "start_time": "2022-12-30T13:29:35.663583",
     "status": "completed"
    },
    "tags": []
   },
   "outputs": [
    {
     "data": {
      "image/png": "[encoded data removed]",
      "text/plain": [
       "<Figure size 432x288 with 1 Axes>"
      ]
     },
     "metadata": {
      "needs_background": "light"
     },
     "output_type": "display_data"
    }
   ],
   "source": [
    "# Line plot of temperature over time\n",
    "plt.plot(df['Date'], df['Temperature'])\n",
    "plt.xlabel('Date')\n",
    "plt.ylabel('Temperature (°F)')\n",
    "plt.show()"
   ]
  },
  {
   "cell_type": "markdown",
   "id": "d0366caf",
   "metadata": {
    "papermill": {
     "duration": 0.017675,
     "end_time": "2022-12-30T13:29:35.938548",
     "exception": false,
     "start_time": "2022-12-30T13:29:35.920873",
     "status": "completed"
    },
    "tags": []
   },
   "source": [
    "### Bar plot:\n"
   ]
  },
  {
   "cell_type": "code",
   "execution_count": 4,
   "id": "d13f7e2f",
   "metadata": {
    "execution": {
     "iopub.execute_input": "2022-12-30T13:29:35.975656Z",
     "iopub.status.busy": "2022-12-30T13:29:35.974759Z",
     "iopub.status.idle": "2022-12-30T13:29:36.201375Z",
     "shell.execute_reply": "2022-12-30T13:29:36.200144Z"
    },
    "papermill": {
     "duration": 0.248214,
     "end_time": "2022-12-30T13:29:36.204571",
     "exception": false,
     "start_time": "2022-12-30T13:29:35.956357",
     "status": "completed"
    },
    "tags": []
   },
   "outputs": [
    {
     "data": {
      "image/png": "[encoded data removed]",
      "text/plain": [
       "<Figure size 432x288 with 1 Axes>"
      ]
     },
     "metadata": {
      "needs_background": "light"
     },
     "output_type": "display_data"
    }
   ],
   "source": [
    "# Bar plot of average temperature by month\n",
    "df.groupby('Month').mean()['Temperature'].plot(kind='bar')\n",
    "plt.xlabel('Month')\n",
    "plt.ylabel('Temperature (°F)')\n",
    "plt.show()"
   ]
  },
  {
   "cell_type": "markdown",
   "id": "7a031b25",
   "metadata": {
    "papermill": {
     "duration": 0.01573,
     "end_time": "2022-12-30T13:29:36.238818",
     "exception": false,
     "start_time": "2022-12-30T13:29:36.223088",
     "status": "completed"
    },
    "tags": []
   },
   "source": [
    "### Histogram:"
   ]
  },
  {
   "cell_type": "code",
   "execution_count": 5,
   "id": "2aa91ada",
   "metadata": {
    "execution": {
     "iopub.execute_input": "2022-12-30T13:29:36.277841Z",
     "iopub.status.busy": "2022-12-30T13:29:36.276605Z",
     "iopub.status.idle": "2022-12-30T13:29:36.525349Z",
     "shell.execute_reply": "2022-12-30T13:29:36.523814Z"
    },
    "papermill": {
     "duration": 0.271407,
     "end_time": "2022-12-30T13:29:36.528130",
     "exception": false,
     "start_time": "2022-12-30T13:29:36.256723",
     "status": "completed"
    },
    "tags": []
   },
   "outputs": [
    {
     "data": {
      "image/png": "[encoded data removed]",
      "text/plain": [
       "<Figure size 432x288 with 1 Axes>"
      ]
     },
     "metadata": {
      "needs_background": "light"
     },
     "output_type": "display_data"
    }
   ],
   "source": [
    "# Histogram of temperature\n",
    "plt.hist(df['Temperature'], bins=20)\n",
    "plt.xlabel('Temperature (°F)')\n",
    "plt.ylabel('Frequency')\n",
    "plt.show()"
   ]
  },
  {
   "cell_type": "markdown",
   "id": "6e035b86",
   "metadata": {
    "papermill": {
     "duration": 0.017509,
     "end_time": "2022-12-30T13:29:36.563069",
     "exception": false,
     "start_time": "2022-12-30T13:29:36.545560",
     "status": "completed"
    },
    "tags": []
   },
   "source": [
    "# 2. Summary statistics:"
   ]
  },
  {
   "cell_type": "markdown",
   "id": "c2187712",
   "metadata": {
    "papermill": {
     "duration": 0.0166,
     "end_time": "2022-12-30T13:29:36.597184",
     "exception": false,
     "start_time": "2022-12-30T13:29:36.580584",
     "status": "completed"
    },
    "tags": []
   },
   "source": [
    "From same above weather data, we can do the following statistics visualization."
   ]
  },
  {
   "cell_type": "markdown",
   "id": "ca550664",
   "metadata": {
    "papermill": {
     "duration": 0.016947,
     "end_time": "2022-12-30T13:29:36.631702",
     "exception": false,
     "start_time": "2022-12-30T13:29:36.614755",
     "status": "completed"
    },
    "tags": []
   },
   "source": [
    "### Mean:"
   ]
  },
  {
   "cell_type": "code",
   "execution_count": 6,
   "id": "6ef5c31e",
   "metadata": {
    "execution": {
     "iopub.execute_input": "2022-12-30T13:29:36.668574Z",
     "iopub.status.busy": "2022-12-30T13:29:36.668169Z",
     "iopub.status.idle": "2022-12-30T13:29:36.674711Z",
     "shell.execute_reply": "2022-12-30T13:29:36.673365Z"
    },
    "papermill": {
     "duration": 0.027315,
     "end_time": "2022-12-30T13:29:36.677344",
     "exception": false,
     "start_time": "2022-12-30T13:29:36.650029",
     "status": "completed"
    },
    "tags": []
   },
   "outputs": [
    {
     "name": "stdout",
     "output_type": "stream",
     "text": [
      "Mean temperature: 67.50°F\n"
     ]
    }
   ],
   "source": [
    "# Calculate the mean temperature\n",
    "mean_temp = df['Temperature'].mean()\n",
    "print(f'Mean temperature: {mean_temp:.2f}°F')"
   ]
  },
  {
   "cell_type": "markdown",
   "id": "14398450",
   "metadata": {
    "papermill": {
     "duration": 0.016166,
     "end_time": "2022-12-30T13:29:36.710669",
     "exception": false,
     "start_time": "2022-12-30T13:29:36.694503",
     "status": "completed"
    },
    "tags": []
   },
   "source": [
    "### Median:"
   ]
  },
  {
   "cell_type": "code",
   "execution_count": 7,
   "id": "d7dab214",
   "metadata": {
    "execution": {
     "iopub.execute_input": "2022-12-30T13:29:36.748188Z",
     "iopub.status.busy": "2022-12-30T13:29:36.747211Z",
     "iopub.status.idle": "2022-12-30T13:29:36.757168Z",
     "shell.execute_reply": "2022-12-30T13:29:36.755189Z"
    },
    "papermill": {
     "duration": 0.032651,
     "end_time": "2022-12-30T13:29:36.759902",
     "exception": false,
     "start_time": "2022-12-30T13:29:36.727251",
     "status": "completed"
    },
    "tags": []
   },
   "outputs": [
    {
     "name": "stdout",
     "output_type": "stream",
     "text": [
      "Median humidity: 87.50%\n"
     ]
    }
   ],
   "source": [
    "# Calculate the median humidity\n",
    "median_humidity = df['Humidity'].median()\n",
    "print(f'Median humidity: {median_humidity:.2f}%')"
   ]
  },
  {
   "cell_type": "markdown",
   "id": "c7b1b7c9",
   "metadata": {
    "papermill": {
     "duration": 0.0162,
     "end_time": "2022-12-30T13:29:36.792854",
     "exception": false,
     "start_time": "2022-12-30T13:29:36.776654",
     "status": "completed"
    },
    "tags": []
   },
   "source": [
    "### Standard deviation:"
   ]
  },
  {
   "cell_type": "code",
   "execution_count": 8,
   "id": "0e9c9fe7",
   "metadata": {
    "execution": {
     "iopub.execute_input": "2022-12-30T13:29:36.830552Z",
     "iopub.status.busy": "2022-12-30T13:29:36.830132Z",
     "iopub.status.idle": "2022-12-30T13:29:36.836283Z",
     "shell.execute_reply": "2022-12-30T13:29:36.835061Z"
    },
    "papermill": {
     "duration": 0.027949,
     "end_time": "2022-12-30T13:29:36.839535",
     "exception": false,
     "start_time": "2022-12-30T13:29:36.811586",
     "status": "completed"
    },
    "tags": []
   },
   "outputs": [
    {
     "name": "stdout",
     "output_type": "stream",
     "text": [
      "Standard deviation of wind speed: 15.14 mph\n"
     ]
    }
   ],
   "source": [
    "# Calculate the standard deviation of wind speed\n",
    "std_wind_speed = df['Wind Speed'].std()\n",
    "print(f'Standard deviation of wind speed: {std_wind_speed:.2f} mph')"
   ]
  },
  {
   "cell_type": "markdown",
   "id": "94c06a2b",
   "metadata": {
    "papermill": {
     "duration": 0.016535,
     "end_time": "2022-12-30T13:29:36.874683",
     "exception": false,
     "start_time": "2022-12-30T13:29:36.858148",
     "status": "completed"
    },
    "tags": []
   },
   "source": [
    "### Minimum and maximum:"
   ]
  },
  {
   "cell_type": "code",
   "execution_count": 9,
   "id": "9f61c6fa",
   "metadata": {
    "execution": {
     "iopub.execute_input": "2022-12-30T13:29:36.912609Z",
     "iopub.status.busy": "2022-12-30T13:29:36.912200Z",
     "iopub.status.idle": "2022-12-30T13:29:36.920078Z",
     "shell.execute_reply": "2022-12-30T13:29:36.918825Z"
    },
    "papermill": {
     "duration": 0.030637,
     "end_time": "2022-12-30T13:29:36.922860",
     "exception": false,
     "start_time": "2022-12-30T13:29:36.892223",
     "status": "completed"
    },
    "tags": []
   },
   "outputs": [
    {
     "name": "stdout",
     "output_type": "stream",
     "text": [
      "Minimum temperature: 45.00°F\n",
      "Maximum temperature: 90.00°F\n"
     ]
    }
   ],
   "source": [
    "# Calculate the minimum and maximum temperature\n",
    "min_temp = df['Temperature'].min()\n",
    "max_temp = df['Temperature'].max()\n",
    "print(f'Minimum temperature: {min_temp:.2f}°F')\n",
    "print(f'Maximum temperature: {max_temp:.2f}°F')"
   ]
  },
  {
   "cell_type": "markdown",
   "id": "03c404be",
   "metadata": {
    "papermill": {
     "duration": 0.016832,
     "end_time": "2022-12-30T13:29:36.957467",
     "exception": false,
     "start_time": "2022-12-30T13:29:36.940635",
     "status": "completed"
    },
    "tags": []
   },
   "source": [
    "**Now, I am not sure but I can read your mind. I am sure you thought that I forgets the pandas describe data frame function but don't worry it's here.**"
   ]
  },
  {
   "cell_type": "code",
   "execution_count": 10,
   "id": "2673560e",
   "metadata": {
    "execution": {
     "iopub.execute_input": "2022-12-30T13:29:36.994915Z",
     "iopub.status.busy": "2022-12-30T13:29:36.994491Z",
     "iopub.status.idle": "2022-12-30T13:29:37.017954Z",
     "shell.execute_reply": "2022-12-30T13:29:37.016900Z"
    },
    "papermill": {
     "duration": 0.044853,
     "end_time": "2022-12-30T13:29:37.020471",
     "exception": false,
     "start_time": "2022-12-30T13:29:36.975618",
     "status": "completed"
    },
    "tags": []
   },
   "outputs": [
    {
     "data": {
      "text/html": [
       "<div>\n",
       "<style scoped>\n",
       "    .dataframe tbody tr th:only-of-type {\n",
       "        vertical-align: middle;\n",
       "    }\n",
       "\n",
       "    .dataframe tbody tr th {\n",
       "        vertical-align: top;\n",
       "    }\n",
       "\n",
       "    .dataframe thead th {\n",
       "        text-align: right;\n",
       "    }\n",
       "</style>\n",
       "<table border=\"1\" class=\"dataframe\">\n",
       "  <thead>\n",
       "    <tr style=\"text-align: right;\">\n",
       "      <th></th>\n",
       "      <th>Temperature</th>\n",
       "      <th>Humidity</th>\n",
       "      <th>Wind Speed</th>\n",
       "    </tr>\n",
       "  </thead>\n",
       "  <tbody>\n",
       "    <tr>\n",
       "      <th>count</th>\n",
       "      <td>10.000000</td>\n",
       "      <td>10.000000</td>\n",
       "      <td>10.000000</td>\n",
       "    </tr>\n",
       "    <tr>\n",
       "      <th>mean</th>\n",
       "      <td>67.500000</td>\n",
       "      <td>84.500000</td>\n",
       "      <td>32.500000</td>\n",
       "    </tr>\n",
       "    <tr>\n",
       "      <th>std</th>\n",
       "      <td>15.138252</td>\n",
       "      <td>11.654756</td>\n",
       "      <td>15.138252</td>\n",
       "    </tr>\n",
       "    <tr>\n",
       "      <th>min</th>\n",
       "      <td>45.000000</td>\n",
       "      <td>65.000000</td>\n",
       "      <td>10.000000</td>\n",
       "    </tr>\n",
       "    <tr>\n",
       "      <th>25%</th>\n",
       "      <td>56.250000</td>\n",
       "      <td>76.250000</td>\n",
       "      <td>21.250000</td>\n",
       "    </tr>\n",
       "    <tr>\n",
       "      <th>50%</th>\n",
       "      <td>67.500000</td>\n",
       "      <td>87.500000</td>\n",
       "      <td>32.500000</td>\n",
       "    </tr>\n",
       "    <tr>\n",
       "      <th>75%</th>\n",
       "      <td>78.750000</td>\n",
       "      <td>93.750000</td>\n",
       "      <td>43.750000</td>\n",
       "    </tr>\n",
       "    <tr>\n",
       "      <th>max</th>\n",
       "      <td>90.000000</td>\n",
       "      <td>100.000000</td>\n",
       "      <td>55.000000</td>\n",
       "    </tr>\n",
       "  </tbody>\n",
       "</table>\n",
       "</div>"
      ],
      "text/plain": [
       "       Temperature    Humidity  Wind Speed\n",
       "count    10.000000   10.000000   10.000000\n",
       "mean     67.500000   84.500000   32.500000\n",
       "std      15.138252   11.654756   15.138252\n",
       "min      45.000000   65.000000   10.000000\n",
       "25%      56.250000   76.250000   21.250000\n",
       "50%      67.500000   87.500000   32.500000\n",
       "75%      78.750000   93.750000   43.750000\n",
       "max      90.000000  100.000000   55.000000"
      ]
     },
     "execution_count": 10,
     "metadata": {},
     "output_type": "execute_result"
    }
   ],
   "source": [
    "df.describe()"
   ]
  },
  {
   "cell_type": "markdown",
   "id": "a14266a9",
   "metadata": {
    "papermill": {
     "duration": 0.017678,
     "end_time": "2022-12-30T13:29:37.055902",
     "exception": false,
     "start_time": "2022-12-30T13:29:37.038224",
     "status": "completed"
    },
    "tags": []
   },
   "source": [
    "I hope this helps! Let me know if you have any questions or if you would like to see examples of other summary statistics."
   ]
  },
  {
   "cell_type": "markdown",
   "id": "9f3d83c1",
   "metadata": {
    "papermill": {
     "duration": 0.018067,
     "end_time": "2022-12-30T13:29:37.091103",
     "exception": false,
     "start_time": "2022-12-30T13:29:37.073036",
     "status": "completed"
    },
    "tags": []
   },
   "source": [
    "# 3. Correlation analysis:"
   ]
  },
  {
   "cell_type": "markdown",
   "id": "ab5a2a8a",
   "metadata": {
    "papermill": {
     "duration": 0.017926,
     "end_time": "2022-12-30T13:29:37.127859",
     "exception": false,
     "start_time": "2022-12-30T13:29:37.109933",
     "status": "completed"
    },
    "tags": []
   },
   "source": [
    "First, we will import the necessary libraries and read in the data from a CSV file:"
   ]
  },
  {
   "cell_type": "code",
   "execution_count": 11,
   "id": "8098cf4b",
   "metadata": {
    "execution": {
     "iopub.execute_input": "2022-12-30T13:29:37.166200Z",
     "iopub.status.busy": "2022-12-30T13:29:37.165730Z",
     "iopub.status.idle": "2022-12-30T13:29:38.448573Z",
     "shell.execute_reply": "2022-12-30T13:29:38.447057Z"
    },
    "papermill": {
     "duration": 1.305692,
     "end_time": "2022-12-30T13:29:38.451662",
     "exception": false,
     "start_time": "2022-12-30T13:29:37.145970",
     "status": "completed"
    },
    "tags": []
   },
   "outputs": [
    {
     "data": {
      "text/html": [
       "<div>\n",
       "<style scoped>\n",
       "    .dataframe tbody tr th:only-of-type {\n",
       "        vertical-align: middle;\n",
       "    }\n",
       "\n",
       "    .dataframe tbody tr th {\n",
       "        vertical-align: top;\n",
       "    }\n",
       "\n",
       "    .dataframe thead th {\n",
       "        text-align: right;\n",
       "    }\n",
       "</style>\n",
       "<table border=\"1\" class=\"dataframe\">\n",
       "  <thead>\n",
       "    <tr style=\"text-align: right;\">\n",
       "      <th></th>\n",
       "      <th>Student</th>\n",
       "      <th>Midterm</th>\n",
       "      <th>Final</th>\n",
       "    </tr>\n",
       "  </thead>\n",
       "  <tbody>\n",
       "    <tr>\n",
       "      <th>0</th>\n",
       "      <td>Alice</td>\n",
       "      <td>80</td>\n",
       "      <td>85</td>\n",
       "    </tr>\n",
       "    <tr>\n",
       "      <th>1</th>\n",
       "      <td>Bob</td>\n",
       "      <td>75</td>\n",
       "      <td>70</td>\n",
       "    </tr>\n",
       "    <tr>\n",
       "      <th>2</th>\n",
       "      <td>Charlie</td>\n",
       "      <td>90</td>\n",
       "      <td>95</td>\n",
       "    </tr>\n",
       "    <tr>\n",
       "      <th>3</th>\n",
       "      <td>Dave</td>\n",
       "      <td>65</td>\n",
       "      <td>80</td>\n",
       "    </tr>\n",
       "    <tr>\n",
       "      <th>4</th>\n",
       "      <td>Eve</td>\n",
       "      <td>85</td>\n",
       "      <td>90</td>\n",
       "    </tr>\n",
       "    <tr>\n",
       "      <th>5</th>\n",
       "      <td>Frank</td>\n",
       "      <td>70</td>\n",
       "      <td>75</td>\n",
       "    </tr>\n",
       "    <tr>\n",
       "      <th>6</th>\n",
       "      <td>Gary</td>\n",
       "      <td>95</td>\n",
       "      <td>100</td>\n",
       "    </tr>\n",
       "    <tr>\n",
       "      <th>7</th>\n",
       "      <td>Holly</td>\n",
       "      <td>60</td>\n",
       "      <td>65</td>\n",
       "    </tr>\n",
       "    <tr>\n",
       "      <th>8</th>\n",
       "      <td>Ivy</td>\n",
       "      <td>80</td>\n",
       "      <td>85</td>\n",
       "    </tr>\n",
       "    <tr>\n",
       "      <th>9</th>\n",
       "      <td>Jill</td>\n",
       "      <td>75</td>\n",
       "      <td>80</td>\n",
       "    </tr>\n",
       "  </tbody>\n",
       "</table>\n",
       "</div>"
      ],
      "text/plain": [
       "   Student  Midterm  Final\n",
       "0    Alice       80     85\n",
       "1      Bob       75     70\n",
       "2  Charlie       90     95\n",
       "3     Dave       65     80\n",
       "4      Eve       85     90\n",
       "5    Frank       70     75\n",
       "6     Gary       95    100\n",
       "7    Holly       60     65\n",
       "8      Ivy       80     85\n",
       "9     Jill       75     80"
      ]
     },
     "execution_count": 11,
     "metadata": {},
     "output_type": "execute_result"
    }
   ],
   "source": [
    "import pandas as pd\n",
    "import seaborn as sns\n",
    "\n",
    "# Read in the data from a CSV file\n",
    "df = pd.read_csv('/kaggle/input/data-detectivetips-and-tricks/student_grades.csv')\n",
    "df"
   ]
  },
  {
   "cell_type": "markdown",
   "id": "e104a025",
   "metadata": {
    "papermill": {
     "duration": 0.017308,
     "end_time": "2022-12-30T13:29:38.487530",
     "exception": false,
     "start_time": "2022-12-30T13:29:38.470222",
     "status": "completed"
    },
    "tags": []
   },
   "source": [
    "To analyze the correlations between different variables, we can use a variety of techniques. Here are a few examples:\n",
    "\n"
   ]
  },
  {
   "cell_type": "markdown",
   "id": "04c56349",
   "metadata": {
    "papermill": {
     "duration": 0.017431,
     "end_time": "2022-12-30T13:29:38.522196",
     "exception": false,
     "start_time": "2022-12-30T13:29:38.504765",
     "status": "completed"
    },
    "tags": []
   },
   "source": [
    "### Scatter plot:"
   ]
  },
  {
   "cell_type": "code",
   "execution_count": 12,
   "id": "5366d355",
   "metadata": {
    "execution": {
     "iopub.execute_input": "2022-12-30T13:29:38.560147Z",
     "iopub.status.busy": "2022-12-30T13:29:38.559425Z",
     "iopub.status.idle": "2022-12-30T13:29:38.828573Z",
     "shell.execute_reply": "2022-12-30T13:29:38.827216Z"
    },
    "papermill": {
     "duration": 0.292019,
     "end_time": "2022-12-30T13:29:38.831734",
     "exception": false,
     "start_time": "2022-12-30T13:29:38.539715",
     "status": "completed"
    },
    "tags": []
   },
   "outputs": [
    {
     "data": {
      "text/plain": [
       "<AxesSubplot:xlabel='Midterm', ylabel='Final'>"
      ]
     },
     "execution_count": 12,
     "metadata": {},
     "output_type": "execute_result"
    },
    {
     "data": {
      "image/png": "[encoded data removed]",
      "text/plain": [
       "<Figure size 432x288 with 1 Axes>"
      ]
     },
     "metadata": {
      "needs_background": "light"
     },
     "output_type": "display_data"
    }
   ],
   "source": [
    "# Scatter plot of midterm grades vs final grades\n",
    "sns.scatterplot(x='Midterm', y='Final', data=df)"
   ]
  },
  {
   "cell_type": "markdown",
   "id": "48f394c4",
   "metadata": {
    "papermill": {
     "duration": 0.018546,
     "end_time": "2022-12-30T13:29:38.869026",
     "exception": false,
     "start_time": "2022-12-30T13:29:38.850480",
     "status": "completed"
    },
    "tags": []
   },
   "source": [
    "### Correlation matrix:"
   ]
  },
  {
   "cell_type": "code",
   "execution_count": 13,
   "id": "14920b03",
   "metadata": {
    "execution": {
     "iopub.execute_input": "2022-12-30T13:29:38.907969Z",
     "iopub.status.busy": "2022-12-30T13:29:38.907254Z",
     "iopub.status.idle": "2022-12-30T13:29:39.181295Z",
     "shell.execute_reply": "2022-12-30T13:29:39.179967Z"
    },
    "papermill": {
     "duration": 0.296753,
     "end_time": "2022-12-30T13:29:39.184646",
     "exception": false,
     "start_time": "2022-12-30T13:29:38.887893",
     "status": "completed"
    },
    "tags": []
   },
   "outputs": [
    {
     "data": {
      "text/plain": [
       "<AxesSubplot:>"
      ]
     },
     "execution_count": 13,
     "metadata": {},
     "output_type": "execute_result"
    },
    {
     "data": {
      "image/png": "[encoded data removed]",
      "text/plain": [
       "<Figure size 432x288 with 2 Axes>"
      ]
     },
     "metadata": {
      "needs_background": "light"
     },
     "output_type": "display_data"
    }
   ],
   "source": [
    "# Correlation matrix\n",
    "corr = df.corr()\n",
    "sns.heatmap(corr, annot=True)"
   ]
  },
  {
   "cell_type": "markdown",
   "id": "5ff4c225",
   "metadata": {
    "papermill": {
     "duration": 0.01864,
     "end_time": "2022-12-30T13:29:39.222744",
     "exception": false,
     "start_time": "2022-12-30T13:29:39.204104",
     "status": "completed"
    },
    "tags": []
   },
   "source": [
    "### Linear regression:"
   ]
  },
  {
   "cell_type": "code",
   "execution_count": 14,
   "id": "ac38e839",
   "metadata": {
    "execution": {
     "iopub.execute_input": "2022-12-30T13:29:39.263818Z",
     "iopub.status.busy": "2022-12-30T13:29:39.263390Z",
     "iopub.status.idle": "2022-12-30T13:29:39.731204Z",
     "shell.execute_reply": "2022-12-30T13:29:39.729576Z"
    },
    "papermill": {
     "duration": 0.49226,
     "end_time": "2022-12-30T13:29:39.734401",
     "exception": false,
     "start_time": "2022-12-30T13:29:39.242141",
     "status": "completed"
    },
    "tags": []
   },
   "outputs": [
    {
     "data": {
      "text/plain": [
       "<seaborn.axisgrid.FacetGrid at 0x7f221687d210>"
      ]
     },
     "execution_count": 14,
     "metadata": {},
     "output_type": "execute_result"
    },
    {
     "data": {
      "image/png": "[encoded data removed]",
      "text/plain": [
       "<Figure size 360x360 with 1 Axes>"
      ]
     },
     "metadata": {
      "needs_background": "light"
     },
     "output_type": "display_data"
    }
   ],
   "source": [
    "# Linear regression of midterm grades vs final grades\n",
    "sns.lmplot(x='Midterm', y='Final', data=df)"
   ]
  },
  {
   "cell_type": "markdown",
   "id": "8d2dbde7",
   "metadata": {
    "papermill": {
     "duration": 0.021271,
     "end_time": "2022-12-30T13:29:39.775626",
     "exception": false,
     "start_time": "2022-12-30T13:29:39.754355",
     "status": "completed"
    },
    "tags": []
   },
   "source": [
    "As you know it is a hard task and also time taking to cover any topic in detail but here I have provided a summary of the Correlation analysis.\n",
    "\n",
    "Correlation analysis is a statistical method used to identify the strength and direction of the relationship between two variables. It is commonly used in exploratory data analysis to understand the relationships between different variables in a dataset and to identify patterns and trends.\n",
    "\n",
    "There are several different measures of correlation, including Pearson's correlation coefficient, Spearman's rank correlation coefficient, and Kendall's tau. These measures range from -1 (perfect negative correlation) to 1 (perfect positive correlation), with 0 indicating no correlation.\n",
    "\n",
    "To perform correlation analysis, you can use various techniques such as scatter plots, correlation matrices, and linear regression. Scatter plots can be used to visualize the relationship between two variables, and correlation matrices can be used to visualize the correlations between multiple variables. Linear regression can be used to fit a line to the data and assess the strength of the relationship between the variables.\n",
    "\n",
    "It is important to note that correlation does not imply causation, meaning that the presence of a correlation between two variables does not necessarily mean that one variable causes the other. It is always important to consider other factors that may be influencing the relationship between the variables."
   ]
  },
  {
   "cell_type": "markdown",
   "id": "ce372979",
   "metadata": {
    "papermill": {
     "duration": 0.021708,
     "end_time": "2022-12-30T13:29:39.819905",
     "exception": false,
     "start_time": "2022-12-30T13:29:39.798197",
     "status": "completed"
    },
    "tags": []
   },
   "source": [
    "# 4. Data cleaning:"
   ]
  },
  {
   "cell_type": "markdown",
   "id": "61c42684",
   "metadata": {
    "papermill": {
     "duration": 0.020294,
     "end_time": "2022-12-30T13:29:39.862448",
     "exception": false,
     "start_time": "2022-12-30T13:29:39.842154",
     "status": "completed"
    },
    "tags": []
   },
   "source": [
    "Here is an example using a sample dataset of student grades with some missing and incorrect values:\n",
    "\n",
    "**/kaggle/input/data-detectivetips-and-tricks/student_grades_with_errors.csv**\n"
   ]
  },
  {
   "cell_type": "markdown",
   "id": "66754cf4",
   "metadata": {
    "papermill": {
     "duration": 0.020114,
     "end_time": "2022-12-30T13:29:39.902695",
     "exception": false,
     "start_time": "2022-12-30T13:29:39.882581",
     "status": "completed"
    },
    "tags": []
   },
   "source": [
    "This dataset includes the names of students and their grades on a midterm and final exam. Some of the values are missing (indicated by empty cells) and some of the values are incorrect (e.g. a final grade of 105).\n",
    "\n"
   ]
  },
  {
   "cell_type": "markdown",
   "id": "c8288ede",
   "metadata": {
    "papermill": {
     "duration": 0.022194,
     "end_time": "2022-12-30T13:29:39.946884",
     "exception": false,
     "start_time": "2022-12-30T13:29:39.924690",
     "status": "completed"
    },
    "tags": []
   },
   "source": [
    "First, we will import the necessary libraries and read in the data from a CSV file:\n"
   ]
  },
  {
   "cell_type": "code",
   "execution_count": 15,
   "id": "cf56924d",
   "metadata": {
    "execution": {
     "iopub.execute_input": "2022-12-30T13:29:39.995800Z",
     "iopub.status.busy": "2022-12-30T13:29:39.994897Z",
     "iopub.status.idle": "2022-12-30T13:29:40.018307Z",
     "shell.execute_reply": "2022-12-30T13:29:40.015933Z"
    },
    "papermill": {
     "duration": 0.050037,
     "end_time": "2022-12-30T13:29:40.021195",
     "exception": false,
     "start_time": "2022-12-30T13:29:39.971158",
     "status": "completed"
    },
    "tags": []
   },
   "outputs": [
    {
     "data": {
      "text/html": [
       "<div>\n",
       "<style scoped>\n",
       "    .dataframe tbody tr th:only-of-type {\n",
       "        vertical-align: middle;\n",
       "    }\n",
       "\n",
       "    .dataframe tbody tr th {\n",
       "        vertical-align: top;\n",
       "    }\n",
       "\n",
       "    .dataframe thead th {\n",
       "        text-align: right;\n",
       "    }\n",
       "</style>\n",
       "<table border=\"1\" class=\"dataframe\">\n",
       "  <thead>\n",
       "    <tr style=\"text-align: right;\">\n",
       "      <th></th>\n",
       "      <th>Student</th>\n",
       "      <th>Midterm</th>\n",
       "      <th>Final</th>\n",
       "    </tr>\n",
       "  </thead>\n",
       "  <tbody>\n",
       "    <tr>\n",
       "      <th>0</th>\n",
       "      <td>Alice</td>\n",
       "      <td>80.0</td>\n",
       "      <td>85.0</td>\n",
       "    </tr>\n",
       "    <tr>\n",
       "      <th>1</th>\n",
       "      <td>Bob</td>\n",
       "      <td>75.0</td>\n",
       "      <td>70.0</td>\n",
       "    </tr>\n",
       "    <tr>\n",
       "      <th>2</th>\n",
       "      <td>Charlie</td>\n",
       "      <td>90.0</td>\n",
       "      <td>95.0</td>\n",
       "    </tr>\n",
       "    <tr>\n",
       "      <th>3</th>\n",
       "      <td>Dave</td>\n",
       "      <td>65.0</td>\n",
       "      <td>80.0</td>\n",
       "    </tr>\n",
       "    <tr>\n",
       "      <th>4</th>\n",
       "      <td>Eve</td>\n",
       "      <td>85.0</td>\n",
       "      <td>90.0</td>\n",
       "    </tr>\n",
       "    <tr>\n",
       "      <th>5</th>\n",
       "      <td>Frank</td>\n",
       "      <td>70.0</td>\n",
       "      <td>75.0</td>\n",
       "    </tr>\n",
       "    <tr>\n",
       "      <th>6</th>\n",
       "      <td>Gary</td>\n",
       "      <td>95.0</td>\n",
       "      <td>100.0</td>\n",
       "    </tr>\n",
       "    <tr>\n",
       "      <th>7</th>\n",
       "      <td>Holly</td>\n",
       "      <td>60.0</td>\n",
       "      <td>65.0</td>\n",
       "    </tr>\n",
       "    <tr>\n",
       "      <th>8</th>\n",
       "      <td>Ivy</td>\n",
       "      <td>80.0</td>\n",
       "      <td>85.0</td>\n",
       "    </tr>\n",
       "    <tr>\n",
       "      <th>9</th>\n",
       "      <td>Jill</td>\n",
       "      <td>75.0</td>\n",
       "      <td>80.0</td>\n",
       "    </tr>\n",
       "    <tr>\n",
       "      <th>10</th>\n",
       "      <td>Kim</td>\n",
       "      <td>90.0</td>\n",
       "      <td>NaN</td>\n",
       "    </tr>\n",
       "    <tr>\n",
       "      <th>11</th>\n",
       "      <td>Larry</td>\n",
       "      <td>70.0</td>\n",
       "      <td>75.0</td>\n",
       "    </tr>\n",
       "    <tr>\n",
       "      <th>12</th>\n",
       "      <td>Mandy</td>\n",
       "      <td>NaN</td>\n",
       "      <td>80.0</td>\n",
       "    </tr>\n",
       "    <tr>\n",
       "      <th>13</th>\n",
       "      <td>Nancy</td>\n",
       "      <td>95.0</td>\n",
       "      <td>105.0</td>\n",
       "    </tr>\n",
       "  </tbody>\n",
       "</table>\n",
       "</div>"
      ],
      "text/plain": [
       "    Student  Midterm  Final\n",
       "0     Alice     80.0   85.0\n",
       "1       Bob     75.0   70.0\n",
       "2   Charlie     90.0   95.0\n",
       "3      Dave     65.0   80.0\n",
       "4       Eve     85.0   90.0\n",
       "5     Frank     70.0   75.0\n",
       "6      Gary     95.0  100.0\n",
       "7     Holly     60.0   65.0\n",
       "8       Ivy     80.0   85.0\n",
       "9      Jill     75.0   80.0\n",
       "10      Kim     90.0    NaN\n",
       "11    Larry     70.0   75.0\n",
       "12    Mandy      NaN   80.0\n",
       "13    Nancy     95.0  105.0"
      ]
     },
     "execution_count": 15,
     "metadata": {},
     "output_type": "execute_result"
    }
   ],
   "source": [
    "import pandas as pd\n",
    "\n",
    "# Read in the data from a CSV file\n",
    "df = pd.read_csv('/kaggle/input/data-detectivetips-and-tricks/student_grades_with_errors.csv')\n",
    "df"
   ]
  },
  {
   "cell_type": "markdown",
   "id": "63a8e29e",
   "metadata": {
    "papermill": {
     "duration": 0.025152,
     "end_time": "2022-12-30T13:29:40.068947",
     "exception": false,
     "start_time": "2022-12-30T13:29:40.043795",
     "status": "completed"
    },
    "tags": []
   },
   "source": [
    "Here are a few examples of data cleaning techniques that can be used to address missing and incorrect values:"
   ]
  },
  {
   "cell_type": "markdown",
   "id": "4e238c62",
   "metadata": {
    "papermill": {
     "duration": 0.020518,
     "end_time": "2022-12-30T13:29:40.112822",
     "exception": false,
     "start_time": "2022-12-30T13:29:40.092304",
     "status": "completed"
    },
    "tags": []
   },
   "source": [
    "### Identifying missing values:"
   ]
  },
  {
   "cell_type": "code",
   "execution_count": 16,
   "id": "722d80ca",
   "metadata": {
    "execution": {
     "iopub.execute_input": "2022-12-30T13:29:40.154211Z",
     "iopub.status.busy": "2022-12-30T13:29:40.153731Z",
     "iopub.status.idle": "2022-12-30T13:29:40.163846Z",
     "shell.execute_reply": "2022-12-30T13:29:40.162468Z"
    },
    "papermill": {
     "duration": 0.034902,
     "end_time": "2022-12-30T13:29:40.166560",
     "exception": false,
     "start_time": "2022-12-30T13:29:40.131658",
     "status": "completed"
    },
    "tags": []
   },
   "outputs": [
    {
     "data": {
      "text/plain": [
       "Student    0\n",
       "Midterm    1\n",
       "Final      1\n",
       "dtype: int64"
      ]
     },
     "execution_count": 16,
     "metadata": {},
     "output_type": "execute_result"
    }
   ],
   "source": [
    "# Check for missing values\n",
    "df.isnull().sum()"
   ]
  },
  {
   "cell_type": "markdown",
   "id": "81d2d99b",
   "metadata": {
    "papermill": {
     "duration": 0.020618,
     "end_time": "2022-12-30T13:29:40.206699",
     "exception": false,
     "start_time": "2022-12-30T13:29:40.186081",
     "status": "completed"
    },
    "tags": []
   },
   "source": [
    "### Dropping rows with missing values:"
   ]
  },
  {
   "cell_type": "code",
   "execution_count": 17,
   "id": "6b6e7adb",
   "metadata": {
    "execution": {
     "iopub.execute_input": "2022-12-30T13:29:40.248190Z",
     "iopub.status.busy": "2022-12-30T13:29:40.247342Z",
     "iopub.status.idle": "2022-12-30T13:29:40.254662Z",
     "shell.execute_reply": "2022-12-30T13:29:40.253351Z"
    },
    "papermill": {
     "duration": 0.032135,
     "end_time": "2022-12-30T13:29:40.257665",
     "exception": false,
     "start_time": "2022-12-30T13:29:40.225530",
     "status": "completed"
    },
    "tags": []
   },
   "outputs": [],
   "source": [
    "# Drop rows with missing values\n",
    "df.dropna(inplace=True)"
   ]
  },
  {
   "cell_type": "markdown",
   "id": "785552b1",
   "metadata": {
    "papermill": {
     "duration": 0.018699,
     "end_time": "2022-12-30T13:29:40.295114",
     "exception": false,
     "start_time": "2022-12-30T13:29:40.276415",
     "status": "completed"
    },
    "tags": []
   },
   "source": [
    "### Filling missing values with a placeholder value:"
   ]
  },
  {
   "cell_type": "code",
   "execution_count": 18,
   "id": "6722d8b5",
   "metadata": {
    "execution": {
     "iopub.execute_input": "2022-12-30T13:29:40.334377Z",
     "iopub.status.busy": "2022-12-30T13:29:40.333918Z",
     "iopub.status.idle": "2022-12-30T13:29:40.339797Z",
     "shell.execute_reply": "2022-12-30T13:29:40.338443Z"
    },
    "papermill": {
     "duration": 0.028629,
     "end_time": "2022-12-30T13:29:40.342203",
     "exception": false,
     "start_time": "2022-12-30T13:29:40.313574",
     "status": "completed"
    },
    "tags": []
   },
   "outputs": [],
   "source": [
    "# Fill missing values with a placeholder value (-999)\n",
    "df.fillna(-999, inplace=True)"
   ]
  },
  {
   "cell_type": "markdown",
   "id": "0e709f91",
   "metadata": {
    "papermill": {
     "duration": 0.020754,
     "end_time": "2022-12-30T13:29:40.381453",
     "exception": false,
     "start_time": "2022-12-30T13:29:40.360699",
     "status": "completed"
    },
    "tags": []
   },
   "source": [
    "### Replacing incorrect values:"
   ]
  },
  {
   "cell_type": "code",
   "execution_count": 19,
   "id": "c6a53da8",
   "metadata": {
    "execution": {
     "iopub.execute_input": "2022-12-30T13:29:40.424490Z",
     "iopub.status.busy": "2022-12-30T13:29:40.422911Z",
     "iopub.status.idle": "2022-12-30T13:29:40.432946Z",
     "shell.execute_reply": "2022-12-30T13:29:40.431504Z"
    },
    "papermill": {
     "duration": 0.033406,
     "end_time": "2022-12-30T13:29:40.436246",
     "exception": false,
     "start_time": "2022-12-30T13:29:40.402840",
     "status": "completed"
    },
    "tags": []
   },
   "outputs": [],
   "source": [
    "# Replace incorrect values (e.g. grades above 100) with a placeholder value (-999)\n",
    "df['Midterm'].mask(df['Midterm'] > 100, -999, inplace=True)\n",
    "df['Final'].mask(df['Final'] > 100, -999, inplace=True)"
   ]
  },
  {
   "cell_type": "markdown",
   "id": "38d39e42",
   "metadata": {
    "papermill": {
     "duration": 0.020171,
     "end_time": "2022-12-30T13:29:40.476753",
     "exception": false,
     "start_time": "2022-12-30T13:29:40.456582",
     "status": "completed"
    },
    "tags": []
   },
   "source": [
    "There is much more in data cleaning but I have provided some general things.\n",
    "\n",
    "Data cleaning is the process of identifying and addressing issues with the data, such as missing or incorrect values, inconsistent formats, and outliers. It is an important step in the data analysis process as it helps ensure that the data is accurate, consistent, and ready for analysis.\n",
    "\n",
    "There are a variety of techniques that can be used for data cleaning, depending on the specific issues with the data and the desired outcome. Some common techniques include:\n",
    "\n",
    "* Identifying missing values: Use functions such as isnull() or notnull() to identify cells that contain missing values.\n",
    "\n",
    "* Dropping rows with missing values: Use the dropna() function to remove rows that contain missing values.\n",
    "\n",
    "* Filling missing values: Use the fillna() function to fill missing values with a placeholder value (e.g. 0 or -999).\n",
    "\n",
    "* Replacing incorrect values: Use functions such as mask() or replace() to replace incorrect values with a placeholder value.\n",
    "\n",
    "It is important to carefully consider the appropriate approach for addressing missing or incorrect values, as simply dropping rows or filling missing values with a placeholder value may not always be the best solution. It is often helpful to investigate the cause of the missing or incorrect values and consider whether there may be other factors that need to be taken into account.\n",
    "\n"
   ]
  },
  {
   "cell_type": "markdown",
   "id": "c6e20bdb",
   "metadata": {
    "papermill": {
     "duration": 0.018929,
     "end_time": "2022-12-30T13:29:40.515722",
     "exception": false,
     "start_time": "2022-12-30T13:29:40.496793",
     "status": "completed"
    },
    "tags": []
   },
   "source": [
    "# 5. Dimensionality reduction:"
   ]
  },
  {
   "cell_type": "markdown",
   "id": "b6769d17",
   "metadata": {
    "papermill": {
     "duration": 0.018192,
     "end_time": "2022-12-30T13:29:40.553145",
     "exception": false,
     "start_time": "2022-12-30T13:29:40.534953",
     "status": "completed"
    },
    "tags": []
   },
   "source": [
    "Here is a sample dataset of student grades with three variables (midterm grades, final grades, and attendance):\n",
    "\n",
    "**/kaggle/input/data-detectivetips-and-tricks/student_grades_with_attendence.csv**\n"
   ]
  },
  {
   "cell_type": "markdown",
   "id": "dd198e8d",
   "metadata": {
    "papermill": {
     "duration": 0.020629,
     "end_time": "2022-12-30T13:29:40.592831",
     "exception": false,
     "start_time": "2022-12-30T13:29:40.572202",
     "status": "completed"
    },
    "tags": []
   },
   "source": [
    "This dataset includes the names of students, their grades on a midterm and final exam, and their attendance percentage. The grades are out of 100 and the attendance percentage is out of 100."
   ]
  },
  {
   "cell_type": "markdown",
   "id": "62026bb6",
   "metadata": {
    "papermill": {
     "duration": 0.019237,
     "end_time": "2022-12-30T13:29:40.633699",
     "exception": false,
     "start_time": "2022-12-30T13:29:40.614462",
     "status": "completed"
    },
    "tags": []
   },
   "source": [
    "First, we will import the necessary libraries and read in the data from a CSV file:"
   ]
  },
  {
   "cell_type": "code",
   "execution_count": 20,
   "id": "231ee034",
   "metadata": {
    "execution": {
     "iopub.execute_input": "2022-12-30T13:29:40.673852Z",
     "iopub.status.busy": "2022-12-30T13:29:40.673123Z",
     "iopub.status.idle": "2022-12-30T13:29:41.131989Z",
     "shell.execute_reply": "2022-12-30T13:29:41.130780Z"
    },
    "papermill": {
     "duration": 0.482397,
     "end_time": "2022-12-30T13:29:41.134750",
     "exception": false,
     "start_time": "2022-12-30T13:29:40.652353",
     "status": "completed"
    },
    "tags": []
   },
   "outputs": [
    {
     "data": {
      "text/html": [
       "<div>\n",
       "<style scoped>\n",
       "    .dataframe tbody tr th:only-of-type {\n",
       "        vertical-align: middle;\n",
       "    }\n",
       "\n",
       "    .dataframe tbody tr th {\n",
       "        vertical-align: top;\n",
       "    }\n",
       "\n",
       "    .dataframe thead th {\n",
       "        text-align: right;\n",
       "    }\n",
       "</style>\n",
       "<table border=\"1\" class=\"dataframe\">\n",
       "  <thead>\n",
       "    <tr style=\"text-align: right;\">\n",
       "      <th></th>\n",
       "      <th>Student</th>\n",
       "      <th>Midterm</th>\n",
       "      <th>Final</th>\n",
       "      <th>Attendance</th>\n",
       "    </tr>\n",
       "  </thead>\n",
       "  <tbody>\n",
       "    <tr>\n",
       "      <th>0</th>\n",
       "      <td>Alice</td>\n",
       "      <td>80</td>\n",
       "      <td>85</td>\n",
       "      <td>90</td>\n",
       "    </tr>\n",
       "    <tr>\n",
       "      <th>1</th>\n",
       "      <td>Bob</td>\n",
       "      <td>75</td>\n",
       "      <td>70</td>\n",
       "      <td>85</td>\n",
       "    </tr>\n",
       "    <tr>\n",
       "      <th>2</th>\n",
       "      <td>Charlie</td>\n",
       "      <td>90</td>\n",
       "      <td>95</td>\n",
       "      <td>100</td>\n",
       "    </tr>\n",
       "    <tr>\n",
       "      <th>3</th>\n",
       "      <td>Dave</td>\n",
       "      <td>65</td>\n",
       "      <td>80</td>\n",
       "      <td>80</td>\n",
       "    </tr>\n",
       "    <tr>\n",
       "      <th>4</th>\n",
       "      <td>Eve</td>\n",
       "      <td>85</td>\n",
       "      <td>90</td>\n",
       "      <td>85</td>\n",
       "    </tr>\n",
       "    <tr>\n",
       "      <th>5</th>\n",
       "      <td>Frank</td>\n",
       "      <td>70</td>\n",
       "      <td>75</td>\n",
       "      <td>70</td>\n",
       "    </tr>\n",
       "    <tr>\n",
       "      <th>6</th>\n",
       "      <td>Gary</td>\n",
       "      <td>95</td>\n",
       "      <td>100</td>\n",
       "      <td>95</td>\n",
       "    </tr>\n",
       "    <tr>\n",
       "      <th>7</th>\n",
       "      <td>Holly</td>\n",
       "      <td>60</td>\n",
       "      <td>65</td>\n",
       "      <td>60</td>\n",
       "    </tr>\n",
       "    <tr>\n",
       "      <th>8</th>\n",
       "      <td>Ivy</td>\n",
       "      <td>80</td>\n",
       "      <td>85</td>\n",
       "      <td>80</td>\n",
       "    </tr>\n",
       "    <tr>\n",
       "      <th>9</th>\n",
       "      <td>Jill</td>\n",
       "      <td>75</td>\n",
       "      <td>80</td>\n",
       "      <td>75</td>\n",
       "    </tr>\n",
       "  </tbody>\n",
       "</table>\n",
       "</div>"
      ],
      "text/plain": [
       "   Student  Midterm  Final  Attendance\n",
       "0    Alice       80     85          90\n",
       "1      Bob       75     70          85\n",
       "2  Charlie       90     95         100\n",
       "3     Dave       65     80          80\n",
       "4      Eve       85     90          85\n",
       "5    Frank       70     75          70\n",
       "6     Gary       95    100          95\n",
       "7    Holly       60     65          60\n",
       "8      Ivy       80     85          80\n",
       "9     Jill       75     80          75"
      ]
     },
     "execution_count": 20,
     "metadata": {},
     "output_type": "execute_result"
    }
   ],
   "source": [
    "import pandas as pd\n",
    "from sklearn.decomposition import PCA\n",
    "\n",
    "# Read in the data from a CSV file\n",
    "df = pd.read_csv('/kaggle/input/data-detectivetips-and-tricks/student_grades_with_attendence.csv')\n",
    "df"
   ]
  },
  {
   "cell_type": "markdown",
   "id": "577587cf",
   "metadata": {
    "papermill": {
     "duration": 0.01889,
     "end_time": "2022-12-30T13:29:41.173244",
     "exception": false,
     "start_time": "2022-12-30T13:29:41.154354",
     "status": "completed"
    },
    "tags": []
   },
   "source": [
    "One common technique for dimensionality reduction is principal component analysis (PCA). PCA is a linear transformation technique that projects the data onto a lower-dimensional space, reducing the number of variables while still retaining as much of the variance as possible.\n",
    "\n",
    "Here is an example of using PCA to reduce the dimensionality of the data from three variables to two:"
   ]
  },
  {
   "cell_type": "code",
   "execution_count": 21,
   "id": "605fd3fd",
   "metadata": {
    "execution": {
     "iopub.execute_input": "2022-12-30T13:29:41.215097Z",
     "iopub.status.busy": "2022-12-30T13:29:41.214656Z",
     "iopub.status.idle": "2022-12-30T13:29:41.242745Z",
     "shell.execute_reply": "2022-12-30T13:29:41.241249Z"
    },
    "papermill": {
     "duration": 0.053549,
     "end_time": "2022-12-30T13:29:41.246243",
     "exception": false,
     "start_time": "2022-12-30T13:29:41.192694",
     "status": "completed"
    },
    "tags": []
   },
   "outputs": [
    {
     "name": "stdout",
     "output_type": "stream",
     "text": [
      "[0.90800073 0.06447863]\n"
     ]
    }
   ],
   "source": [
    "# Select only the numeric columns\n",
    "data = df.select_dtypes(include='number')\n",
    "\n",
    "# Perform PCA\n",
    "pca = PCA(n_components=2)\n",
    "pca.fit(data)\n",
    "\n",
    "# Transform the data\n",
    "transformed_data = pca.transform(data)\n",
    "\n",
    "# Print the explained variance ratio for each principal component\n",
    "print(pca.explained_variance_ratio_)"
   ]
  },
  {
   "cell_type": "markdown",
   "id": "a1d89550",
   "metadata": {
    "papermill": {
     "duration": 0.01856,
     "end_time": "2022-12-30T13:29:41.285091",
     "exception": false,
     "start_time": "2022-12-30T13:29:41.266531",
     "status": "completed"
    },
    "tags": []
   },
   "source": [
    "Summary for the same for tips and note point:\n",
    "\n",
    "Dimensionality reduction is the process of reducing the number of variables in a dataset while still retaining as much of the information as possible. It is often used in machine learning and data analysis to reduce the complexity of the data and improve the performance of algorithms.\n",
    "\n",
    "There are a variety of techniques for dimensionality reduction, including principal component analysis (PCA), linear discriminant analysis (LDA), and t-distributed stochastic neighbor embedding (t-SNE). These techniques can be used to transform the data into a lower-dimensional space, typically by projecting the data onto a smaller number of orthogonal (uncorrelated) dimensions.\n",
    "\n",
    "PCA is a linear transformation technique that projects the data onto a lower-dimensional space by finding the directions in which the data varies the most. LDA is a supervised learning technique that projects the data onto a lower-dimensional space by maximizing the separation between different classes. t-SNE is a nonlinear dimensionality reduction technique that projects the data onto a lower-dimensional space by preserving the local structure of the data.\n",
    "\n",
    "It is important to carefully consider the appropriate dimensionality reduction technique for a given dataset, as the choice of technique can have a significant impact on the results."
   ]
  },
  {
   "cell_type": "markdown",
   "id": "d1619857",
   "metadata": {
    "papermill": {
     "duration": 0.019198,
     "end_time": "2022-12-30T13:29:41.323072",
     "exception": false,
     "start_time": "2022-12-30T13:29:41.303874",
     "status": "completed"
    },
    "tags": []
   },
   "source": [
    "# 6. Anomaly detection:"
   ]
  },
  {
   "cell_type": "markdown",
   "id": "6d0ef52e",
   "metadata": {
    "papermill": {
     "duration": 0.01821,
     "end_time": "2022-12-30T13:29:41.359911",
     "exception": false,
     "start_time": "2022-12-30T13:29:41.341701",
     "status": "completed"
    },
    "tags": []
   },
   "source": [
    "Here is an example using a sample dataset of student grades with some anomalous values:\n",
    "\n",
    "**/kaggle/input/data-detectivetips-and-tricks/student_grades_with_anamolies.csv**\n"
   ]
  },
  {
   "cell_type": "markdown",
   "id": "0c01a0c7",
   "metadata": {
    "papermill": {
     "duration": 0.018766,
     "end_time": "2022-12-30T13:29:41.397479",
     "exception": false,
     "start_time": "2022-12-30T13:29:41.378713",
     "status": "completed"
    },
    "tags": []
   },
   "source": [
    "This dataset includes the names of students and their grades on a midterm and final exam. The grades are out of 100. The values for Kim's midterm grade (110) and Nancy's final grade (105) are anomalous, as they are much higher than the other values in the dataset.\n",
    "\n"
   ]
  },
  {
   "cell_type": "markdown",
   "id": "1b4f2224",
   "metadata": {
    "papermill": {
     "duration": 0.018241,
     "end_time": "2022-12-30T13:29:41.434377",
     "exception": false,
     "start_time": "2022-12-30T13:29:41.416136",
     "status": "completed"
    },
    "tags": []
   },
   "source": [
    "First, we will import the necessary libraries and read in the data from a CSV file:"
   ]
  },
  {
   "cell_type": "code",
   "execution_count": 22,
   "id": "e1412e97",
   "metadata": {
    "execution": {
     "iopub.execute_input": "2022-12-30T13:29:41.473572Z",
     "iopub.status.busy": "2022-12-30T13:29:41.473159Z",
     "iopub.status.idle": "2022-12-30T13:29:41.622293Z",
     "shell.execute_reply": "2022-12-30T13:29:41.620912Z"
    },
    "papermill": {
     "duration": 0.17195,
     "end_time": "2022-12-30T13:29:41.625122",
     "exception": false,
     "start_time": "2022-12-30T13:29:41.453172",
     "status": "completed"
    },
    "tags": []
   },
   "outputs": [
    {
     "data": {
      "text/html": [
       "<div>\n",
       "<style scoped>\n",
       "    .dataframe tbody tr th:only-of-type {\n",
       "        vertical-align: middle;\n",
       "    }\n",
       "\n",
       "    .dataframe tbody tr th {\n",
       "        vertical-align: top;\n",
       "    }\n",
       "\n",
       "    .dataframe thead th {\n",
       "        text-align: right;\n",
       "    }\n",
       "</style>\n",
       "<table border=\"1\" class=\"dataframe\">\n",
       "  <thead>\n",
       "    <tr style=\"text-align: right;\">\n",
       "      <th></th>\n",
       "      <th>Student</th>\n",
       "      <th>Midterm</th>\n",
       "      <th>Final</th>\n",
       "    </tr>\n",
       "  </thead>\n",
       "  <tbody>\n",
       "    <tr>\n",
       "      <th>0</th>\n",
       "      <td>Alice</td>\n",
       "      <td>80</td>\n",
       "      <td>85</td>\n",
       "    </tr>\n",
       "    <tr>\n",
       "      <th>1</th>\n",
       "      <td>Bob</td>\n",
       "      <td>75</td>\n",
       "      <td>70</td>\n",
       "    </tr>\n",
       "    <tr>\n",
       "      <th>2</th>\n",
       "      <td>Charlie</td>\n",
       "      <td>90</td>\n",
       "      <td>95</td>\n",
       "    </tr>\n",
       "    <tr>\n",
       "      <th>3</th>\n",
       "      <td>Dave</td>\n",
       "      <td>65</td>\n",
       "      <td>80</td>\n",
       "    </tr>\n",
       "    <tr>\n",
       "      <th>4</th>\n",
       "      <td>Eve</td>\n",
       "      <td>85</td>\n",
       "      <td>90</td>\n",
       "    </tr>\n",
       "    <tr>\n",
       "      <th>5</th>\n",
       "      <td>Frank</td>\n",
       "      <td>70</td>\n",
       "      <td>75</td>\n",
       "    </tr>\n",
       "    <tr>\n",
       "      <th>6</th>\n",
       "      <td>Gary</td>\n",
       "      <td>95</td>\n",
       "      <td>100</td>\n",
       "    </tr>\n",
       "    <tr>\n",
       "      <th>7</th>\n",
       "      <td>Holly</td>\n",
       "      <td>60</td>\n",
       "      <td>65</td>\n",
       "    </tr>\n",
       "    <tr>\n",
       "      <th>8</th>\n",
       "      <td>Ivy</td>\n",
       "      <td>80</td>\n",
       "      <td>85</td>\n",
       "    </tr>\n",
       "    <tr>\n",
       "      <th>9</th>\n",
       "      <td>Jill</td>\n",
       "      <td>75</td>\n",
       "      <td>80</td>\n",
       "    </tr>\n",
       "    <tr>\n",
       "      <th>10</th>\n",
       "      <td>Kim</td>\n",
       "      <td>110</td>\n",
       "      <td>100</td>\n",
       "    </tr>\n",
       "    <tr>\n",
       "      <th>11</th>\n",
       "      <td>Larry</td>\n",
       "      <td>70</td>\n",
       "      <td>75</td>\n",
       "    </tr>\n",
       "    <tr>\n",
       "      <th>12</th>\n",
       "      <td>Mandy</td>\n",
       "      <td>50</td>\n",
       "      <td>60</td>\n",
       "    </tr>\n",
       "    <tr>\n",
       "      <th>13</th>\n",
       "      <td>Nancy</td>\n",
       "      <td>95</td>\n",
       "      <td>105</td>\n",
       "    </tr>\n",
       "  </tbody>\n",
       "</table>\n",
       "</div>"
      ],
      "text/plain": [
       "    Student  Midterm  Final\n",
       "0     Alice       80     85\n",
       "1       Bob       75     70\n",
       "2   Charlie       90     95\n",
       "3      Dave       65     80\n",
       "4       Eve       85     90\n",
       "5     Frank       70     75\n",
       "6      Gary       95    100\n",
       "7     Holly       60     65\n",
       "8       Ivy       80     85\n",
       "9      Jill       75     80\n",
       "10      Kim      110    100\n",
       "11    Larry       70     75\n",
       "12    Mandy       50     60\n",
       "13    Nancy       95    105"
      ]
     },
     "execution_count": 22,
     "metadata": {},
     "output_type": "execute_result"
    }
   ],
   "source": [
    "import pandas as pd\n",
    "from sklearn.ensemble import IsolationForest\n",
    "\n",
    "# Read in the data from a CSV file\n",
    "df = pd.read_csv('/kaggle/input/data-detectivetips-and-tricks/student_grades_with_anamolies.csv')\n",
    "df"
   ]
  },
  {
   "cell_type": "markdown",
   "id": "842053d4",
   "metadata": {
    "papermill": {
     "duration": 0.018682,
     "end_time": "2022-12-30T13:29:41.663954",
     "exception": false,
     "start_time": "2022-12-30T13:29:41.645272",
     "status": "completed"
    },
    "tags": []
   },
   "source": [
    "One common technique for anomaly detection is isolation forest, which is a type of unsupervised machine learning algorithm that can identify anomalous data points by building decision trees on randomly selected subsets of the data and using the number of splits required to isolate a data point as a measure of abnormality.\n",
    "\n",
    "Here is an example of using isolation forest to detect anomalous values in the midterm grades:"
   ]
  },
  {
   "cell_type": "code",
   "execution_count": 23,
   "id": "b102778b",
   "metadata": {
    "execution": {
     "iopub.execute_input": "2022-12-30T13:29:41.704677Z",
     "iopub.status.busy": "2022-12-30T13:29:41.704282Z",
     "iopub.status.idle": "2022-12-30T13:29:41.950997Z",
     "shell.execute_reply": "2022-12-30T13:29:41.948601Z"
    },
    "papermill": {
     "duration": 0.271842,
     "end_time": "2022-12-30T13:29:41.954802",
     "exception": false,
     "start_time": "2022-12-30T13:29:41.682960",
     "status": "completed"
    },
    "tags": []
   },
   "outputs": [
    {
     "name": "stdout",
     "output_type": "stream",
     "text": [
      "[ 1  1  1  1  1  1  1  1  1  1 -1  1 -1  1]\n"
     ]
    },
    {
     "name": "stderr",
     "output_type": "stream",
     "text": [
      "/opt/conda/lib/python3.7/site-packages/sklearn/base.py:451: UserWarning: X does not have valid feature names, but IsolationForest was fitted with feature names\n",
      "  \"X does not have valid feature names, but\"\n"
     ]
    }
   ],
   "source": [
    "# Create an isolation forest model\n",
    "model = IsolationForest(contamination=0.1)\n",
    "\n",
    "# Fit the model to the data\n",
    "model.fit(df[['Midterm']])\n",
    "\n",
    "# Predict the anomalies\n",
    "anomalies = model.predict(df[['Midterm']])\n",
    "\n",
    "# Print the anomalies\n",
    "print(anomalies)\n"
   ]
  },
  {
   "cell_type": "markdown",
   "id": "b26cca65",
   "metadata": {
    "papermill": {
     "duration": 0.02019,
     "end_time": "2022-12-30T13:29:41.995459",
     "exception": false,
     "start_time": "2022-12-30T13:29:41.975269",
     "status": "completed"
    },
    "tags": []
   },
   "source": [
    "The contamination parameter specifies the expected proportion of anomalous values in the data. In this example, we set it to 0.1, which means that we expect 10% of the values to be anomalous.\n",
    "\n",
    "I hope this helps! Let me know if you have any questions or if you would like to see examples of other anomaly detection techniques."
   ]
  },
  {
   "cell_type": "markdown",
   "id": "6d9fb8c5",
   "metadata": {
    "papermill": {
     "duration": 0.019029,
     "end_time": "2022-12-30T13:29:42.034761",
     "exception": false,
     "start_time": "2022-12-30T13:29:42.015732",
     "status": "completed"
    },
    "tags": []
   },
   "source": [
    "**More about it:**"
   ]
  },
  {
   "cell_type": "markdown",
   "id": "709c2f83",
   "metadata": {
    "papermill": {
     "duration": 0.021562,
     "end_time": "2022-12-30T13:29:42.075949",
     "exception": false,
     "start_time": "2022-12-30T13:29:42.054387",
     "status": "completed"
    },
    "tags": []
   },
   "source": [
    "Anomaly detection, also known as outlier detection, is the process of identifying data points that are unusual or do not conform to the expected pattern of the data. It is often used in a variety of applications, such as fraud detection, network intrusion detection, and fault diagnosis.\n",
    "\n",
    "There are a variety of techniques for anomaly detection, including statistical methods, machine learning algorithms, and data mining techniques. Statistical methods involve calculating statistical measures such as mean, median, and standard deviation, and identifying data points that are significantly different from the expected values. Machine learning algorithms such as isolation forests and one-class support vector machines can be trained on normal data and used to identify anomalies in new data. Data mining techniques such as clustering can be used to identify data points that are significantly different from the majority of the data.\n",
    "\n",
    "It is important to carefully consider the appropriate technique for a given dataset, as the choice of technique can have a significant impact on the results. It is also important to consider the specific context and requirements of the application, as well as the cost of false positives and false negatives.\n",
    "\n"
   ]
  },
  {
   "cell_type": "markdown",
   "id": "82fcdfbf",
   "metadata": {
    "papermill": {
     "duration": 0.019783,
     "end_time": "2022-12-30T13:29:42.116710",
     "exception": false,
     "start_time": "2022-12-30T13:29:42.096927",
     "status": "completed"
    },
    "tags": []
   },
   "source": [
    "# 7. Feature engineering"
   ]
  },
  {
   "cell_type": "markdown",
   "id": "6e54c785",
   "metadata": {
    "papermill": {
     "duration": 0.020291,
     "end_time": "2022-12-30T13:29:42.157885",
     "exception": false,
     "start_time": "2022-12-30T13:29:42.137594",
     "status": "completed"
    },
    "tags": []
   },
   "source": [
    "Feature engineering is the process of creating new features (variables) from the existing data that can be used to improve the performance of machine learning models. It is an important step in the data analysis process as it can help extract more meaningful information from the data and enhance the predictive power of models.\n",
    "\n",
    "There are a variety of techniques for feature engineering, including:\n",
    "\n",
    "* Combining multiple features: Creating new features by combining existing features using arithmetic operations or logical statements.\n",
    "\n",
    "* Deriving new features from existing features: Creating new features by applying mathematical transformations or aggregations to existing features.\n",
    "\n",
    "* Encoding categorical variables: Converting categorical variables into numerical form so that they can be used in machine learning models.\n",
    "\n",
    "It is important to carefully consider the appropriate approach for feature engineering for a given dataset, as the choice of features can have a significant impact on the results. It is often helpful to explore the data and identify potential opportunities for feature engineering, such as combining or transforming variables to better capture relationships or patterns in the data."
   ]
  },
  {
   "cell_type": "markdown",
   "id": "34b258b6",
   "metadata": {
    "papermill": {
     "duration": 0.019858,
     "end_time": "2022-12-30T13:29:42.197916",
     "exception": false,
     "start_time": "2022-12-30T13:29:42.178058",
     "status": "completed"
    },
    "tags": []
   },
   "source": [
    "Here is an example using a sample dataset of student grades:\n",
    "\n",
    "**/kaggle/input/data-detectivetips-and-tricks/student_grades.csv**"
   ]
  },
  {
   "cell_type": "code",
   "execution_count": 24,
   "id": "57cf7a22",
   "metadata": {
    "execution": {
     "iopub.execute_input": "2022-12-30T13:29:42.239300Z",
     "iopub.status.busy": "2022-12-30T13:29:42.238883Z",
     "iopub.status.idle": "2022-12-30T13:29:42.256745Z",
     "shell.execute_reply": "2022-12-30T13:29:42.255431Z"
    },
    "papermill": {
     "duration": 0.041815,
     "end_time": "2022-12-30T13:29:42.259933",
     "exception": false,
     "start_time": "2022-12-30T13:29:42.218118",
     "status": "completed"
    },
    "tags": []
   },
   "outputs": [
    {
     "data": {
      "text/html": [
       "<div>\n",
       "<style scoped>\n",
       "    .dataframe tbody tr th:only-of-type {\n",
       "        vertical-align: middle;\n",
       "    }\n",
       "\n",
       "    .dataframe tbody tr th {\n",
       "        vertical-align: top;\n",
       "    }\n",
       "\n",
       "    .dataframe thead th {\n",
       "        text-align: right;\n",
       "    }\n",
       "</style>\n",
       "<table border=\"1\" class=\"dataframe\">\n",
       "  <thead>\n",
       "    <tr style=\"text-align: right;\">\n",
       "      <th></th>\n",
       "      <th>Student</th>\n",
       "      <th>Midterm</th>\n",
       "      <th>Final</th>\n",
       "      <th>Gender</th>\n",
       "    </tr>\n",
       "  </thead>\n",
       "  <tbody>\n",
       "    <tr>\n",
       "      <th>0</th>\n",
       "      <td>Alice</td>\n",
       "      <td>80</td>\n",
       "      <td>85</td>\n",
       "      <td>Female</td>\n",
       "    </tr>\n",
       "    <tr>\n",
       "      <th>1</th>\n",
       "      <td>Bob</td>\n",
       "      <td>75</td>\n",
       "      <td>70</td>\n",
       "      <td>Male</td>\n",
       "    </tr>\n",
       "    <tr>\n",
       "      <th>2</th>\n",
       "      <td>Charlie</td>\n",
       "      <td>90</td>\n",
       "      <td>95</td>\n",
       "      <td>Male</td>\n",
       "    </tr>\n",
       "    <tr>\n",
       "      <th>3</th>\n",
       "      <td>Dave</td>\n",
       "      <td>65</td>\n",
       "      <td>80</td>\n",
       "      <td>Male</td>\n",
       "    </tr>\n",
       "    <tr>\n",
       "      <th>4</th>\n",
       "      <td>Eve</td>\n",
       "      <td>85</td>\n",
       "      <td>90</td>\n",
       "      <td>Female</td>\n",
       "    </tr>\n",
       "    <tr>\n",
       "      <th>5</th>\n",
       "      <td>Frank</td>\n",
       "      <td>70</td>\n",
       "      <td>75</td>\n",
       "      <td>Male</td>\n",
       "    </tr>\n",
       "    <tr>\n",
       "      <th>6</th>\n",
       "      <td>Gary</td>\n",
       "      <td>95</td>\n",
       "      <td>100</td>\n",
       "      <td>Male</td>\n",
       "    </tr>\n",
       "    <tr>\n",
       "      <th>7</th>\n",
       "      <td>Holly</td>\n",
       "      <td>60</td>\n",
       "      <td>65</td>\n",
       "      <td>Female</td>\n",
       "    </tr>\n",
       "    <tr>\n",
       "      <th>8</th>\n",
       "      <td>Ivy</td>\n",
       "      <td>80</td>\n",
       "      <td>85</td>\n",
       "      <td>Female</td>\n",
       "    </tr>\n",
       "    <tr>\n",
       "      <th>9</th>\n",
       "      <td>Jill</td>\n",
       "      <td>75</td>\n",
       "      <td>80</td>\n",
       "      <td>Female</td>\n",
       "    </tr>\n",
       "  </tbody>\n",
       "</table>\n",
       "</div>"
      ],
      "text/plain": [
       "   Student  Midterm  Final  Gender\n",
       "0    Alice       80     85  Female\n",
       "1      Bob       75     70    Male\n",
       "2  Charlie       90     95    Male\n",
       "3     Dave       65     80    Male\n",
       "4      Eve       85     90  Female\n",
       "5    Frank       70     75    Male\n",
       "6     Gary       95    100    Male\n",
       "7    Holly       60     65  Female\n",
       "8      Ivy       80     85  Female\n",
       "9     Jill       75     80  Female"
      ]
     },
     "execution_count": 24,
     "metadata": {},
     "output_type": "execute_result"
    }
   ],
   "source": [
    "import pandas as pd\n",
    "\n",
    "# Read in the data from a CSV file\n",
    "df = pd.read_csv('/kaggle/input/data-detectivetips-and-tricks/student_grade.csv')\n",
    "df"
   ]
  },
  {
   "cell_type": "markdown",
   "id": "22c34266",
   "metadata": {
    "papermill": {
     "duration": 0.02055,
     "end_time": "2022-12-30T13:29:42.300707",
     "exception": false,
     "start_time": "2022-12-30T13:29:42.280157",
     "status": "completed"
    },
    "tags": []
   },
   "source": [
    "Feature engineering is the process of creating new features (variables) from the existing data that can be used to improve the performance of machine learning models. There are a variety of techniques for feature engineering, including:"
   ]
  },
  {
   "cell_type": "markdown",
   "id": "be799d8f",
   "metadata": {
    "papermill": {
     "duration": 0.019855,
     "end_time": "2022-12-30T13:29:42.340935",
     "exception": false,
     "start_time": "2022-12-30T13:29:42.321080",
     "status": "completed"
    },
    "tags": []
   },
   "source": [
    "### Combining multiple features:"
   ]
  },
  {
   "cell_type": "code",
   "execution_count": 25,
   "id": "cc1936ea",
   "metadata": {
    "execution": {
     "iopub.execute_input": "2022-12-30T13:29:42.382881Z",
     "iopub.status.busy": "2022-12-30T13:29:42.382489Z",
     "iopub.status.idle": "2022-12-30T13:29:42.396192Z",
     "shell.execute_reply": "2022-12-30T13:29:42.395005Z"
    },
    "papermill": {
     "duration": 0.037427,
     "end_time": "2022-12-30T13:29:42.398787",
     "exception": false,
     "start_time": "2022-12-30T13:29:42.361360",
     "status": "completed"
    },
    "tags": []
   },
   "outputs": [
    {
     "data": {
      "text/html": [
       "<div>\n",
       "<style scoped>\n",
       "    .dataframe tbody tr th:only-of-type {\n",
       "        vertical-align: middle;\n",
       "    }\n",
       "\n",
       "    .dataframe tbody tr th {\n",
       "        vertical-align: top;\n",
       "    }\n",
       "\n",
       "    .dataframe thead th {\n",
       "        text-align: right;\n",
       "    }\n",
       "</style>\n",
       "<table border=\"1\" class=\"dataframe\">\n",
       "  <thead>\n",
       "    <tr style=\"text-align: right;\">\n",
       "      <th></th>\n",
       "      <th>Student</th>\n",
       "      <th>Midterm</th>\n",
       "      <th>Final</th>\n",
       "      <th>Gender</th>\n",
       "      <th>Total</th>\n",
       "    </tr>\n",
       "  </thead>\n",
       "  <tbody>\n",
       "    <tr>\n",
       "      <th>0</th>\n",
       "      <td>Alice</td>\n",
       "      <td>80</td>\n",
       "      <td>85</td>\n",
       "      <td>Female</td>\n",
       "      <td>165</td>\n",
       "    </tr>\n",
       "    <tr>\n",
       "      <th>1</th>\n",
       "      <td>Bob</td>\n",
       "      <td>75</td>\n",
       "      <td>70</td>\n",
       "      <td>Male</td>\n",
       "      <td>145</td>\n",
       "    </tr>\n",
       "    <tr>\n",
       "      <th>2</th>\n",
       "      <td>Charlie</td>\n",
       "      <td>90</td>\n",
       "      <td>95</td>\n",
       "      <td>Male</td>\n",
       "      <td>185</td>\n",
       "    </tr>\n",
       "    <tr>\n",
       "      <th>3</th>\n",
       "      <td>Dave</td>\n",
       "      <td>65</td>\n",
       "      <td>80</td>\n",
       "      <td>Male</td>\n",
       "      <td>145</td>\n",
       "    </tr>\n",
       "    <tr>\n",
       "      <th>4</th>\n",
       "      <td>Eve</td>\n",
       "      <td>85</td>\n",
       "      <td>90</td>\n",
       "      <td>Female</td>\n",
       "      <td>175</td>\n",
       "    </tr>\n",
       "    <tr>\n",
       "      <th>5</th>\n",
       "      <td>Frank</td>\n",
       "      <td>70</td>\n",
       "      <td>75</td>\n",
       "      <td>Male</td>\n",
       "      <td>145</td>\n",
       "    </tr>\n",
       "    <tr>\n",
       "      <th>6</th>\n",
       "      <td>Gary</td>\n",
       "      <td>95</td>\n",
       "      <td>100</td>\n",
       "      <td>Male</td>\n",
       "      <td>195</td>\n",
       "    </tr>\n",
       "    <tr>\n",
       "      <th>7</th>\n",
       "      <td>Holly</td>\n",
       "      <td>60</td>\n",
       "      <td>65</td>\n",
       "      <td>Female</td>\n",
       "      <td>125</td>\n",
       "    </tr>\n",
       "    <tr>\n",
       "      <th>8</th>\n",
       "      <td>Ivy</td>\n",
       "      <td>80</td>\n",
       "      <td>85</td>\n",
       "      <td>Female</td>\n",
       "      <td>165</td>\n",
       "    </tr>\n",
       "    <tr>\n",
       "      <th>9</th>\n",
       "      <td>Jill</td>\n",
       "      <td>75</td>\n",
       "      <td>80</td>\n",
       "      <td>Female</td>\n",
       "      <td>155</td>\n",
       "    </tr>\n",
       "  </tbody>\n",
       "</table>\n",
       "</div>"
      ],
      "text/plain": [
       "   Student  Midterm  Final  Gender  Total\n",
       "0    Alice       80     85  Female    165\n",
       "1      Bob       75     70    Male    145\n",
       "2  Charlie       90     95    Male    185\n",
       "3     Dave       65     80    Male    145\n",
       "4      Eve       85     90  Female    175\n",
       "5    Frank       70     75    Male    145\n",
       "6     Gary       95    100    Male    195\n",
       "7    Holly       60     65  Female    125\n",
       "8      Ivy       80     85  Female    165\n",
       "9     Jill       75     80  Female    155"
      ]
     },
     "execution_count": 25,
     "metadata": {},
     "output_type": "execute_result"
    }
   ],
   "source": [
    "# Create a new feature by combining two existing features\n",
    "df['Total'] = df['Midterm'] + df['Final']\n",
    "df"
   ]
  },
  {
   "cell_type": "markdown",
   "id": "c86284a1",
   "metadata": {
    "papermill": {
     "duration": 0.019663,
     "end_time": "2022-12-30T13:29:42.439095",
     "exception": false,
     "start_time": "2022-12-30T13:29:42.419432",
     "status": "completed"
    },
    "tags": []
   },
   "source": [
    "### Deriving new features from existing features:"
   ]
  },
  {
   "cell_type": "code",
   "execution_count": 26,
   "id": "baddb7fc",
   "metadata": {
    "execution": {
     "iopub.execute_input": "2022-12-30T13:29:42.480693Z",
     "iopub.status.busy": "2022-12-30T13:29:42.480264Z",
     "iopub.status.idle": "2022-12-30T13:29:42.499218Z",
     "shell.execute_reply": "2022-12-30T13:29:42.497940Z"
    },
    "papermill": {
     "duration": 0.042924,
     "end_time": "2022-12-30T13:29:42.501778",
     "exception": false,
     "start_time": "2022-12-30T13:29:42.458854",
     "status": "completed"
    },
    "tags": []
   },
   "outputs": [
    {
     "data": {
      "text/html": [
       "<div>\n",
       "<style scoped>\n",
       "    .dataframe tbody tr th:only-of-type {\n",
       "        vertical-align: middle;\n",
       "    }\n",
       "\n",
       "    .dataframe tbody tr th {\n",
       "        vertical-align: top;\n",
       "    }\n",
       "\n",
       "    .dataframe thead th {\n",
       "        text-align: right;\n",
       "    }\n",
       "</style>\n",
       "<table border=\"1\" class=\"dataframe\">\n",
       "  <thead>\n",
       "    <tr style=\"text-align: right;\">\n",
       "      <th></th>\n",
       "      <th>Student</th>\n",
       "      <th>Midterm</th>\n",
       "      <th>Final</th>\n",
       "      <th>Gender</th>\n",
       "      <th>Total</th>\n",
       "      <th>Average</th>\n",
       "      <th>Sqrt_Midterm</th>\n",
       "    </tr>\n",
       "  </thead>\n",
       "  <tbody>\n",
       "    <tr>\n",
       "      <th>0</th>\n",
       "      <td>Alice</td>\n",
       "      <td>80</td>\n",
       "      <td>85</td>\n",
       "      <td>Female</td>\n",
       "      <td>165</td>\n",
       "      <td>82.5</td>\n",
       "      <td>8.944272</td>\n",
       "    </tr>\n",
       "    <tr>\n",
       "      <th>1</th>\n",
       "      <td>Bob</td>\n",
       "      <td>75</td>\n",
       "      <td>70</td>\n",
       "      <td>Male</td>\n",
       "      <td>145</td>\n",
       "      <td>72.5</td>\n",
       "      <td>8.660254</td>\n",
       "    </tr>\n",
       "    <tr>\n",
       "      <th>2</th>\n",
       "      <td>Charlie</td>\n",
       "      <td>90</td>\n",
       "      <td>95</td>\n",
       "      <td>Male</td>\n",
       "      <td>185</td>\n",
       "      <td>92.5</td>\n",
       "      <td>9.486833</td>\n",
       "    </tr>\n",
       "    <tr>\n",
       "      <th>3</th>\n",
       "      <td>Dave</td>\n",
       "      <td>65</td>\n",
       "      <td>80</td>\n",
       "      <td>Male</td>\n",
       "      <td>145</td>\n",
       "      <td>72.5</td>\n",
       "      <td>8.062258</td>\n",
       "    </tr>\n",
       "    <tr>\n",
       "      <th>4</th>\n",
       "      <td>Eve</td>\n",
       "      <td>85</td>\n",
       "      <td>90</td>\n",
       "      <td>Female</td>\n",
       "      <td>175</td>\n",
       "      <td>87.5</td>\n",
       "      <td>9.219544</td>\n",
       "    </tr>\n",
       "    <tr>\n",
       "      <th>5</th>\n",
       "      <td>Frank</td>\n",
       "      <td>70</td>\n",
       "      <td>75</td>\n",
       "      <td>Male</td>\n",
       "      <td>145</td>\n",
       "      <td>72.5</td>\n",
       "      <td>8.366600</td>\n",
       "    </tr>\n",
       "    <tr>\n",
       "      <th>6</th>\n",
       "      <td>Gary</td>\n",
       "      <td>95</td>\n",
       "      <td>100</td>\n",
       "      <td>Male</td>\n",
       "      <td>195</td>\n",
       "      <td>97.5</td>\n",
       "      <td>9.746794</td>\n",
       "    </tr>\n",
       "    <tr>\n",
       "      <th>7</th>\n",
       "      <td>Holly</td>\n",
       "      <td>60</td>\n",
       "      <td>65</td>\n",
       "      <td>Female</td>\n",
       "      <td>125</td>\n",
       "      <td>62.5</td>\n",
       "      <td>7.745967</td>\n",
       "    </tr>\n",
       "    <tr>\n",
       "      <th>8</th>\n",
       "      <td>Ivy</td>\n",
       "      <td>80</td>\n",
       "      <td>85</td>\n",
       "      <td>Female</td>\n",
       "      <td>165</td>\n",
       "      <td>82.5</td>\n",
       "      <td>8.944272</td>\n",
       "    </tr>\n",
       "    <tr>\n",
       "      <th>9</th>\n",
       "      <td>Jill</td>\n",
       "      <td>75</td>\n",
       "      <td>80</td>\n",
       "      <td>Female</td>\n",
       "      <td>155</td>\n",
       "      <td>77.5</td>\n",
       "      <td>8.660254</td>\n",
       "    </tr>\n",
       "  </tbody>\n",
       "</table>\n",
       "</div>"
      ],
      "text/plain": [
       "   Student  Midterm  Final  Gender  Total  Average  Sqrt_Midterm\n",
       "0    Alice       80     85  Female    165     82.5      8.944272\n",
       "1      Bob       75     70    Male    145     72.5      8.660254\n",
       "2  Charlie       90     95    Male    185     92.5      9.486833\n",
       "3     Dave       65     80    Male    145     72.5      8.062258\n",
       "4      Eve       85     90  Female    175     87.5      9.219544\n",
       "5    Frank       70     75    Male    145     72.5      8.366600\n",
       "6     Gary       95    100    Male    195     97.5      9.746794\n",
       "7    Holly       60     65  Female    125     62.5      7.745967\n",
       "8      Ivy       80     85  Female    165     82.5      8.944272\n",
       "9     Jill       75     80  Female    155     77.5      8.660254"
      ]
     },
     "execution_count": 26,
     "metadata": {},
     "output_type": "execute_result"
    }
   ],
   "source": [
    "# Create a new feature by dividing one feature by another\n",
    "df['Average'] = df['Total'] / 2\n",
    "\n",
    "# Create a new feature by taking the square root of a feature\n",
    "import numpy as np\n",
    "df['Sqrt_Midterm'] = np.sqrt(df['Midterm'])\n",
    "df"
   ]
  },
  {
   "cell_type": "markdown",
   "id": "b56f8157",
   "metadata": {
    "papermill": {
     "duration": 0.020481,
     "end_time": "2022-12-30T13:29:42.543394",
     "exception": false,
     "start_time": "2022-12-30T13:29:42.522913",
     "status": "completed"
    },
    "tags": []
   },
   "source": [
    "### Encoding categorical variables:"
   ]
  },
  {
   "cell_type": "code",
   "execution_count": 27,
   "id": "ac6ed1bc",
   "metadata": {
    "execution": {
     "iopub.execute_input": "2022-12-30T13:29:42.586058Z",
     "iopub.status.busy": "2022-12-30T13:29:42.585575Z",
     "iopub.status.idle": "2022-12-30T13:29:42.606345Z",
     "shell.execute_reply": "2022-12-30T13:29:42.605166Z"
    },
    "papermill": {
     "duration": 0.044953,
     "end_time": "2022-12-30T13:29:42.609153",
     "exception": false,
     "start_time": "2022-12-30T13:29:42.564200",
     "status": "completed"
    },
    "tags": []
   },
   "outputs": [
    {
     "data": {
      "text/html": [
       "<div>\n",
       "<style scoped>\n",
       "    .dataframe tbody tr th:only-of-type {\n",
       "        vertical-align: middle;\n",
       "    }\n",
       "\n",
       "    .dataframe tbody tr th {\n",
       "        vertical-align: top;\n",
       "    }\n",
       "\n",
       "    .dataframe thead th {\n",
       "        text-align: right;\n",
       "    }\n",
       "</style>\n",
       "<table border=\"1\" class=\"dataframe\">\n",
       "  <thead>\n",
       "    <tr style=\"text-align: right;\">\n",
       "      <th></th>\n",
       "      <th>Student</th>\n",
       "      <th>Midterm</th>\n",
       "      <th>Final</th>\n",
       "      <th>Total</th>\n",
       "      <th>Average</th>\n",
       "      <th>Sqrt_Midterm</th>\n",
       "      <th>Gender_Female</th>\n",
       "      <th>Gender_Male</th>\n",
       "    </tr>\n",
       "  </thead>\n",
       "  <tbody>\n",
       "    <tr>\n",
       "      <th>0</th>\n",
       "      <td>Alice</td>\n",
       "      <td>80</td>\n",
       "      <td>85</td>\n",
       "      <td>165</td>\n",
       "      <td>82.5</td>\n",
       "      <td>8.944272</td>\n",
       "      <td>1</td>\n",
       "      <td>0</td>\n",
       "    </tr>\n",
       "    <tr>\n",
       "      <th>1</th>\n",
       "      <td>Bob</td>\n",
       "      <td>75</td>\n",
       "      <td>70</td>\n",
       "      <td>145</td>\n",
       "      <td>72.5</td>\n",
       "      <td>8.660254</td>\n",
       "      <td>0</td>\n",
       "      <td>1</td>\n",
       "    </tr>\n",
       "    <tr>\n",
       "      <th>2</th>\n",
       "      <td>Charlie</td>\n",
       "      <td>90</td>\n",
       "      <td>95</td>\n",
       "      <td>185</td>\n",
       "      <td>92.5</td>\n",
       "      <td>9.486833</td>\n",
       "      <td>0</td>\n",
       "      <td>1</td>\n",
       "    </tr>\n",
       "    <tr>\n",
       "      <th>3</th>\n",
       "      <td>Dave</td>\n",
       "      <td>65</td>\n",
       "      <td>80</td>\n",
       "      <td>145</td>\n",
       "      <td>72.5</td>\n",
       "      <td>8.062258</td>\n",
       "      <td>0</td>\n",
       "      <td>1</td>\n",
       "    </tr>\n",
       "    <tr>\n",
       "      <th>4</th>\n",
       "      <td>Eve</td>\n",
       "      <td>85</td>\n",
       "      <td>90</td>\n",
       "      <td>175</td>\n",
       "      <td>87.5</td>\n",
       "      <td>9.219544</td>\n",
       "      <td>1</td>\n",
       "      <td>0</td>\n",
       "    </tr>\n",
       "    <tr>\n",
       "      <th>5</th>\n",
       "      <td>Frank</td>\n",
       "      <td>70</td>\n",
       "      <td>75</td>\n",
       "      <td>145</td>\n",
       "      <td>72.5</td>\n",
       "      <td>8.366600</td>\n",
       "      <td>0</td>\n",
       "      <td>1</td>\n",
       "    </tr>\n",
       "    <tr>\n",
       "      <th>6</th>\n",
       "      <td>Gary</td>\n",
       "      <td>95</td>\n",
       "      <td>100</td>\n",
       "      <td>195</td>\n",
       "      <td>97.5</td>\n",
       "      <td>9.746794</td>\n",
       "      <td>0</td>\n",
       "      <td>1</td>\n",
       "    </tr>\n",
       "    <tr>\n",
       "      <th>7</th>\n",
       "      <td>Holly</td>\n",
       "      <td>60</td>\n",
       "      <td>65</td>\n",
       "      <td>125</td>\n",
       "      <td>62.5</td>\n",
       "      <td>7.745967</td>\n",
       "      <td>1</td>\n",
       "      <td>0</td>\n",
       "    </tr>\n",
       "    <tr>\n",
       "      <th>8</th>\n",
       "      <td>Ivy</td>\n",
       "      <td>80</td>\n",
       "      <td>85</td>\n",
       "      <td>165</td>\n",
       "      <td>82.5</td>\n",
       "      <td>8.944272</td>\n",
       "      <td>1</td>\n",
       "      <td>0</td>\n",
       "    </tr>\n",
       "    <tr>\n",
       "      <th>9</th>\n",
       "      <td>Jill</td>\n",
       "      <td>75</td>\n",
       "      <td>80</td>\n",
       "      <td>155</td>\n",
       "      <td>77.5</td>\n",
       "      <td>8.660254</td>\n",
       "      <td>1</td>\n",
       "      <td>0</td>\n",
       "    </tr>\n",
       "  </tbody>\n",
       "</table>\n",
       "</div>"
      ],
      "text/plain": [
       "   Student  Midterm  Final  Total  Average  Sqrt_Midterm  Gender_Female  \\\n",
       "0    Alice       80     85    165     82.5      8.944272              1   \n",
       "1      Bob       75     70    145     72.5      8.660254              0   \n",
       "2  Charlie       90     95    185     92.5      9.486833              0   \n",
       "3     Dave       65     80    145     72.5      8.062258              0   \n",
       "4      Eve       85     90    175     87.5      9.219544              1   \n",
       "5    Frank       70     75    145     72.5      8.366600              0   \n",
       "6     Gary       95    100    195     97.5      9.746794              0   \n",
       "7    Holly       60     65    125     62.5      7.745967              1   \n",
       "8      Ivy       80     85    165     82.5      8.944272              1   \n",
       "9     Jill       75     80    155     77.5      8.660254              1   \n",
       "\n",
       "   Gender_Male  \n",
       "0            0  \n",
       "1            1  \n",
       "2            1  \n",
       "3            1  \n",
       "4            0  \n",
       "5            1  \n",
       "6            1  \n",
       "7            0  \n",
       "8            0  \n",
       "9            0  "
      ]
     },
     "execution_count": 27,
     "metadata": {},
     "output_type": "execute_result"
    }
   ],
   "source": [
    "# One-hot encode a categorical feature\n",
    "df = pd.get_dummies(df, columns=['Gender'])\n",
    "df"
   ]
  },
  {
   "cell_type": "markdown",
   "id": "1b243836",
   "metadata": {
    "papermill": {
     "duration": 0.021061,
     "end_time": "2022-12-30T13:29:42.651534",
     "exception": false,
     "start_time": "2022-12-30T13:29:42.630473",
     "status": "completed"
    },
    "tags": []
   },
   "source": [
    "After doing feature engineering data frame look like above."
   ]
  },
  {
   "cell_type": "markdown",
   "id": "fcf533fe",
   "metadata": {
    "papermill": {
     "duration": 0.020103,
     "end_time": "2022-12-30T13:29:42.693314",
     "exception": false,
     "start_time": "2022-12-30T13:29:42.673211",
     "status": "completed"
    },
    "tags": []
   },
   "source": [
    "# Did you learn something new from this notebook? Let us know in the comments!"
   ]
  },
  {
   "cell_type": "code",
   "execution_count": null,
   "id": "d82daa5e",
   "metadata": {
    "papermill": {
     "duration": 0.020681,
     "end_time": "2022-12-30T13:29:42.735245",
     "exception": false,
     "start_time": "2022-12-30T13:29:42.714564",
     "status": "completed"
    },
    "tags": []
   },
   "outputs": [],
   "source": []
  }
 ],
 "metadata": {
  "kernelspec": {
   "display_name": "Python 3",
   "language": "python",
   "name": "python3"
  },
  "language_info": {
   "codemirror_mode": {
    "name": "ipython",
    "version": 3
   },
   "file_extension": ".py",
   "mimetype": "text/x-python",
   "name": "python",
   "nbconvert_exporter": "python",
   "pygments_lexer": "ipython3",
   "version": "3.7.12"
  },
  "papermill": {
   "default_parameters": {},
   "duration": 20.271665,
   "end_time": "2022-12-30T13:29:45.821440",
   "environment_variables": {},
   "exception": null,
   "input_path": "__notebook__.ipynb",
   "output_path": "__notebook__.ipynb",
   "parameters": {},
   "start_time": "2022-12-30T13:29:25.549775",
   "version": "2.3.4"
  }
 },
 "nbformat": 4,
 "nbformat_minor": 5
}
